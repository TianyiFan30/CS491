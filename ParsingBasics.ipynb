{
  "nbformat": 4,
  "nbformat_minor": 0,
  "metadata": {
    "colab": {
      "provenance": [],
      "collapsed_sections": [
        "t5WbWUmcB1A_",
        "OfRYU89CB8-u",
        "8ZHXr_x28KMF",
        "wSC1oXA19Mda"
      ],
      "include_colab_link": true
    },
    "kernelspec": {
      "name": "python3",
      "display_name": "Python 3"
    },
    "language_info": {
      "name": "python"
    }
  },
  "cells": [
    {
      "cell_type": "markdown",
      "metadata": {
        "id": "view-in-github",
        "colab_type": "text"
      },
      "source": [
        "<a href=\"https://colab.research.google.com/github/TianyiFan30/CS491/blob/main/ParsingBasics.ipynb\" target=\"_parent\"><img src=\"https://colab.research.google.com/assets/colab-badge.svg\" alt=\"Open In Colab\"/></a>"
      ]
    },
    {
      "cell_type": "markdown",
      "source": [
        "# Initialize things"
      ],
      "metadata": {
        "id": "t5WbWUmcB1A_"
      }
    },
    {
      "cell_type": "code",
      "execution_count": null,
      "metadata": {
        "colab": {
          "base_uri": "https://localhost:8080/"
        },
        "id": "4FyUaGuo4MsF",
        "outputId": "4685b820-94f2-430c-f5e0-65664ea5836e"
      },
      "outputs": [
        {
          "output_type": "stream",
          "name": "stderr",
          "text": [
            "[nltk_data] Downloading package punkt to /root/nltk_data...\n",
            "[nltk_data]   Unzipping tokenizers/punkt.zip.\n"
          ]
        }
      ],
      "source": [
        "import nltk\n",
        "from nltk.tokenize import sent_tokenize\n",
        "nltk.download('punkt')\n",
        "\n",
        "import graphviz"
      ]
    },
    {
      "cell_type": "code",
      "source": [
        "nltk.download('averaged_perceptron_tagger')"
      ],
      "metadata": {
        "colab": {
          "base_uri": "https://localhost:8080/"
        },
        "id": "6YM5N09l4QOg",
        "outputId": "235221dc-068d-4c1f-fb1a-490493f6ad77"
      },
      "execution_count": null,
      "outputs": [
        {
          "output_type": "stream",
          "name": "stderr",
          "text": [
            "[nltk_data] Downloading package averaged_perceptron_tagger to\n",
            "[nltk_data]     /root/nltk_data...\n",
            "[nltk_data]   Unzipping taggers/averaged_perceptron_tagger.zip.\n"
          ]
        },
        {
          "output_type": "execute_result",
          "data": {
            "text/plain": [
              "True"
            ]
          },
          "metadata": {},
          "execution_count": 2
        }
      ]
    },
    {
      "cell_type": "code",
      "source": [
        "# Function to convert NLTK tree to graphviz source\n",
        "def to_graphviz(tree):\n",
        "    dot = graphviz.Digraph(comment='Parse Tree')\n",
        "\n",
        "    def add_nodes_edges(tree, dot, parent_index=None, index=0):\n",
        "        node_index = index\n",
        "        if isinstance(tree, nltk.Tree):\n",
        "            node_label = tree.label()\n",
        "            dot.node(str(node_index), node_label)\n",
        "            if parent_index is not None:\n",
        "                dot.edge(str(parent_index), str(node_index))\n",
        "            for child in tree:\n",
        "                index += 1\n",
        "                index = add_nodes_edges(child, dot, node_index, index)\n",
        "        else:\n",
        "            # Leaf node\n",
        "            dot.node(str(index), str(tree))\n",
        "            if parent_index is not None:\n",
        "                dot.edge(str(parent_index), str(index))\n",
        "        return index\n",
        "\n",
        "    add_nodes_edges(tree, dot)\n",
        "    return dot\n",
        "\n",
        "\n",
        "# Convert tree to graphviz source and display\n",
        "\n"
      ],
      "metadata": {
        "id": "hsXp8ZgC5-vf"
      },
      "execution_count": null,
      "outputs": []
    },
    {
      "cell_type": "code",
      "source": [
        "sent = 'I saw the man with the telescope'"
      ],
      "metadata": {
        "id": "Afckk9yYTcEv"
      },
      "execution_count": null,
      "outputs": []
    },
    {
      "cell_type": "markdown",
      "source": [
        "# sentences and grammars: chunking\n"
      ],
      "metadata": {
        "id": "OfRYU89CB8-u"
      }
    },
    {
      "cell_type": "code",
      "source": [
        "\n",
        "grammar = \"\"\"\n",
        "    GERUND_PHRASE: {<VBG><NNS>}                # Gerund Phrase\n",
        "    NP: {<DT>?<JJ>*<NNS>}                      # Noun Phrase\n",
        "    VP: {<MD><VB><JJ>}                         # Verb Phrase for modal verbs\n",
        "    ADJP: {<RB>*<JJ>}                          # Adjective Phrase\n",
        "    NP: {<DT>?<JJ>*<NN.*>}\n",
        "    VP: {<V.*><.*>?<VP>?}\n",
        "\"\"\"\n",
        "\n",
        "parser = nltk.RegexpParser(grammar)"
      ],
      "metadata": {
        "id": "DusXhKnN5P8W"
      },
      "execution_count": null,
      "outputs": []
    },
    {
      "cell_type": "code",
      "source": [
        "#  Tokenizing and tagging\n",
        "tokens = nltk.word_tokenize(sent)\n",
        "tagged = nltk.pos_tag(tokens)\n",
        "print(f'tokens are {tokens}')\n",
        "print(f'POS tags are {tagged}')"
      ],
      "metadata": {
        "colab": {
          "base_uri": "https://localhost:8080/"
        },
        "id": "j0qrh3ui5AKw",
        "outputId": "4749cb02-5635-4109-8b2a-744bb2428c9a"
      },
      "execution_count": null,
      "outputs": [
        {
          "output_type": "stream",
          "name": "stdout",
          "text": [
            "tokens are ['I', 'saw', 'the', 'man', 'with', 'the', 'telescope']\n",
            "POS tags are [('I', 'PRP'), ('saw', 'VBD'), ('the', 'DT'), ('man', 'NN'), ('with', 'IN'), ('the', 'DT'), ('telescope', 'NN')]\n"
          ]
        }
      ]
    },
    {
      "cell_type": "code",
      "source": [
        "# Create tree\n",
        "tree = parser.parse(tagged)\n",
        "print(tree)"
      ],
      "metadata": {
        "colab": {
          "base_uri": "https://localhost:8080/"
        },
        "id": "ZffIRqiE56Yw",
        "outputId": "7a5673e5-2d04-47f0-a418-3c17f8ba4a1e"
      },
      "execution_count": null,
      "outputs": [
        {
          "output_type": "stream",
          "name": "stdout",
          "text": [
            "(S I/PRP saw/VBD the/DT man/NN with/IN the/DT telescope/NN)\n"
          ]
        }
      ]
    },
    {
      "cell_type": "code",
      "source": [
        "dot_source1 = to_graphviz(tree)\n",
        "display(dot_source1)"
      ],
      "metadata": {
        "colab": {
          "base_uri": "https://localhost:8080/",
          "height": 196
        },
        "id": "pHIIyL9dDYyF",
        "outputId": "adb6df20-4445-4b99-9059-57d696ecab6a"
      },
      "execution_count": null,
      "outputs": [
        {
          "output_type": "display_data",
          "data": {
            "image/svg+xml": "<?xml version=\"1.0\" encoding=\"UTF-8\" standalone=\"no\"?>\n<!DOCTYPE svg PUBLIC \"-//W3C//DTD SVG 1.1//EN\"\n \"http://www.w3.org/Graphics/SVG/1.1/DTD/svg11.dtd\">\n<!-- Generated by graphviz version 2.43.0 (0)\n -->\n<!-- Title: %3 Pages: 1 -->\n<svg width=\"890pt\" height=\"116pt\"\n viewBox=\"0.00 0.00 889.94 116.00\" xmlns=\"http://www.w3.org/2000/svg\" xmlns:xlink=\"http://www.w3.org/1999/xlink\">\n<g id=\"graph0\" class=\"graph\" transform=\"scale(1 1) rotate(0) translate(4 112)\">\n<title>%3</title>\n<polygon fill=\"white\" stroke=\"transparent\" points=\"-4,4 -4,-112 885.94,-112 885.94,4 -4,4\"/>\n<!-- 0 -->\n<g id=\"node1\" class=\"node\">\n<title>0</title>\n<ellipse fill=\"none\" stroke=\"black\" cx=\"422.15\" cy=\"-90\" rx=\"27\" ry=\"18\"/>\n<text text-anchor=\"middle\" x=\"422.15\" y=\"-86.3\" font-family=\"Times,serif\" font-size=\"14.00\">S</text>\n</g>\n<!-- 1 -->\n<g id=\"node2\" class=\"node\">\n<title>1</title>\n<ellipse fill=\"none\" stroke=\"black\" cx=\"46.15\" cy=\"-18\" rx=\"46.29\" ry=\"18\"/>\n<text text-anchor=\"middle\" x=\"46.15\" y=\"-14.3\" font-family=\"Times,serif\" font-size=\"14.00\">(&#39;I&#39;, &#39;PRP&#39;)</text>\n</g>\n<!-- 0&#45;&gt;1 -->\n<g id=\"edge1\" class=\"edge\">\n<title>0&#45;&gt;1</title>\n<path fill=\"none\" stroke=\"black\" d=\"M395.69,-85.87C340.49,-79.07 209.17,-61.49 101.15,-36 97.48,-35.13 93.7,-34.15 89.91,-33.11\"/>\n<polygon fill=\"black\" stroke=\"black\" points=\"90.56,-29.66 79.98,-30.25 88.62,-36.38 90.56,-29.66\"/>\n</g>\n<!-- 2 -->\n<g id=\"node3\" class=\"node\">\n<title>2</title>\n<ellipse fill=\"none\" stroke=\"black\" cx=\"170.15\" cy=\"-18\" rx=\"59.59\" ry=\"18\"/>\n<text text-anchor=\"middle\" x=\"170.15\" y=\"-14.3\" font-family=\"Times,serif\" font-size=\"14.00\">(&#39;saw&#39;, &#39;VBD&#39;)</text>\n</g>\n<!-- 0&#45;&gt;2 -->\n<g id=\"edge2\" class=\"edge\">\n<title>0&#45;&gt;2</title>\n<path fill=\"none\" stroke=\"black\" d=\"M397.52,-82.16C357.18,-70.96 276.14,-48.44 222.52,-33.55\"/>\n<polygon fill=\"black\" stroke=\"black\" points=\"223.41,-30.16 212.84,-30.86 221.54,-36.91 223.41,-30.16\"/>\n</g>\n<!-- 3 -->\n<g id=\"node4\" class=\"node\">\n<title>3</title>\n<ellipse fill=\"none\" stroke=\"black\" cx=\"298.15\" cy=\"-18\" rx=\"50.09\" ry=\"18\"/>\n<text text-anchor=\"middle\" x=\"298.15\" y=\"-14.3\" font-family=\"Times,serif\" font-size=\"14.00\">(&#39;the&#39;, &#39;DT&#39;)</text>\n</g>\n<!-- 0&#45;&gt;3 -->\n<g id=\"edge3\" class=\"edge\">\n<title>0&#45;&gt;3</title>\n<path fill=\"none\" stroke=\"black\" d=\"M402.22,-77.75C383.57,-67.22 355.3,-51.26 332.92,-38.63\"/>\n<polygon fill=\"black\" stroke=\"black\" points=\"334.48,-35.49 324.05,-33.63 331.04,-41.59 334.48,-35.49\"/>\n</g>\n<!-- 4 -->\n<g id=\"node5\" class=\"node\">\n<title>4</title>\n<ellipse fill=\"none\" stroke=\"black\" cx=\"422.15\" cy=\"-18\" rx=\"55.79\" ry=\"18\"/>\n<text text-anchor=\"middle\" x=\"422.15\" y=\"-14.3\" font-family=\"Times,serif\" font-size=\"14.00\">(&#39;man&#39;, &#39;NN&#39;)</text>\n</g>\n<!-- 0&#45;&gt;4 -->\n<g id=\"edge4\" class=\"edge\">\n<title>0&#45;&gt;4</title>\n<path fill=\"none\" stroke=\"black\" d=\"M422.15,-71.7C422.15,-63.98 422.15,-54.71 422.15,-46.11\"/>\n<polygon fill=\"black\" stroke=\"black\" points=\"425.65,-46.1 422.15,-36.1 418.65,-46.1 425.65,-46.1\"/>\n</g>\n<!-- 5 -->\n<g id=\"node6\" class=\"node\">\n<title>5</title>\n<ellipse fill=\"none\" stroke=\"black\" cx=\"548.15\" cy=\"-18\" rx=\"51.99\" ry=\"18\"/>\n<text text-anchor=\"middle\" x=\"548.15\" y=\"-14.3\" font-family=\"Times,serif\" font-size=\"14.00\">(&#39;with&#39;, &#39;IN&#39;)</text>\n</g>\n<!-- 0&#45;&gt;5 -->\n<g id=\"edge5\" class=\"edge\">\n<title>0&#45;&gt;5</title>\n<path fill=\"none\" stroke=\"black\" d=\"M442.39,-77.75C461.34,-67.22 490.07,-51.26 512.81,-38.63\"/>\n<polygon fill=\"black\" stroke=\"black\" points=\"514.78,-41.54 521.82,-33.63 511.38,-35.42 514.78,-41.54\"/>\n</g>\n<!-- 6 -->\n<g id=\"node7\" class=\"node\">\n<title>6</title>\n<ellipse fill=\"none\" stroke=\"black\" cx=\"668.15\" cy=\"-18\" rx=\"50.09\" ry=\"18\"/>\n<text text-anchor=\"middle\" x=\"668.15\" y=\"-14.3\" font-family=\"Times,serif\" font-size=\"14.00\">(&#39;the&#39;, &#39;DT&#39;)</text>\n</g>\n<!-- 0&#45;&gt;6 -->\n<g id=\"edge6\" class=\"edge\">\n<title>0&#45;&gt;6</title>\n<path fill=\"none\" stroke=\"black\" d=\"M446.66,-82.09C482.4,-72 550.91,-52.64 609.15,-36 612.9,-34.93 616.79,-33.81 620.7,-32.69\"/>\n<polygon fill=\"black\" stroke=\"black\" points=\"621.74,-36.03 630.38,-29.91 619.81,-29.31 621.74,-36.03\"/>\n</g>\n<!-- 7 -->\n<g id=\"node8\" class=\"node\">\n<title>7</title>\n<ellipse fill=\"none\" stroke=\"black\" cx=\"809.15\" cy=\"-18\" rx=\"72.59\" ry=\"18\"/>\n<text text-anchor=\"middle\" x=\"809.15\" y=\"-14.3\" font-family=\"Times,serif\" font-size=\"14.00\">(&#39;telescope&#39;, &#39;NN&#39;)</text>\n</g>\n<!-- 0&#45;&gt;7 -->\n<g id=\"edge7\" class=\"edge\">\n<title>0&#45;&gt;7</title>\n<path fill=\"none\" stroke=\"black\" d=\"M448.31,-84.75C501.12,-76.1 624.19,-55.61 727.15,-36 733.24,-34.84 739.58,-33.59 745.91,-32.32\"/>\n<polygon fill=\"black\" stroke=\"black\" points=\"746.72,-35.73 755.82,-30.32 745.33,-28.87 746.72,-35.73\"/>\n</g>\n</g>\n</svg>\n",
            "text/plain": [
              "<graphviz.graphs.Digraph at 0x7ccfb530a950>"
            ]
          },
          "metadata": {}
        }
      ]
    },
    {
      "cell_type": "code",
      "source": [
        "# prompt: replace ('brown', 'NN') with  ('brown', 'JJ\") in tagged\n",
        "for i, (word, tag) in enumerate(tagged):\n",
        "  if tagged[i][0] == 'saw':\n",
        "        tagged_alt = tagged.copy()\n",
        "        tagged_alt[i] = ('saw', 'JJ')\n",
        "        break"
      ],
      "metadata": {
        "id": "grZbwcOo7b_a"
      },
      "execution_count": null,
      "outputs": []
    },
    {
      "cell_type": "code",
      "source": [
        "tagged_alt"
      ],
      "metadata": {
        "colab": {
          "base_uri": "https://localhost:8080/"
        },
        "id": "npxVt8xMA0Bl",
        "outputId": "e85c45b5-c18d-499d-c21b-b4bec3a5fe98"
      },
      "execution_count": null,
      "outputs": [
        {
          "output_type": "execute_result",
          "data": {
            "text/plain": [
              "[('I', 'PRP'),\n",
              " ('saw', 'JJ'),\n",
              " ('the', 'DT'),\n",
              " ('man', 'NN'),\n",
              " ('with', 'IN'),\n",
              " ('the', 'DT'),\n",
              " ('telescope', 'NN')]"
            ]
          },
          "metadata": {},
          "execution_count": 20
        }
      ]
    },
    {
      "cell_type": "code",
      "source": [
        "# Create tree\n",
        "tree_alt = parser.parse(tagged_alt)\n",
        "print(tree_alt)"
      ],
      "metadata": {
        "id": "yWfow4IwAYgh",
        "colab": {
          "base_uri": "https://localhost:8080/"
        },
        "outputId": "151f64dc-2ea0-4849-ad07-29325b2f9464"
      },
      "execution_count": null,
      "outputs": [
        {
          "output_type": "stream",
          "name": "stdout",
          "text": [
            "(S I/PRP (ADJP saw/JJ) the/DT man/NN with/IN the/DT telescope/NN)\n"
          ]
        }
      ]
    },
    {
      "cell_type": "code",
      "source": [
        "dot_source_alt = to_graphviz(tree_alt)\n",
        "display(dot_source_alt)"
      ],
      "metadata": {
        "colab": {
          "base_uri": "https://localhost:8080/",
          "height": 292
        },
        "id": "B13nraGAf-g3",
        "outputId": "9c0cf09f-c777-4397-e266-55c97b3414ec"
      },
      "execution_count": null,
      "outputs": [
        {
          "output_type": "display_data",
          "data": {
            "image/svg+xml": "<?xml version=\"1.0\" encoding=\"UTF-8\" standalone=\"no\"?>\n<!DOCTYPE svg PUBLIC \"-//W3C//DTD SVG 1.1//EN\"\n \"http://www.w3.org/Graphics/SVG/1.1/DTD/svg11.dtd\">\n<!-- Generated by graphviz version 2.43.0 (0)\n -->\n<!-- Title: %3 Pages: 1 -->\n<svg width=\"834pt\" height=\"188pt\"\n viewBox=\"0.00 0.00 833.94 188.00\" xmlns=\"http://www.w3.org/2000/svg\" xmlns:xlink=\"http://www.w3.org/1999/xlink\">\n<g id=\"graph0\" class=\"graph\" transform=\"scale(1 1) rotate(0) translate(4 184)\">\n<title>%3</title>\n<polygon fill=\"white\" stroke=\"transparent\" points=\"-4,4 -4,-184 829.94,-184 829.94,4 -4,4\"/>\n<!-- 0 -->\n<g id=\"node1\" class=\"node\">\n<title>0</title>\n<ellipse fill=\"none\" stroke=\"black\" cx=\"366.15\" cy=\"-162\" rx=\"27\" ry=\"18\"/>\n<text text-anchor=\"middle\" x=\"366.15\" y=\"-158.3\" font-family=\"Times,serif\" font-size=\"14.00\">S</text>\n</g>\n<!-- 1 -->\n<g id=\"node2\" class=\"node\">\n<title>1</title>\n<ellipse fill=\"none\" stroke=\"black\" cx=\"46.15\" cy=\"-90\" rx=\"46.29\" ry=\"18\"/>\n<text text-anchor=\"middle\" x=\"46.15\" y=\"-86.3\" font-family=\"Times,serif\" font-size=\"14.00\">(&#39;I&#39;, &#39;PRP&#39;)</text>\n</g>\n<!-- 0&#45;&gt;1 -->\n<g id=\"edge1\" class=\"edge\">\n<title>0&#45;&gt;1</title>\n<path fill=\"none\" stroke=\"black\" d=\"M339.99,-156.69C292.22,-148.6 187.78,-129.99 101.15,-108 97.54,-107.09 93.83,-106.08 90.11,-105.02\"/>\n<polygon fill=\"black\" stroke=\"black\" points=\"90.9,-101.61 80.32,-102.16 88.93,-108.33 90.9,-101.61\"/>\n</g>\n<!-- 2 -->\n<g id=\"node3\" class=\"node\">\n<title>2</title>\n<ellipse fill=\"none\" stroke=\"black\" cx=\"142.15\" cy=\"-90\" rx=\"31.7\" ry=\"18\"/>\n<text text-anchor=\"middle\" x=\"142.15\" y=\"-86.3\" font-family=\"Times,serif\" font-size=\"14.00\">ADJP</text>\n</g>\n<!-- 0&#45;&gt;2 -->\n<g id=\"edge2\" class=\"edge\">\n<title>0&#45;&gt;2</title>\n<path fill=\"none\" stroke=\"black\" d=\"M341.3,-154.74C305.85,-145.6 238.86,-127.55 183.15,-108 180.88,-107.2 178.55,-106.35 176.22,-105.46\"/>\n<polygon fill=\"black\" stroke=\"black\" points=\"177.28,-102.12 166.69,-101.7 174.7,-108.63 177.28,-102.12\"/>\n</g>\n<!-- 4 -->\n<g id=\"node5\" class=\"node\">\n<title>4</title>\n<ellipse fill=\"none\" stroke=\"black\" cx=\"242.15\" cy=\"-90\" rx=\"50.09\" ry=\"18\"/>\n<text text-anchor=\"middle\" x=\"242.15\" y=\"-86.3\" font-family=\"Times,serif\" font-size=\"14.00\">(&#39;the&#39;, &#39;DT&#39;)</text>\n</g>\n<!-- 0&#45;&gt;4 -->\n<g id=\"edge4\" class=\"edge\">\n<title>0&#45;&gt;4</title>\n<path fill=\"none\" stroke=\"black\" d=\"M346.22,-149.75C327.57,-139.22 299.3,-123.26 276.92,-110.63\"/>\n<polygon fill=\"black\" stroke=\"black\" points=\"278.48,-107.49 268.05,-105.63 275.04,-113.59 278.48,-107.49\"/>\n</g>\n<!-- 5 -->\n<g id=\"node6\" class=\"node\">\n<title>5</title>\n<ellipse fill=\"none\" stroke=\"black\" cx=\"366.15\" cy=\"-90\" rx=\"55.79\" ry=\"18\"/>\n<text text-anchor=\"middle\" x=\"366.15\" y=\"-86.3\" font-family=\"Times,serif\" font-size=\"14.00\">(&#39;man&#39;, &#39;NN&#39;)</text>\n</g>\n<!-- 0&#45;&gt;5 -->\n<g id=\"edge5\" class=\"edge\">\n<title>0&#45;&gt;5</title>\n<path fill=\"none\" stroke=\"black\" d=\"M366.15,-143.7C366.15,-135.98 366.15,-126.71 366.15,-118.11\"/>\n<polygon fill=\"black\" stroke=\"black\" points=\"369.65,-118.1 366.15,-108.1 362.65,-118.1 369.65,-118.1\"/>\n</g>\n<!-- 6 -->\n<g id=\"node7\" class=\"node\">\n<title>6</title>\n<ellipse fill=\"none\" stroke=\"black\" cx=\"492.15\" cy=\"-90\" rx=\"51.99\" ry=\"18\"/>\n<text text-anchor=\"middle\" x=\"492.15\" y=\"-86.3\" font-family=\"Times,serif\" font-size=\"14.00\">(&#39;with&#39;, &#39;IN&#39;)</text>\n</g>\n<!-- 0&#45;&gt;6 -->\n<g id=\"edge6\" class=\"edge\">\n<title>0&#45;&gt;6</title>\n<path fill=\"none\" stroke=\"black\" d=\"M386.39,-149.75C405.34,-139.22 434.07,-123.26 456.81,-110.63\"/>\n<polygon fill=\"black\" stroke=\"black\" points=\"458.78,-113.54 465.82,-105.63 455.38,-107.42 458.78,-113.54\"/>\n</g>\n<!-- 7 -->\n<g id=\"node8\" class=\"node\">\n<title>7</title>\n<ellipse fill=\"none\" stroke=\"black\" cx=\"612.15\" cy=\"-90\" rx=\"50.09\" ry=\"18\"/>\n<text text-anchor=\"middle\" x=\"612.15\" y=\"-86.3\" font-family=\"Times,serif\" font-size=\"14.00\">(&#39;the&#39;, &#39;DT&#39;)</text>\n</g>\n<!-- 0&#45;&gt;7 -->\n<g id=\"edge7\" class=\"edge\">\n<title>0&#45;&gt;7</title>\n<path fill=\"none\" stroke=\"black\" d=\"M390.66,-154.09C426.4,-144 494.91,-124.64 553.15,-108 556.9,-106.93 560.79,-105.81 564.7,-104.69\"/>\n<polygon fill=\"black\" stroke=\"black\" points=\"565.74,-108.03 574.38,-101.91 563.81,-101.31 565.74,-108.03\"/>\n</g>\n<!-- 8 -->\n<g id=\"node9\" class=\"node\">\n<title>8</title>\n<ellipse fill=\"none\" stroke=\"black\" cx=\"753.15\" cy=\"-90\" rx=\"72.59\" ry=\"18\"/>\n<text text-anchor=\"middle\" x=\"753.15\" y=\"-86.3\" font-family=\"Times,serif\" font-size=\"14.00\">(&#39;telescope&#39;, &#39;NN&#39;)</text>\n</g>\n<!-- 0&#45;&gt;8 -->\n<g id=\"edge8\" class=\"edge\">\n<title>0&#45;&gt;8</title>\n<path fill=\"none\" stroke=\"black\" d=\"M392.31,-156.75C445.12,-148.1 568.19,-127.61 671.15,-108 677.24,-106.84 683.58,-105.59 689.91,-104.32\"/>\n<polygon fill=\"black\" stroke=\"black\" points=\"690.72,-107.73 699.82,-102.32 689.33,-100.87 690.72,-107.73\"/>\n</g>\n<!-- 3 -->\n<g id=\"node4\" class=\"node\">\n<title>3</title>\n<ellipse fill=\"none\" stroke=\"black\" cx=\"142.15\" cy=\"-18\" rx=\"48.19\" ry=\"18\"/>\n<text text-anchor=\"middle\" x=\"142.15\" y=\"-14.3\" font-family=\"Times,serif\" font-size=\"14.00\">(&#39;saw&#39;, &#39;JJ&#39;)</text>\n</g>\n<!-- 2&#45;&gt;3 -->\n<g id=\"edge3\" class=\"edge\">\n<title>2&#45;&gt;3</title>\n<path fill=\"none\" stroke=\"black\" d=\"M142.15,-71.7C142.15,-63.98 142.15,-54.71 142.15,-46.11\"/>\n<polygon fill=\"black\" stroke=\"black\" points=\"145.65,-46.1 142.15,-36.1 138.65,-46.1 145.65,-46.1\"/>\n</g>\n</g>\n</svg>\n",
            "text/plain": [
              "<graphviz.graphs.Digraph at 0x7ccfb5309f00>"
            ]
          },
          "metadata": {}
        }
      ]
    },
    {
      "cell_type": "code",
      "source": [
        "display(dot_source1)\n",
        "display(dot_source_alt)"
      ],
      "metadata": {
        "colab": {
          "base_uri": "https://localhost:8080/",
          "height": 451
        },
        "id": "fRsbrqRKko07",
        "outputId": "4deb801f-0b90-42fd-cca8-b1984b45b61b"
      },
      "execution_count": null,
      "outputs": [
        {
          "output_type": "display_data",
          "data": {
            "image/svg+xml": "<?xml version=\"1.0\" encoding=\"UTF-8\" standalone=\"no\"?>\n<!DOCTYPE svg PUBLIC \"-//W3C//DTD SVG 1.1//EN\"\n \"http://www.w3.org/Graphics/SVG/1.1/DTD/svg11.dtd\">\n<!-- Generated by graphviz version 2.43.0 (0)\n -->\n<!-- Title: %3 Pages: 1 -->\n<svg width=\"890pt\" height=\"116pt\"\n viewBox=\"0.00 0.00 889.94 116.00\" xmlns=\"http://www.w3.org/2000/svg\" xmlns:xlink=\"http://www.w3.org/1999/xlink\">\n<g id=\"graph0\" class=\"graph\" transform=\"scale(1 1) rotate(0) translate(4 112)\">\n<title>%3</title>\n<polygon fill=\"white\" stroke=\"transparent\" points=\"-4,4 -4,-112 885.94,-112 885.94,4 -4,4\"/>\n<!-- 0 -->\n<g id=\"node1\" class=\"node\">\n<title>0</title>\n<ellipse fill=\"none\" stroke=\"black\" cx=\"422.15\" cy=\"-90\" rx=\"27\" ry=\"18\"/>\n<text text-anchor=\"middle\" x=\"422.15\" y=\"-86.3\" font-family=\"Times,serif\" font-size=\"14.00\">S</text>\n</g>\n<!-- 1 -->\n<g id=\"node2\" class=\"node\">\n<title>1</title>\n<ellipse fill=\"none\" stroke=\"black\" cx=\"46.15\" cy=\"-18\" rx=\"46.29\" ry=\"18\"/>\n<text text-anchor=\"middle\" x=\"46.15\" y=\"-14.3\" font-family=\"Times,serif\" font-size=\"14.00\">(&#39;I&#39;, &#39;PRP&#39;)</text>\n</g>\n<!-- 0&#45;&gt;1 -->\n<g id=\"edge1\" class=\"edge\">\n<title>0&#45;&gt;1</title>\n<path fill=\"none\" stroke=\"black\" d=\"M395.69,-85.87C340.49,-79.07 209.17,-61.49 101.15,-36 97.48,-35.13 93.7,-34.15 89.91,-33.11\"/>\n<polygon fill=\"black\" stroke=\"black\" points=\"90.56,-29.66 79.98,-30.25 88.62,-36.38 90.56,-29.66\"/>\n</g>\n<!-- 2 -->\n<g id=\"node3\" class=\"node\">\n<title>2</title>\n<ellipse fill=\"none\" stroke=\"black\" cx=\"170.15\" cy=\"-18\" rx=\"59.59\" ry=\"18\"/>\n<text text-anchor=\"middle\" x=\"170.15\" y=\"-14.3\" font-family=\"Times,serif\" font-size=\"14.00\">(&#39;saw&#39;, &#39;VBD&#39;)</text>\n</g>\n<!-- 0&#45;&gt;2 -->\n<g id=\"edge2\" class=\"edge\">\n<title>0&#45;&gt;2</title>\n<path fill=\"none\" stroke=\"black\" d=\"M397.52,-82.16C357.18,-70.96 276.14,-48.44 222.52,-33.55\"/>\n<polygon fill=\"black\" stroke=\"black\" points=\"223.41,-30.16 212.84,-30.86 221.54,-36.91 223.41,-30.16\"/>\n</g>\n<!-- 3 -->\n<g id=\"node4\" class=\"node\">\n<title>3</title>\n<ellipse fill=\"none\" stroke=\"black\" cx=\"298.15\" cy=\"-18\" rx=\"50.09\" ry=\"18\"/>\n<text text-anchor=\"middle\" x=\"298.15\" y=\"-14.3\" font-family=\"Times,serif\" font-size=\"14.00\">(&#39;the&#39;, &#39;DT&#39;)</text>\n</g>\n<!-- 0&#45;&gt;3 -->\n<g id=\"edge3\" class=\"edge\">\n<title>0&#45;&gt;3</title>\n<path fill=\"none\" stroke=\"black\" d=\"M402.22,-77.75C383.57,-67.22 355.3,-51.26 332.92,-38.63\"/>\n<polygon fill=\"black\" stroke=\"black\" points=\"334.48,-35.49 324.05,-33.63 331.04,-41.59 334.48,-35.49\"/>\n</g>\n<!-- 4 -->\n<g id=\"node5\" class=\"node\">\n<title>4</title>\n<ellipse fill=\"none\" stroke=\"black\" cx=\"422.15\" cy=\"-18\" rx=\"55.79\" ry=\"18\"/>\n<text text-anchor=\"middle\" x=\"422.15\" y=\"-14.3\" font-family=\"Times,serif\" font-size=\"14.00\">(&#39;man&#39;, &#39;NN&#39;)</text>\n</g>\n<!-- 0&#45;&gt;4 -->\n<g id=\"edge4\" class=\"edge\">\n<title>0&#45;&gt;4</title>\n<path fill=\"none\" stroke=\"black\" d=\"M422.15,-71.7C422.15,-63.98 422.15,-54.71 422.15,-46.11\"/>\n<polygon fill=\"black\" stroke=\"black\" points=\"425.65,-46.1 422.15,-36.1 418.65,-46.1 425.65,-46.1\"/>\n</g>\n<!-- 5 -->\n<g id=\"node6\" class=\"node\">\n<title>5</title>\n<ellipse fill=\"none\" stroke=\"black\" cx=\"548.15\" cy=\"-18\" rx=\"51.99\" ry=\"18\"/>\n<text text-anchor=\"middle\" x=\"548.15\" y=\"-14.3\" font-family=\"Times,serif\" font-size=\"14.00\">(&#39;with&#39;, &#39;IN&#39;)</text>\n</g>\n<!-- 0&#45;&gt;5 -->\n<g id=\"edge5\" class=\"edge\">\n<title>0&#45;&gt;5</title>\n<path fill=\"none\" stroke=\"black\" d=\"M442.39,-77.75C461.34,-67.22 490.07,-51.26 512.81,-38.63\"/>\n<polygon fill=\"black\" stroke=\"black\" points=\"514.78,-41.54 521.82,-33.63 511.38,-35.42 514.78,-41.54\"/>\n</g>\n<!-- 6 -->\n<g id=\"node7\" class=\"node\">\n<title>6</title>\n<ellipse fill=\"none\" stroke=\"black\" cx=\"668.15\" cy=\"-18\" rx=\"50.09\" ry=\"18\"/>\n<text text-anchor=\"middle\" x=\"668.15\" y=\"-14.3\" font-family=\"Times,serif\" font-size=\"14.00\">(&#39;the&#39;, &#39;DT&#39;)</text>\n</g>\n<!-- 0&#45;&gt;6 -->\n<g id=\"edge6\" class=\"edge\">\n<title>0&#45;&gt;6</title>\n<path fill=\"none\" stroke=\"black\" d=\"M446.66,-82.09C482.4,-72 550.91,-52.64 609.15,-36 612.9,-34.93 616.79,-33.81 620.7,-32.69\"/>\n<polygon fill=\"black\" stroke=\"black\" points=\"621.74,-36.03 630.38,-29.91 619.81,-29.31 621.74,-36.03\"/>\n</g>\n<!-- 7 -->\n<g id=\"node8\" class=\"node\">\n<title>7</title>\n<ellipse fill=\"none\" stroke=\"black\" cx=\"809.15\" cy=\"-18\" rx=\"72.59\" ry=\"18\"/>\n<text text-anchor=\"middle\" x=\"809.15\" y=\"-14.3\" font-family=\"Times,serif\" font-size=\"14.00\">(&#39;telescope&#39;, &#39;NN&#39;)</text>\n</g>\n<!-- 0&#45;&gt;7 -->\n<g id=\"edge7\" class=\"edge\">\n<title>0&#45;&gt;7</title>\n<path fill=\"none\" stroke=\"black\" d=\"M448.31,-84.75C501.12,-76.1 624.19,-55.61 727.15,-36 733.24,-34.84 739.58,-33.59 745.91,-32.32\"/>\n<polygon fill=\"black\" stroke=\"black\" points=\"746.72,-35.73 755.82,-30.32 745.33,-28.87 746.72,-35.73\"/>\n</g>\n</g>\n</svg>\n",
            "text/plain": [
              "<graphviz.graphs.Digraph at 0x7ccfb530a950>"
            ]
          },
          "metadata": {}
        },
        {
          "output_type": "display_data",
          "data": {
            "image/svg+xml": "<?xml version=\"1.0\" encoding=\"UTF-8\" standalone=\"no\"?>\n<!DOCTYPE svg PUBLIC \"-//W3C//DTD SVG 1.1//EN\"\n \"http://www.w3.org/Graphics/SVG/1.1/DTD/svg11.dtd\">\n<!-- Generated by graphviz version 2.43.0 (0)\n -->\n<!-- Title: %3 Pages: 1 -->\n<svg width=\"834pt\" height=\"188pt\"\n viewBox=\"0.00 0.00 833.94 188.00\" xmlns=\"http://www.w3.org/2000/svg\" xmlns:xlink=\"http://www.w3.org/1999/xlink\">\n<g id=\"graph0\" class=\"graph\" transform=\"scale(1 1) rotate(0) translate(4 184)\">\n<title>%3</title>\n<polygon fill=\"white\" stroke=\"transparent\" points=\"-4,4 -4,-184 829.94,-184 829.94,4 -4,4\"/>\n<!-- 0 -->\n<g id=\"node1\" class=\"node\">\n<title>0</title>\n<ellipse fill=\"none\" stroke=\"black\" cx=\"366.15\" cy=\"-162\" rx=\"27\" ry=\"18\"/>\n<text text-anchor=\"middle\" x=\"366.15\" y=\"-158.3\" font-family=\"Times,serif\" font-size=\"14.00\">S</text>\n</g>\n<!-- 1 -->\n<g id=\"node2\" class=\"node\">\n<title>1</title>\n<ellipse fill=\"none\" stroke=\"black\" cx=\"46.15\" cy=\"-90\" rx=\"46.29\" ry=\"18\"/>\n<text text-anchor=\"middle\" x=\"46.15\" y=\"-86.3\" font-family=\"Times,serif\" font-size=\"14.00\">(&#39;I&#39;, &#39;PRP&#39;)</text>\n</g>\n<!-- 0&#45;&gt;1 -->\n<g id=\"edge1\" class=\"edge\">\n<title>0&#45;&gt;1</title>\n<path fill=\"none\" stroke=\"black\" d=\"M339.99,-156.69C292.22,-148.6 187.78,-129.99 101.15,-108 97.54,-107.09 93.83,-106.08 90.11,-105.02\"/>\n<polygon fill=\"black\" stroke=\"black\" points=\"90.9,-101.61 80.32,-102.16 88.93,-108.33 90.9,-101.61\"/>\n</g>\n<!-- 2 -->\n<g id=\"node3\" class=\"node\">\n<title>2</title>\n<ellipse fill=\"none\" stroke=\"black\" cx=\"142.15\" cy=\"-90\" rx=\"31.7\" ry=\"18\"/>\n<text text-anchor=\"middle\" x=\"142.15\" y=\"-86.3\" font-family=\"Times,serif\" font-size=\"14.00\">ADJP</text>\n</g>\n<!-- 0&#45;&gt;2 -->\n<g id=\"edge2\" class=\"edge\">\n<title>0&#45;&gt;2</title>\n<path fill=\"none\" stroke=\"black\" d=\"M341.3,-154.74C305.85,-145.6 238.86,-127.55 183.15,-108 180.88,-107.2 178.55,-106.35 176.22,-105.46\"/>\n<polygon fill=\"black\" stroke=\"black\" points=\"177.28,-102.12 166.69,-101.7 174.7,-108.63 177.28,-102.12\"/>\n</g>\n<!-- 4 -->\n<g id=\"node5\" class=\"node\">\n<title>4</title>\n<ellipse fill=\"none\" stroke=\"black\" cx=\"242.15\" cy=\"-90\" rx=\"50.09\" ry=\"18\"/>\n<text text-anchor=\"middle\" x=\"242.15\" y=\"-86.3\" font-family=\"Times,serif\" font-size=\"14.00\">(&#39;the&#39;, &#39;DT&#39;)</text>\n</g>\n<!-- 0&#45;&gt;4 -->\n<g id=\"edge4\" class=\"edge\">\n<title>0&#45;&gt;4</title>\n<path fill=\"none\" stroke=\"black\" d=\"M346.22,-149.75C327.57,-139.22 299.3,-123.26 276.92,-110.63\"/>\n<polygon fill=\"black\" stroke=\"black\" points=\"278.48,-107.49 268.05,-105.63 275.04,-113.59 278.48,-107.49\"/>\n</g>\n<!-- 5 -->\n<g id=\"node6\" class=\"node\">\n<title>5</title>\n<ellipse fill=\"none\" stroke=\"black\" cx=\"366.15\" cy=\"-90\" rx=\"55.79\" ry=\"18\"/>\n<text text-anchor=\"middle\" x=\"366.15\" y=\"-86.3\" font-family=\"Times,serif\" font-size=\"14.00\">(&#39;man&#39;, &#39;NN&#39;)</text>\n</g>\n<!-- 0&#45;&gt;5 -->\n<g id=\"edge5\" class=\"edge\">\n<title>0&#45;&gt;5</title>\n<path fill=\"none\" stroke=\"black\" d=\"M366.15,-143.7C366.15,-135.98 366.15,-126.71 366.15,-118.11\"/>\n<polygon fill=\"black\" stroke=\"black\" points=\"369.65,-118.1 366.15,-108.1 362.65,-118.1 369.65,-118.1\"/>\n</g>\n<!-- 6 -->\n<g id=\"node7\" class=\"node\">\n<title>6</title>\n<ellipse fill=\"none\" stroke=\"black\" cx=\"492.15\" cy=\"-90\" rx=\"51.99\" ry=\"18\"/>\n<text text-anchor=\"middle\" x=\"492.15\" y=\"-86.3\" font-family=\"Times,serif\" font-size=\"14.00\">(&#39;with&#39;, &#39;IN&#39;)</text>\n</g>\n<!-- 0&#45;&gt;6 -->\n<g id=\"edge6\" class=\"edge\">\n<title>0&#45;&gt;6</title>\n<path fill=\"none\" stroke=\"black\" d=\"M386.39,-149.75C405.34,-139.22 434.07,-123.26 456.81,-110.63\"/>\n<polygon fill=\"black\" stroke=\"black\" points=\"458.78,-113.54 465.82,-105.63 455.38,-107.42 458.78,-113.54\"/>\n</g>\n<!-- 7 -->\n<g id=\"node8\" class=\"node\">\n<title>7</title>\n<ellipse fill=\"none\" stroke=\"black\" cx=\"612.15\" cy=\"-90\" rx=\"50.09\" ry=\"18\"/>\n<text text-anchor=\"middle\" x=\"612.15\" y=\"-86.3\" font-family=\"Times,serif\" font-size=\"14.00\">(&#39;the&#39;, &#39;DT&#39;)</text>\n</g>\n<!-- 0&#45;&gt;7 -->\n<g id=\"edge7\" class=\"edge\">\n<title>0&#45;&gt;7</title>\n<path fill=\"none\" stroke=\"black\" d=\"M390.66,-154.09C426.4,-144 494.91,-124.64 553.15,-108 556.9,-106.93 560.79,-105.81 564.7,-104.69\"/>\n<polygon fill=\"black\" stroke=\"black\" points=\"565.74,-108.03 574.38,-101.91 563.81,-101.31 565.74,-108.03\"/>\n</g>\n<!-- 8 -->\n<g id=\"node9\" class=\"node\">\n<title>8</title>\n<ellipse fill=\"none\" stroke=\"black\" cx=\"753.15\" cy=\"-90\" rx=\"72.59\" ry=\"18\"/>\n<text text-anchor=\"middle\" x=\"753.15\" y=\"-86.3\" font-family=\"Times,serif\" font-size=\"14.00\">(&#39;telescope&#39;, &#39;NN&#39;)</text>\n</g>\n<!-- 0&#45;&gt;8 -->\n<g id=\"edge8\" class=\"edge\">\n<title>0&#45;&gt;8</title>\n<path fill=\"none\" stroke=\"black\" d=\"M392.31,-156.75C445.12,-148.1 568.19,-127.61 671.15,-108 677.24,-106.84 683.58,-105.59 689.91,-104.32\"/>\n<polygon fill=\"black\" stroke=\"black\" points=\"690.72,-107.73 699.82,-102.32 689.33,-100.87 690.72,-107.73\"/>\n</g>\n<!-- 3 -->\n<g id=\"node4\" class=\"node\">\n<title>3</title>\n<ellipse fill=\"none\" stroke=\"black\" cx=\"142.15\" cy=\"-18\" rx=\"48.19\" ry=\"18\"/>\n<text text-anchor=\"middle\" x=\"142.15\" y=\"-14.3\" font-family=\"Times,serif\" font-size=\"14.00\">(&#39;saw&#39;, &#39;JJ&#39;)</text>\n</g>\n<!-- 2&#45;&gt;3 -->\n<g id=\"edge3\" class=\"edge\">\n<title>2&#45;&gt;3</title>\n<path fill=\"none\" stroke=\"black\" d=\"M142.15,-71.7C142.15,-63.98 142.15,-54.71 142.15,-46.11\"/>\n<polygon fill=\"black\" stroke=\"black\" points=\"145.65,-46.1 142.15,-36.1 138.65,-46.1 145.65,-46.1\"/>\n</g>\n</g>\n</svg>\n",
            "text/plain": [
              "<graphviz.graphs.Digraph at 0x7ccfb5309f00>"
            ]
          },
          "metadata": {}
        }
      ]
    }
  ]
}