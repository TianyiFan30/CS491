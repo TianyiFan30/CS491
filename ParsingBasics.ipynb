{
  "nbformat": 4,
  "nbformat_minor": 0,
  "metadata": {
    "colab": {
      "provenance": [],
      "collapsed_sections": [
        "t5WbWUmcB1A_",
        "OfRYU89CB8-u",
        "8ZHXr_x28KMF",
        "wSC1oXA19Mda"
      ],
      "include_colab_link": true
    },
    "kernelspec": {
      "name": "python3",
      "display_name": "Python 3"
    },
    "language_info": {
      "name": "python"
    }
  },
  "cells": [
    {
      "cell_type": "markdown",
      "metadata": {
        "id": "view-in-github",
        "colab_type": "text"
      },
      "source": [
        "<a href=\"https://colab.research.google.com/github/TianyiFan30/CS491/blob/main/ParsingBasics.ipynb\" target=\"_parent\"><img src=\"https://colab.research.google.com/assets/colab-badge.svg\" alt=\"Open In Colab\"/></a>"
      ]
    },
    {
      "cell_type": "markdown",
      "source": [
        "# Initialize things"
      ],
      "metadata": {
        "id": "t5WbWUmcB1A_"
      }
    },
    {
      "cell_type": "code",
      "execution_count": null,
      "metadata": {
        "colab": {
          "base_uri": "https://localhost:8080/"
        },
        "id": "4FyUaGuo4MsF",
        "outputId": "14501a5e-cdd1-4f18-b00f-120f634335a0"
      },
      "outputs": [
        {
          "output_type": "stream",
          "name": "stderr",
          "text": [
            "[nltk_data] Downloading package punkt to /root/nltk_data...\n",
            "[nltk_data]   Unzipping tokenizers/punkt.zip.\n"
          ]
        }
      ],
      "source": [
        "import nltk\n",
        "from nltk.tokenize import sent_tokenize\n",
        "nltk.download('punkt')\n",
        "\n",
        "import graphviz"
      ]
    },
    {
      "cell_type": "code",
      "source": [
        "nltk.download('averaged_perceptron_tagger')"
      ],
      "metadata": {
        "colab": {
          "base_uri": "https://localhost:8080/"
        },
        "id": "6YM5N09l4QOg",
        "outputId": "adc23202-3836-4a2a-ef60-7654c9347cc9"
      },
      "execution_count": null,
      "outputs": [
        {
          "output_type": "stream",
          "name": "stderr",
          "text": [
            "[nltk_data] Downloading package averaged_perceptron_tagger to\n",
            "[nltk_data]     /root/nltk_data...\n",
            "[nltk_data]   Unzipping taggers/averaged_perceptron_tagger.zip.\n"
          ]
        },
        {
          "output_type": "execute_result",
          "data": {
            "text/plain": [
              "True"
            ]
          },
          "metadata": {},
          "execution_count": 2
        }
      ]
    },
    {
      "cell_type": "code",
      "source": [
        "# Function to convert NLTK tree to graphviz source\n",
        "def to_graphviz(tree):\n",
        "    dot = graphviz.Digraph(comment='Parse Tree')\n",
        "\n",
        "    def add_nodes_edges(tree, dot, parent_index=None, index=0):\n",
        "        node_index = index\n",
        "        if isinstance(tree, nltk.Tree):\n",
        "            node_label = tree.label()\n",
        "            dot.node(str(node_index), node_label)\n",
        "            if parent_index is not None:\n",
        "                dot.edge(str(parent_index), str(node_index))\n",
        "            for child in tree:\n",
        "                index += 1\n",
        "                index = add_nodes_edges(child, dot, node_index, index)\n",
        "        else:\n",
        "            # Leaf node\n",
        "            dot.node(str(index), str(tree))\n",
        "            if parent_index is not None:\n",
        "                dot.edge(str(parent_index), str(index))\n",
        "        return index\n",
        "\n",
        "    add_nodes_edges(tree, dot)\n",
        "    return dot\n",
        "\n",
        "\n",
        "# Convert tree to graphviz source and display\n",
        "\n"
      ],
      "metadata": {
        "id": "hsXp8ZgC5-vf"
      },
      "execution_count": null,
      "outputs": []
    },
    {
      "cell_type": "markdown",
      "source": [
        "# sentences and grammars: chunking\n"
      ],
      "metadata": {
        "id": "OfRYU89CB8-u"
      }
    },
    {
      "cell_type": "code",
      "source": [
        "# Some possible grammars to create parse tree\n",
        "# grammar=\" \" #empty grammar\n",
        "# grammar = \"NP: {<JJ><NN>}\"\n",
        "# grammar = \"NP: {<DT>?<JJ>*<NN>}\"\n",
        "\n",
        "grammar = \"\"\"\n",
        "    NP: {<DT>?<JJ>*<NN>}                      # Noun Phrase\n",
        "    VP: {<VB.*><NP|PP>+}                      # Verb Phrase\n",
        "    PP: {<IN><NP>}                            # Prepositional Phrase\n",
        "    ADJP: {<RB>*<JJ>}                         # Adjective Phrase\n",
        "    CS: {<NP><VP><CC><NP><VP>}                # Compound Sentence\n",
        "    NER: {<NNP>+}                             # Named Entity Recognition\n",
        "\"\"\"\n",
        "\n",
        "parser = nltk.RegexpParser(grammar)"
      ],
      "metadata": {
        "id": "DusXhKnN5P8W"
      },
      "execution_count": null,
      "outputs": []
    },
    {
      "cell_type": "code",
      "source": [
        "# Menu of sentences to be tagged #\n",
        "sentence=\"See Spot run.\"\n",
        "# sentence=\"The quick brown fox jumped over the lazy dog.\"\n",
        " #sentence = \"At eight o'clock on Thursday morning Arthur didn't feel very good.\"\n",
        "# sentence='They can fish.'\n",
        "# sentence='Flying planes can be dangerous'\n",
        "print(sentence)"
      ],
      "metadata": {
        "colab": {
          "base_uri": "https://localhost:8080/"
        },
        "id": "47yaMnLL4iDg",
        "outputId": "7016f328-e6f0-4650-aa5a-9032a83c3114"
      },
      "execution_count": null,
      "outputs": [
        {
          "output_type": "stream",
          "name": "stdout",
          "text": [
            "See Spot run.\n"
          ]
        }
      ]
    },
    {
      "cell_type": "code",
      "source": [
        "#  Tokenizing and tagging\n",
        "tokens = nltk.word_tokenize(sentence)\n",
        "tagged = nltk.pos_tag(tokens)\n",
        "print(f'tokens are {tokens}')\n",
        "print(f'POS tags are {tagged}')"
      ],
      "metadata": {
        "colab": {
          "base_uri": "https://localhost:8080/"
        },
        "id": "j0qrh3ui5AKw",
        "outputId": "42f5f814-8b82-4241-bcdd-725921e0a3f2"
      },
      "execution_count": null,
      "outputs": [
        {
          "output_type": "stream",
          "name": "stdout",
          "text": [
            "tokens are ['See', 'Spot', 'run', '.']\n",
            "POS tags are [('See', 'VB'), ('Spot', 'NNP'), ('run', 'VB'), ('.', '.')]\n"
          ]
        }
      ]
    },
    {
      "cell_type": "code",
      "source": [
        "# Create tree\n",
        "tree = parser.parse(tagged)\n",
        "print(tree)"
      ],
      "metadata": {
        "colab": {
          "base_uri": "https://localhost:8080/"
        },
        "id": "ZffIRqiE56Yw",
        "outputId": "8a87a514-2047-4809-de6b-962926edf506"
      },
      "execution_count": null,
      "outputs": [
        {
          "output_type": "stream",
          "name": "stdout",
          "text": [
            "(S See/VB (NER Spot/NNP) run/VB ./.)\n"
          ]
        }
      ]
    },
    {
      "cell_type": "code",
      "source": [
        "dot_source = to_graphviz(tree)\n",
        "display(dot_source)"
      ],
      "metadata": {
        "colab": {
          "base_uri": "https://localhost:8080/",
          "height": 389
        },
        "id": "pHIIyL9dDYyF",
        "outputId": "d1393217-0861-4b13-d09f-ce3c06dfac51"
      },
      "execution_count": null,
      "outputs": [
        {
          "output_type": "display_data",
          "data": {
            "image/svg+xml": "<?xml version=\"1.0\" encoding=\"UTF-8\" standalone=\"no\"?>\n<!DOCTYPE svg PUBLIC \"-//W3C//DTD SVG 1.1//EN\"\n \"http://www.w3.org/Graphics/SVG/1.1/DTD/svg11.dtd\">\n<!-- Generated by graphviz version 2.43.0 (0)\n -->\n<!-- Title: %3 Pages: 1 -->\n<svg width=\"871pt\" height=\"260pt\"\n viewBox=\"0.00 0.00 870.94 260.00\" xmlns=\"http://www.w3.org/2000/svg\" xmlns:xlink=\"http://www.w3.org/1999/xlink\">\n<g id=\"graph0\" class=\"graph\" transform=\"scale(1 1) rotate(0) translate(4 256)\">\n<title>%3</title>\n<polygon fill=\"white\" stroke=\"transparent\" points=\"-4,4 -4,-256 866.94,-256 866.94,4 -4,4\"/>\n<!-- 0 -->\n<g id=\"node1\" class=\"node\">\n<title>0</title>\n<ellipse fill=\"none\" stroke=\"black\" cx=\"514.65\" cy=\"-234\" rx=\"27\" ry=\"18\"/>\n<text text-anchor=\"middle\" x=\"514.65\" y=\"-230.3\" font-family=\"Times,serif\" font-size=\"14.00\">S</text>\n</g>\n<!-- 1 -->\n<g id=\"node2\" class=\"node\">\n<title>1</title>\n<ellipse fill=\"none\" stroke=\"black\" cx=\"271.65\" cy=\"-162\" rx=\"27\" ry=\"18\"/>\n<text text-anchor=\"middle\" x=\"271.65\" y=\"-158.3\" font-family=\"Times,serif\" font-size=\"14.00\">NP</text>\n</g>\n<!-- 0&#45;&gt;1 -->\n<g id=\"edge1\" class=\"edge\">\n<title>0&#45;&gt;1</title>\n<path fill=\"none\" stroke=\"black\" d=\"M490.01,-225.9C446.32,-213.32 355.23,-187.08 305.62,-172.79\"/>\n<polygon fill=\"black\" stroke=\"black\" points=\"306.56,-169.42 295.99,-170.01 304.63,-176.14 306.56,-169.42\"/>\n</g>\n<!-- 5 -->\n<g id=\"node6\" class=\"node\">\n<title>5</title>\n<ellipse fill=\"none\" stroke=\"black\" cx=\"396.65\" cy=\"-162\" rx=\"27\" ry=\"18\"/>\n<text text-anchor=\"middle\" x=\"396.65\" y=\"-158.3\" font-family=\"Times,serif\" font-size=\"14.00\">NP</text>\n</g>\n<!-- 0&#45;&gt;5 -->\n<g id=\"edge5\" class=\"edge\">\n<title>0&#45;&gt;5</title>\n<path fill=\"none\" stroke=\"black\" d=\"M495.16,-221.44C476.03,-210.09 446.64,-192.66 424.94,-179.78\"/>\n<polygon fill=\"black\" stroke=\"black\" points=\"426.55,-176.67 416.16,-174.58 422.97,-182.69 426.55,-176.67\"/>\n</g>\n<!-- 7 -->\n<g id=\"node8\" class=\"node\">\n<title>7</title>\n<ellipse fill=\"none\" stroke=\"black\" cx=\"514.65\" cy=\"-162\" rx=\"72.59\" ry=\"18\"/>\n<text text-anchor=\"middle\" x=\"514.65\" y=\"-158.3\" font-family=\"Times,serif\" font-size=\"14.00\">(&#39;jumped&#39;, &#39;VBD&#39;)</text>\n</g>\n<!-- 0&#45;&gt;7 -->\n<g id=\"edge7\" class=\"edge\">\n<title>0&#45;&gt;7</title>\n<path fill=\"none\" stroke=\"black\" d=\"M514.65,-215.7C514.65,-207.98 514.65,-198.71 514.65,-190.11\"/>\n<polygon fill=\"black\" stroke=\"black\" points=\"518.15,-190.1 514.65,-180.1 511.15,-190.1 518.15,-190.1\"/>\n</g>\n<!-- 8 -->\n<g id=\"node9\" class=\"node\">\n<title>8</title>\n<ellipse fill=\"none\" stroke=\"black\" cx=\"632.65\" cy=\"-162\" rx=\"27\" ry=\"18\"/>\n<text text-anchor=\"middle\" x=\"632.65\" y=\"-158.3\" font-family=\"Times,serif\" font-size=\"14.00\">PP</text>\n</g>\n<!-- 0&#45;&gt;8 -->\n<g id=\"edge8\" class=\"edge\">\n<title>0&#45;&gt;8</title>\n<path fill=\"none\" stroke=\"black\" d=\"M534.13,-221.44C553.26,-210.09 582.65,-192.66 604.35,-179.78\"/>\n<polygon fill=\"black\" stroke=\"black\" points=\"606.32,-182.69 613.13,-174.58 602.74,-176.67 606.32,-182.69\"/>\n</g>\n<!-- 14 -->\n<g id=\"node15\" class=\"node\">\n<title>14</title>\n<ellipse fill=\"none\" stroke=\"black\" cx=\"709.65\" cy=\"-162\" rx=\"32.49\" ry=\"18\"/>\n<text text-anchor=\"middle\" x=\"709.65\" y=\"-158.3\" font-family=\"Times,serif\" font-size=\"14.00\">(&#39;.&#39;, &#39;.&#39;)</text>\n</g>\n<!-- 0&#45;&gt;14 -->\n<g id=\"edge14\" class=\"edge\">\n<title>0&#45;&gt;14</title>\n<path fill=\"none\" stroke=\"black\" d=\"M538.55,-225.28C568.97,-215.34 623.04,-197.29 668.65,-180 670.75,-179.2 672.91,-178.36 675.09,-177.5\"/>\n<polygon fill=\"black\" stroke=\"black\" points=\"676.62,-180.66 684.59,-173.68 674.01,-174.17 676.62,-180.66\"/>\n</g>\n<!-- 2 -->\n<g id=\"node3\" class=\"node\">\n<title>2</title>\n<ellipse fill=\"none\" stroke=\"black\" cx=\"52.65\" cy=\"-90\" rx=\"52.79\" ry=\"18\"/>\n<text text-anchor=\"middle\" x=\"52.65\" y=\"-86.3\" font-family=\"Times,serif\" font-size=\"14.00\">(&#39;The&#39;, &#39;DT&#39;)</text>\n</g>\n<!-- 1&#45;&gt;2 -->\n<g id=\"edge2\" class=\"edge\">\n<title>1&#45;&gt;2</title>\n<path fill=\"none\" stroke=\"black\" d=\"M247.79,-153.38C212.37,-142.05 145.14,-120.57 99.62,-106.01\"/>\n<polygon fill=\"black\" stroke=\"black\" points=\"100.56,-102.64 89.97,-102.93 98.42,-109.31 100.56,-102.64\"/>\n</g>\n<!-- 3 -->\n<g id=\"node4\" class=\"node\">\n<title>3</title>\n<ellipse fill=\"none\" stroke=\"black\" cx=\"177.65\" cy=\"-90\" rx=\"53.89\" ry=\"18\"/>\n<text text-anchor=\"middle\" x=\"177.65\" y=\"-86.3\" font-family=\"Times,serif\" font-size=\"14.00\">(&#39;quick&#39;, &#39;JJ&#39;)</text>\n</g>\n<!-- 1&#45;&gt;3 -->\n<g id=\"edge3\" class=\"edge\">\n<title>1&#45;&gt;3</title>\n<path fill=\"none\" stroke=\"black\" d=\"M253.96,-147.83C240.77,-138.01 222.45,-124.36 207.06,-112.91\"/>\n<polygon fill=\"black\" stroke=\"black\" points=\"208.98,-109.97 198.87,-106.8 204.8,-115.58 208.98,-109.97\"/>\n</g>\n<!-- 4 -->\n<g id=\"node5\" class=\"node\">\n<title>4</title>\n<ellipse fill=\"none\" stroke=\"black\" cx=\"311.65\" cy=\"-90\" rx=\"62.29\" ry=\"18\"/>\n<text text-anchor=\"middle\" x=\"311.65\" y=\"-86.3\" font-family=\"Times,serif\" font-size=\"14.00\">(&#39;brown&#39;, &#39;NN&#39;)</text>\n</g>\n<!-- 1&#45;&gt;4 -->\n<g id=\"edge4\" class=\"edge\">\n<title>1&#45;&gt;4</title>\n<path fill=\"none\" stroke=\"black\" d=\"M280.92,-144.76C285.63,-136.53 291.46,-126.32 296.78,-117.02\"/>\n<polygon fill=\"black\" stroke=\"black\" points=\"299.94,-118.54 301.86,-108.12 293.86,-115.07 299.94,-118.54\"/>\n</g>\n<!-- 6 -->\n<g id=\"node7\" class=\"node\">\n<title>6</title>\n<ellipse fill=\"none\" stroke=\"black\" cx=\"443.65\" cy=\"-90\" rx=\"51.99\" ry=\"18\"/>\n<text text-anchor=\"middle\" x=\"443.65\" y=\"-86.3\" font-family=\"Times,serif\" font-size=\"14.00\">(&#39;fox&#39;, &#39;NN&#39;)</text>\n</g>\n<!-- 5&#45;&gt;6 -->\n<g id=\"edge6\" class=\"edge\">\n<title>5&#45;&gt;6</title>\n<path fill=\"none\" stroke=\"black\" d=\"M407.31,-145.12C413.03,-136.59 420.22,-125.89 426.69,-116.25\"/>\n<polygon fill=\"black\" stroke=\"black\" points=\"429.7,-118.05 432.37,-107.8 423.89,-114.15 429.7,-118.05\"/>\n</g>\n<!-- 9 -->\n<g id=\"node10\" class=\"node\">\n<title>9</title>\n<ellipse fill=\"none\" stroke=\"black\" cx=\"592.65\" cy=\"-90\" rx=\"51.99\" ry=\"18\"/>\n<text text-anchor=\"middle\" x=\"592.65\" y=\"-86.3\" font-family=\"Times,serif\" font-size=\"14.00\">(&#39;over&#39;, &#39;IN&#39;)</text>\n</g>\n<!-- 8&#45;&gt;9 -->\n<g id=\"edge9\" class=\"edge\">\n<title>8&#45;&gt;9</title>\n<path fill=\"none\" stroke=\"black\" d=\"M623.37,-144.76C618.66,-136.53 612.83,-126.32 607.51,-117.02\"/>\n<polygon fill=\"black\" stroke=\"black\" points=\"610.43,-115.07 602.43,-108.12 604.35,-118.54 610.43,-115.07\"/>\n</g>\n<!-- 10 -->\n<g id=\"node11\" class=\"node\">\n<title>10</title>\n<ellipse fill=\"none\" stroke=\"black\" cx=\"689.65\" cy=\"-90\" rx=\"27\" ry=\"18\"/>\n<text text-anchor=\"middle\" x=\"689.65\" y=\"-86.3\" font-family=\"Times,serif\" font-size=\"14.00\">NP</text>\n</g>\n<!-- 8&#45;&gt;10 -->\n<g id=\"edge10\" class=\"edge\">\n<title>8&#45;&gt;10</title>\n<path fill=\"none\" stroke=\"black\" d=\"M645.01,-145.81C652.56,-136.55 662.35,-124.52 670.84,-114.09\"/>\n<polygon fill=\"black\" stroke=\"black\" points=\"673.7,-116.12 677.3,-106.16 668.27,-111.7 673.7,-116.12\"/>\n</g>\n<!-- 11 -->\n<g id=\"node12\" class=\"node\">\n<title>11</title>\n<ellipse fill=\"none\" stroke=\"black\" cx=\"572.65\" cy=\"-18\" rx=\"50.09\" ry=\"18\"/>\n<text text-anchor=\"middle\" x=\"572.65\" y=\"-14.3\" font-family=\"Times,serif\" font-size=\"14.00\">(&#39;the&#39;, &#39;DT&#39;)</text>\n</g>\n<!-- 10&#45;&gt;11 -->\n<g id=\"edge11\" class=\"edge\">\n<title>10&#45;&gt;11</title>\n<path fill=\"none\" stroke=\"black\" d=\"M670.06,-77.28C652.72,-66.91 627.03,-51.54 606.39,-39.19\"/>\n<polygon fill=\"black\" stroke=\"black\" points=\"607.98,-36.06 597.6,-33.93 604.38,-42.07 607.98,-36.06\"/>\n</g>\n<!-- 12 -->\n<g id=\"node13\" class=\"node\">\n<title>12</title>\n<ellipse fill=\"none\" stroke=\"black\" cx=\"689.65\" cy=\"-18\" rx=\"48.99\" ry=\"18\"/>\n<text text-anchor=\"middle\" x=\"689.65\" y=\"-14.3\" font-family=\"Times,serif\" font-size=\"14.00\">(&#39;lazy&#39;, &#39;JJ&#39;)</text>\n</g>\n<!-- 10&#45;&gt;12 -->\n<g id=\"edge12\" class=\"edge\">\n<title>10&#45;&gt;12</title>\n<path fill=\"none\" stroke=\"black\" d=\"M689.65,-71.7C689.65,-63.98 689.65,-54.71 689.65,-46.11\"/>\n<polygon fill=\"black\" stroke=\"black\" points=\"693.15,-46.1 689.65,-36.1 686.15,-46.1 693.15,-46.1\"/>\n</g>\n<!-- 13 -->\n<g id=\"node14\" class=\"node\">\n<title>13</title>\n<ellipse fill=\"none\" stroke=\"black\" cx=\"809.65\" cy=\"-18\" rx=\"53.09\" ry=\"18\"/>\n<text text-anchor=\"middle\" x=\"809.65\" y=\"-14.3\" font-family=\"Times,serif\" font-size=\"14.00\">(&#39;dog&#39;, &#39;NN&#39;)</text>\n</g>\n<!-- 10&#45;&gt;13 -->\n<g id=\"edge13\" class=\"edge\">\n<title>10&#45;&gt;13</title>\n<path fill=\"none\" stroke=\"black\" d=\"M709.46,-77.44C727.28,-67.04 753.86,-51.54 775.17,-39.11\"/>\n<polygon fill=\"black\" stroke=\"black\" points=\"777.06,-42.06 783.93,-34 773.53,-36.01 777.06,-42.06\"/>\n</g>\n</g>\n</svg>\n",
            "text/plain": [
              "<graphviz.graphs.Digraph at 0x79cac2eb9300>"
            ]
          },
          "metadata": {}
        }
      ]
    },
    {
      "cell_type": "markdown",
      "source": [
        "# Adjusting \"The quick brown fox jumped over the lazy dog.\"\n",
        "\n",
        "The tagger incorrectly identifies \"brown\" as a noun."
      ],
      "metadata": {
        "id": "8ZHXr_x28KMF"
      }
    },
    {
      "cell_type": "code",
      "source": [
        "# prompt: replace ('brown', 'NN') with  ('brown', 'JJ\") in tagged\n",
        "for i, (word, tag) in enumerate(tagged):\n",
        "  if word == 'brown' and tag == 'NN':\n",
        "    tagged[i] = ('brown', 'JJ')\n",
        "\n",
        "print(tagged)\n"
      ],
      "metadata": {
        "colab": {
          "base_uri": "https://localhost:8080/"
        },
        "id": "grZbwcOo7b_a",
        "outputId": "43980b16-09a7-465b-eeb4-cf02dcdaa776"
      },
      "execution_count": null,
      "outputs": [
        {
          "output_type": "stream",
          "name": "stdout",
          "text": [
            "[('The', 'DT'), ('quick', 'JJ'), ('brown', 'JJ'), ('fox', 'NN'), ('jumped', 'VBD'), ('over', 'IN'), ('the', 'DT'), ('lazy', 'JJ'), ('dog', 'NN'), ('.', '.')]\n"
          ]
        }
      ]
    },
    {
      "cell_type": "code",
      "source": [
        "tree = parser.parse(tagged)\n",
        "print(tree)"
      ],
      "metadata": {
        "colab": {
          "base_uri": "https://localhost:8080/"
        },
        "id": "npxVt8xMA0Bl",
        "outputId": "ad26916b-b91d-453c-8679-70e06b320628"
      },
      "execution_count": null,
      "outputs": [
        {
          "output_type": "stream",
          "name": "stdout",
          "text": [
            "(S\n",
            "  (NP The/DT quick/JJ brown/JJ fox/NN)\n",
            "  jumped/VBD\n",
            "  (PP over/IN (NP the/DT lazy/JJ dog/NN))\n",
            "  ./.)\n"
          ]
        }
      ]
    },
    {
      "cell_type": "code",
      "source": [
        "dot_source = to_graphviz(tree)\n",
        "display(dot_source)"
      ],
      "metadata": {
        "id": "yWfow4IwAYgh"
      },
      "execution_count": null,
      "outputs": []
    },
    {
      "cell_type": "markdown",
      "source": [
        "# Adjusting \"They can fish.\"\n",
        "We want to adjust the tagging so that we get the meaning of \"a group of people who put fish into cans.\""
      ],
      "metadata": {
        "id": "wSC1oXA19Mda"
      }
    },
    {
      "cell_type": "code",
      "source": [
        "# prompt: In tagged replace the POS for \"can\" to be a verb and the POS for \"fish\" to be a noun\n",
        "\n",
        "for i, (word, tag) in enumerate(tagged):\n",
        "  if word == 'can' and tag == 'MD':\n",
        "    tagged[i] = ('can', 'VB')\n",
        "  if word == 'fish' and tag == 'VB':\n",
        "    tagged[i] = ('fish', 'NN')\n",
        "\n",
        "print(tagged)\n"
      ],
      "metadata": {
        "colab": {
          "base_uri": "https://localhost:8080/"
        },
        "id": "YReAf0S59Rz6",
        "outputId": "3a9755db-b508-4205-bbd4-eec01af1b022"
      },
      "execution_count": null,
      "outputs": [
        {
          "output_type": "stream",
          "name": "stdout",
          "text": [
            "[('They', 'PRP'), ('can', 'VB'), ('fish', 'NN'), ('.', '.')]\n"
          ]
        }
      ]
    },
    {
      "cell_type": "code",
      "source": [
        "#  Create tree\n",
        "tree = parser.parse(tagged)\n",
        "print(tree)"
      ],
      "metadata": {
        "colab": {
          "base_uri": "https://localhost:8080/"
        },
        "id": "XKqZYFYg_Iok",
        "outputId": "5d6bdc75-18ad-4e72-cf0f-0a15e8d52ad2"
      },
      "execution_count": null,
      "outputs": [
        {
          "output_type": "stream",
          "name": "stdout",
          "text": [
            "(S They/PRP (VP can/VB (NP fish/NN)) ./.)\n"
          ]
        }
      ]
    },
    {
      "cell_type": "code",
      "source": [
        "dot_source = to_graphviz(tree)\n",
        "display(dot_source)"
      ],
      "metadata": {
        "colab": {
          "base_uri": "https://localhost:8080/",
          "height": 389
        },
        "id": "zNhlGcBXC6Wd",
        "outputId": "40156945-3247-489e-87ac-ce9b4cbe99ae"
      },
      "execution_count": null,
      "outputs": [
        {
          "output_type": "display_data",
          "data": {
            "image/svg+xml": "<?xml version=\"1.0\" encoding=\"UTF-8\" standalone=\"no\"?>\n<!DOCTYPE svg PUBLIC \"-//W3C//DTD SVG 1.1//EN\"\n \"http://www.w3.org/Graphics/SVG/1.1/DTD/svg11.dtd\">\n<!-- Generated by graphviz version 2.43.0 (0)\n -->\n<!-- Title: %3 Pages: 1 -->\n<svg width=\"285pt\" height=\"260pt\"\n viewBox=\"0.00 0.00 284.59 260.00\" xmlns=\"http://www.w3.org/2000/svg\" xmlns:xlink=\"http://www.w3.org/1999/xlink\">\n<g id=\"graph0\" class=\"graph\" transform=\"scale(1 1) rotate(0) translate(4 256)\">\n<title>%3</title>\n<polygon fill=\"white\" stroke=\"transparent\" points=\"-4,4 -4,-256 280.59,-256 280.59,4 -4,4\"/>\n<!-- 0 -->\n<g id=\"node1\" class=\"node\">\n<title>0</title>\n<ellipse fill=\"none\" stroke=\"black\" cx=\"167.09\" cy=\"-234\" rx=\"27\" ry=\"18\"/>\n<text text-anchor=\"middle\" x=\"167.09\" y=\"-230.3\" font-family=\"Times,serif\" font-size=\"14.00\">S</text>\n</g>\n<!-- 1 -->\n<g id=\"node2\" class=\"node\">\n<title>1</title>\n<ellipse fill=\"none\" stroke=\"black\" cx=\"61.09\" cy=\"-162\" rx=\"61.19\" ry=\"18\"/>\n<text text-anchor=\"middle\" x=\"61.09\" y=\"-158.3\" font-family=\"Times,serif\" font-size=\"14.00\">(&#39;They&#39;, &#39;PRP&#39;)</text>\n</g>\n<!-- 0&#45;&gt;1 -->\n<g id=\"edge1\" class=\"edge\">\n<title>0&#45;&gt;1</title>\n<path fill=\"none\" stroke=\"black\" d=\"M148.63,-220.81C133.44,-210.78 111.55,-196.32 93.45,-184.37\"/>\n<polygon fill=\"black\" stroke=\"black\" points=\"95.2,-181.33 84.92,-178.74 91.34,-187.17 95.2,-181.33\"/>\n</g>\n<!-- 2 -->\n<g id=\"node3\" class=\"node\">\n<title>2</title>\n<ellipse fill=\"none\" stroke=\"black\" cx=\"167.09\" cy=\"-162\" rx=\"27\" ry=\"18\"/>\n<text text-anchor=\"middle\" x=\"167.09\" y=\"-158.3\" font-family=\"Times,serif\" font-size=\"14.00\">VP</text>\n</g>\n<!-- 0&#45;&gt;2 -->\n<g id=\"edge2\" class=\"edge\">\n<title>0&#45;&gt;2</title>\n<path fill=\"none\" stroke=\"black\" d=\"M167.09,-215.7C167.09,-207.98 167.09,-198.71 167.09,-190.11\"/>\n<polygon fill=\"black\" stroke=\"black\" points=\"170.59,-190.1 167.09,-180.1 163.59,-190.1 170.59,-190.1\"/>\n</g>\n<!-- 6 -->\n<g id=\"node7\" class=\"node\">\n<title>6</title>\n<ellipse fill=\"none\" stroke=\"black\" cx=\"244.09\" cy=\"-162\" rx=\"32.49\" ry=\"18\"/>\n<text text-anchor=\"middle\" x=\"244.09\" y=\"-158.3\" font-family=\"Times,serif\" font-size=\"14.00\">(&#39;.&#39;, &#39;.&#39;)</text>\n</g>\n<!-- 0&#45;&gt;6 -->\n<g id=\"edge6\" class=\"edge\">\n<title>0&#45;&gt;6</title>\n<path fill=\"none\" stroke=\"black\" d=\"M182.68,-218.83C193.42,-209.07 207.9,-195.9 220.11,-184.8\"/>\n<polygon fill=\"black\" stroke=\"black\" points=\"222.69,-187.19 227.74,-177.87 217.98,-182.01 222.69,-187.19\"/>\n</g>\n<!-- 3 -->\n<g id=\"node4\" class=\"node\">\n<title>3</title>\n<ellipse fill=\"none\" stroke=\"black\" cx=\"119.09\" cy=\"-90\" rx=\"51.99\" ry=\"18\"/>\n<text text-anchor=\"middle\" x=\"119.09\" y=\"-86.3\" font-family=\"Times,serif\" font-size=\"14.00\">(&#39;can&#39;, &#39;VB&#39;)</text>\n</g>\n<!-- 2&#45;&gt;3 -->\n<g id=\"edge3\" class=\"edge\">\n<title>2&#45;&gt;3</title>\n<path fill=\"none\" stroke=\"black\" d=\"M156.2,-145.12C150.36,-136.59 143.02,-125.89 136.41,-116.25\"/>\n<polygon fill=\"black\" stroke=\"black\" points=\"139.15,-114.07 130.61,-107.8 133.38,-118.02 139.15,-114.07\"/>\n</g>\n<!-- 4 -->\n<g id=\"node5\" class=\"node\">\n<title>4</title>\n<ellipse fill=\"none\" stroke=\"black\" cx=\"216.09\" cy=\"-90\" rx=\"27\" ry=\"18\"/>\n<text text-anchor=\"middle\" x=\"216.09\" y=\"-86.3\" font-family=\"Times,serif\" font-size=\"14.00\">NP</text>\n</g>\n<!-- 2&#45;&gt;4 -->\n<g id=\"edge4\" class=\"edge\">\n<title>2&#45;&gt;4</title>\n<path fill=\"none\" stroke=\"black\" d=\"M177.97,-145.46C184.25,-136.49 192.28,-125.02 199.35,-114.92\"/>\n<polygon fill=\"black\" stroke=\"black\" points=\"202.38,-116.69 205.25,-106.49 196.65,-112.68 202.38,-116.69\"/>\n</g>\n<!-- 5 -->\n<g id=\"node6\" class=\"node\">\n<title>5</title>\n<ellipse fill=\"none\" stroke=\"black\" cx=\"216.09\" cy=\"-18\" rx=\"53.09\" ry=\"18\"/>\n<text text-anchor=\"middle\" x=\"216.09\" y=\"-14.3\" font-family=\"Times,serif\" font-size=\"14.00\">(&#39;fish&#39;, &#39;NN&#39;)</text>\n</g>\n<!-- 4&#45;&gt;5 -->\n<g id=\"edge5\" class=\"edge\">\n<title>4&#45;&gt;5</title>\n<path fill=\"none\" stroke=\"black\" d=\"M216.09,-71.7C216.09,-63.98 216.09,-54.71 216.09,-46.11\"/>\n<polygon fill=\"black\" stroke=\"black\" points=\"219.59,-46.1 216.09,-36.1 212.59,-46.1 219.59,-46.1\"/>\n</g>\n</g>\n</svg>\n",
            "text/plain": [
              "<graphviz.graphs.Digraph at 0x79cac2eb91e0>"
            ]
          },
          "metadata": {}
        }
      ]
    },
    {
      "cell_type": "markdown",
      "source": [
        "# Context Free Grammars"
      ],
      "metadata": {
        "id": "9Al43XYJQcHa"
      }
    },
    {
      "cell_type": "code",
      "source": [
        "groucho_grammar = nltk.CFG.fromstring(\"\"\"\n",
        "S -> NP VP | NP VP PP\n",
        "PP -> P NP\n",
        "NP -> Det N | Det N PP | 'I'\n",
        "VP -> V NP | VP PP\n",
        "Det -> 'the' | 'my'\n",
        "N -> 'man' | 'telescope'\n",
        "V -> 'saw'\n",
        "P -> 'with'\n",
        "\"\"\")"
      ],
      "metadata": {
        "id": "5ZU_Lx9KQfpR"
      },
      "execution_count": 28,
      "outputs": []
    },
    {
      "cell_type": "code",
      "source": [
        "groucho_grammar"
      ],
      "metadata": {
        "colab": {
          "base_uri": "https://localhost:8080/"
        },
        "id": "37YmtRgjU5MI",
        "outputId": "b689f540-d515-492f-9a2e-02ea901296de"
      },
      "execution_count": 29,
      "outputs": [
        {
          "output_type": "execute_result",
          "data": {
            "text/plain": [
              "<Grammar with 14 productions>"
            ]
          },
          "metadata": {},
          "execution_count": 29
        }
      ]
    },
    {
      "cell_type": "code",
      "source": [
        "type(groucho_grammar)"
      ],
      "metadata": {
        "colab": {
          "base_uri": "https://localhost:8080/",
          "height": 187
        },
        "id": "CTnE0m_pU9du",
        "outputId": "90ca9e0e-6622-44ff-f729-b4b1494033b2"
      },
      "execution_count": 30,
      "outputs": [
        {
          "output_type": "execute_result",
          "data": {
            "text/plain": [
              "nltk.grammar.CFG"
            ],
            "text/html": [
              "<div style=\"max-width:800px; border: 1px solid var(--colab-border-color);\"><style>\n",
              "      pre.function-repr-contents {\n",
              "        overflow-x: auto;\n",
              "        padding: 8px 12px;\n",
              "        max-height: 500px;\n",
              "      }\n",
              "\n",
              "      pre.function-repr-contents.function-repr-contents-collapsed {\n",
              "        cursor: pointer;\n",
              "        max-height: 100px;\n",
              "      }\n",
              "    </style>\n",
              "    <pre style=\"white-space: initial; background:\n",
              "         var(--colab-secondary-surface-color); padding: 8px 12px;\n",
              "         border-bottom: 1px solid var(--colab-border-color);\"><b>nltk.grammar.CFG</b><br/>def __init__(start, productions, calculate_leftcorners=True)</pre><pre class=\"function-repr-contents function-repr-contents-collapsed\" style=\"\"><a class=\"filepath\" style=\"display:none\" href=\"#\">/usr/local/lib/python3.10/dist-packages/nltk/grammar.py</a>A context-free grammar.  A grammar consists of a start state and\n",
              "a set of productions.  The set of terminals and nonterminals is\n",
              "implicitly specified by the productions.\n",
              "\n",
              "If you need efficient key-based access to productions, you\n",
              "can use a subclass to implement it.</pre>\n",
              "      <script>\n",
              "      if (google.colab.kernel.accessAllowed && google.colab.files && google.colab.files.view) {\n",
              "        for (const element of document.querySelectorAll('.filepath')) {\n",
              "          element.style.display = 'block'\n",
              "          element.onclick = (event) => {\n",
              "            event.preventDefault();\n",
              "            event.stopPropagation();\n",
              "            google.colab.files.view(element.textContent, 445);\n",
              "          };\n",
              "        }\n",
              "      }\n",
              "      for (const element of document.querySelectorAll('.function-repr-contents')) {\n",
              "        element.onclick = (event) => {\n",
              "          event.preventDefault();\n",
              "          event.stopPropagation();\n",
              "          element.classList.toggle('function-repr-contents-collapsed');\n",
              "        };\n",
              "      }\n",
              "      </script>\n",
              "      </div>"
            ]
          },
          "metadata": {},
          "execution_count": 30
        }
      ]
    },
    {
      "cell_type": "code",
      "source": [
        "groucho_grammar.start()"
      ],
      "metadata": {
        "colab": {
          "base_uri": "https://localhost:8080/"
        },
        "id": "550ty8_7VBsE",
        "outputId": "2a8f0eff-9759-4f1f-fd30-bb61ec389d91"
      },
      "execution_count": 31,
      "outputs": [
        {
          "output_type": "execute_result",
          "data": {
            "text/plain": [
              "S"
            ]
          },
          "metadata": {},
          "execution_count": 31
        }
      ]
    },
    {
      "cell_type": "code",
      "source": [
        "groucho_grammar.productions()"
      ],
      "metadata": {
        "colab": {
          "base_uri": "https://localhost:8080/"
        },
        "id": "7fgAwv6aVGqS",
        "outputId": "09b5f5d0-d816-4c9e-9d94-3f1d573a3ce7"
      },
      "execution_count": 32,
      "outputs": [
        {
          "output_type": "execute_result",
          "data": {
            "text/plain": [
              "[S -> NP VP,\n",
              " S -> NP VP PP,\n",
              " PP -> P NP,\n",
              " NP -> Det N,\n",
              " NP -> Det N PP,\n",
              " NP -> 'I',\n",
              " VP -> V NP,\n",
              " VP -> VP PP,\n",
              " Det -> 'the',\n",
              " Det -> 'my',\n",
              " N -> 'man',\n",
              " N -> 'telescope',\n",
              " V -> 'saw',\n",
              " P -> 'with']"
            ]
          },
          "metadata": {},
          "execution_count": 32
        }
      ]
    },
    {
      "cell_type": "code",
      "source": [
        "from nltk.grammar import *\n",
        "groucho_grammar.productions(lhs=Nonterminal(\"NP\"))"
      ],
      "metadata": {
        "colab": {
          "base_uri": "https://localhost:8080/"
        },
        "id": "TgqH215vVOVD",
        "outputId": "572ea779-83f3-439b-bbc6-2d014c66b568"
      },
      "execution_count": 33,
      "outputs": [
        {
          "output_type": "execute_result",
          "data": {
            "text/plain": [
              "[NP -> Det N, NP -> Det N PP, NP -> 'I']"
            ]
          },
          "metadata": {},
          "execution_count": 33
        }
      ]
    },
    {
      "cell_type": "code",
      "source": [
        "groucho_grammar.productions(rhs=Nonterminal(\"Det\"))"
      ],
      "metadata": {
        "colab": {
          "base_uri": "https://localhost:8080/"
        },
        "id": "wyP60QFDVZGH",
        "outputId": "72e2abcd-dc07-4d56-959c-faee3bdda084"
      },
      "execution_count": 34,
      "outputs": [
        {
          "output_type": "execute_result",
          "data": {
            "text/plain": [
              "[NP -> Det N, NP -> Det N PP]"
            ]
          },
          "metadata": {},
          "execution_count": 34
        }
      ]
    },
    {
      "cell_type": "code",
      "source": [
        "pp = groucho_grammar.productions(rhs=Nonterminal(\"Det\"))\n",
        "pp[0]"
      ],
      "metadata": {
        "colab": {
          "base_uri": "https://localhost:8080/"
        },
        "id": "Ga96wglKVghF",
        "outputId": "afd2382e-9785-41aa-a77f-70a812ae6962"
      },
      "execution_count": 35,
      "outputs": [
        {
          "output_type": "execute_result",
          "data": {
            "text/plain": [
              "NP -> Det N"
            ]
          },
          "metadata": {},
          "execution_count": 35
        }
      ]
    },
    {
      "cell_type": "code",
      "source": [
        "pp[0].lhs()"
      ],
      "metadata": {
        "colab": {
          "base_uri": "https://localhost:8080/"
        },
        "id": "vLqQyvoeVkIP",
        "outputId": "8694c359-d91d-46cb-e52e-9eaaa466cbaa"
      },
      "execution_count": 36,
      "outputs": [
        {
          "output_type": "execute_result",
          "data": {
            "text/plain": [
              "NP"
            ]
          },
          "metadata": {},
          "execution_count": 36
        }
      ]
    },
    {
      "cell_type": "code",
      "source": [
        "pp[0].rhs()"
      ],
      "metadata": {
        "colab": {
          "base_uri": "https://localhost:8080/"
        },
        "id": "qFozpl-0VlDg",
        "outputId": "0352bd2f-03f1-4d55-b3a6-ae35a6892ed8"
      },
      "execution_count": 37,
      "outputs": [
        {
          "output_type": "execute_result",
          "data": {
            "text/plain": [
              "(Det, N)"
            ]
          },
          "metadata": {},
          "execution_count": 37
        }
      ]
    },
    {
      "cell_type": "code",
      "source": [
        "sent = ['I', 'saw', 'the', 'man', 'with', 'the', 'telescope']\n",
        "parser = nltk.ChartParser(groucho_grammar)\n",
        "trees = list(parser.parse(sent))"
      ],
      "metadata": {
        "id": "4GYPHp2oVmJ9"
      },
      "execution_count": 38,
      "outputs": []
    },
    {
      "cell_type": "code",
      "source": [
        "print(trees[0])"
      ],
      "metadata": {
        "colab": {
          "base_uri": "https://localhost:8080/"
        },
        "id": "IGtVqmqTV1J9",
        "outputId": "f1891a8a-f5e7-4deb-d1ee-4f19ad3acc58"
      },
      "execution_count": 39,
      "outputs": [
        {
          "output_type": "stream",
          "name": "stdout",
          "text": [
            "(S\n",
            "  (NP I)\n",
            "  (VP (V saw) (NP (Det the) (N man)))\n",
            "  (PP (P with) (NP (Det the) (N telescope))))\n"
          ]
        }
      ]
    },
    {
      "cell_type": "code",
      "source": [
        "dot_source = to_graphviz(trees[0])\n",
        "display(dot_source)"
      ],
      "metadata": {
        "colab": {
          "base_uri": "https://localhost:8080/",
          "height": 464
        },
        "id": "GDRAubcIV6DZ",
        "outputId": "710b89f8-61d9-413b-875c-d96271bd4999"
      },
      "execution_count": 40,
      "outputs": [
        {
          "output_type": "display_data",
          "data": {
            "image/svg+xml": "<?xml version=\"1.0\" encoding=\"UTF-8\" standalone=\"no\"?>\n<!DOCTYPE svg PUBLIC \"-//W3C//DTD SVG 1.1//EN\"\n \"http://www.w3.org/Graphics/SVG/1.1/DTD/svg11.dtd\">\n<!-- Generated by graphviz version 2.43.0 (0)\n -->\n<!-- Title: %3 Pages: 1 -->\n<svg width=\"487pt\" height=\"332pt\"\n viewBox=\"0.00 0.00 486.55 332.00\" xmlns=\"http://www.w3.org/2000/svg\" xmlns:xlink=\"http://www.w3.org/1999/xlink\">\n<g id=\"graph0\" class=\"graph\" transform=\"scale(1 1) rotate(0) translate(4 328)\">\n<title>%3</title>\n<polygon fill=\"white\" stroke=\"transparent\" points=\"-4,4 -4,-328 482.55,-328 482.55,4 -4,4\"/>\n<!-- 0 -->\n<g id=\"node1\" class=\"node\">\n<title>0</title>\n<ellipse fill=\"none\" stroke=\"black\" cx=\"135\" cy=\"-306\" rx=\"27\" ry=\"18\"/>\n<text text-anchor=\"middle\" x=\"135\" y=\"-302.3\" font-family=\"Times,serif\" font-size=\"14.00\">S</text>\n</g>\n<!-- 1 -->\n<g id=\"node2\" class=\"node\">\n<title>1</title>\n<ellipse fill=\"none\" stroke=\"black\" cx=\"63\" cy=\"-234\" rx=\"27\" ry=\"18\"/>\n<text text-anchor=\"middle\" x=\"63\" y=\"-230.3\" font-family=\"Times,serif\" font-size=\"14.00\">NP</text>\n</g>\n<!-- 0&#45;&gt;1 -->\n<g id=\"edge1\" class=\"edge\">\n<title>0&#45;&gt;1</title>\n<path fill=\"none\" stroke=\"black\" d=\"M120.43,-290.83C110.25,-280.94 96.48,-267.55 84.97,-256.36\"/>\n<polygon fill=\"black\" stroke=\"black\" points=\"87.41,-253.85 77.8,-249.38 82.53,-258.87 87.41,-253.85\"/>\n</g>\n<!-- 3 -->\n<g id=\"node4\" class=\"node\">\n<title>3</title>\n<ellipse fill=\"none\" stroke=\"black\" cx=\"135\" cy=\"-234\" rx=\"27\" ry=\"18\"/>\n<text text-anchor=\"middle\" x=\"135\" y=\"-230.3\" font-family=\"Times,serif\" font-size=\"14.00\">VP</text>\n</g>\n<!-- 0&#45;&gt;3 -->\n<g id=\"edge3\" class=\"edge\">\n<title>0&#45;&gt;3</title>\n<path fill=\"none\" stroke=\"black\" d=\"M135,-287.7C135,-279.98 135,-270.71 135,-262.11\"/>\n<polygon fill=\"black\" stroke=\"black\" points=\"138.5,-262.1 135,-252.1 131.5,-262.1 138.5,-262.1\"/>\n</g>\n<!-- 11 -->\n<g id=\"node12\" class=\"node\">\n<title>11</title>\n<ellipse fill=\"none\" stroke=\"black\" cx=\"279\" cy=\"-234\" rx=\"27\" ry=\"18\"/>\n<text text-anchor=\"middle\" x=\"279\" y=\"-230.3\" font-family=\"Times,serif\" font-size=\"14.00\">PP</text>\n</g>\n<!-- 0&#45;&gt;11 -->\n<g id=\"edge11\" class=\"edge\">\n<title>0&#45;&gt;11</title>\n<path fill=\"none\" stroke=\"black\" d=\"M156.25,-294.67C180.6,-282.83 220.72,-263.33 248.43,-249.86\"/>\n<polygon fill=\"black\" stroke=\"black\" points=\"250.2,-252.89 257.67,-245.37 247.14,-246.6 250.2,-252.89\"/>\n</g>\n<!-- 2 -->\n<g id=\"node3\" class=\"node\">\n<title>2</title>\n<ellipse fill=\"none\" stroke=\"black\" cx=\"27\" cy=\"-162\" rx=\"27\" ry=\"18\"/>\n<text text-anchor=\"middle\" x=\"27\" y=\"-158.3\" font-family=\"Times,serif\" font-size=\"14.00\">I</text>\n</g>\n<!-- 1&#45;&gt;2 -->\n<g id=\"edge2\" class=\"edge\">\n<title>1&#45;&gt;2</title>\n<path fill=\"none\" stroke=\"black\" d=\"M54.65,-216.76C50.29,-208.28 44.85,-197.71 39.96,-188.2\"/>\n<polygon fill=\"black\" stroke=\"black\" points=\"42.99,-186.44 35.3,-179.15 36.77,-189.64 42.99,-186.44\"/>\n</g>\n<!-- 4 -->\n<g id=\"node5\" class=\"node\">\n<title>4</title>\n<ellipse fill=\"none\" stroke=\"black\" cx=\"99\" cy=\"-162\" rx=\"27\" ry=\"18\"/>\n<text text-anchor=\"middle\" x=\"99\" y=\"-158.3\" font-family=\"Times,serif\" font-size=\"14.00\">V</text>\n</g>\n<!-- 3&#45;&gt;4 -->\n<g id=\"edge4\" class=\"edge\">\n<title>3&#45;&gt;4</title>\n<path fill=\"none\" stroke=\"black\" d=\"M126.65,-216.76C122.29,-208.28 116.85,-197.71 111.96,-188.2\"/>\n<polygon fill=\"black\" stroke=\"black\" points=\"114.99,-186.44 107.3,-179.15 108.77,-189.64 114.99,-186.44\"/>\n</g>\n<!-- 6 -->\n<g id=\"node7\" class=\"node\">\n<title>6</title>\n<ellipse fill=\"none\" stroke=\"black\" cx=\"171\" cy=\"-162\" rx=\"27\" ry=\"18\"/>\n<text text-anchor=\"middle\" x=\"171\" y=\"-158.3\" font-family=\"Times,serif\" font-size=\"14.00\">NP</text>\n</g>\n<!-- 3&#45;&gt;6 -->\n<g id=\"edge6\" class=\"edge\">\n<title>3&#45;&gt;6</title>\n<path fill=\"none\" stroke=\"black\" d=\"M143.35,-216.76C147.71,-208.28 153.15,-197.71 158.04,-188.2\"/>\n<polygon fill=\"black\" stroke=\"black\" points=\"161.23,-189.64 162.7,-179.15 155.01,-186.44 161.23,-189.64\"/>\n</g>\n<!-- 5 -->\n<g id=\"node6\" class=\"node\">\n<title>5</title>\n<ellipse fill=\"none\" stroke=\"black\" cx=\"63\" cy=\"-90\" rx=\"27\" ry=\"18\"/>\n<text text-anchor=\"middle\" x=\"63\" y=\"-86.3\" font-family=\"Times,serif\" font-size=\"14.00\">saw</text>\n</g>\n<!-- 4&#45;&gt;5 -->\n<g id=\"edge5\" class=\"edge\">\n<title>4&#45;&gt;5</title>\n<path fill=\"none\" stroke=\"black\" d=\"M90.65,-144.76C86.29,-136.28 80.85,-125.71 75.96,-116.2\"/>\n<polygon fill=\"black\" stroke=\"black\" points=\"78.99,-114.44 71.3,-107.15 72.77,-117.64 78.99,-114.44\"/>\n</g>\n<!-- 7 -->\n<g id=\"node8\" class=\"node\">\n<title>7</title>\n<ellipse fill=\"none\" stroke=\"black\" cx=\"135\" cy=\"-90\" rx=\"27\" ry=\"18\"/>\n<text text-anchor=\"middle\" x=\"135\" y=\"-86.3\" font-family=\"Times,serif\" font-size=\"14.00\">Det</text>\n</g>\n<!-- 6&#45;&gt;7 -->\n<g id=\"edge7\" class=\"edge\">\n<title>6&#45;&gt;7</title>\n<path fill=\"none\" stroke=\"black\" d=\"M162.65,-144.76C158.29,-136.28 152.85,-125.71 147.96,-116.2\"/>\n<polygon fill=\"black\" stroke=\"black\" points=\"150.99,-114.44 143.3,-107.15 144.77,-117.64 150.99,-114.44\"/>\n</g>\n<!-- 9 -->\n<g id=\"node10\" class=\"node\">\n<title>9</title>\n<ellipse fill=\"none\" stroke=\"black\" cx=\"207\" cy=\"-90\" rx=\"27\" ry=\"18\"/>\n<text text-anchor=\"middle\" x=\"207\" y=\"-86.3\" font-family=\"Times,serif\" font-size=\"14.00\">N</text>\n</g>\n<!-- 6&#45;&gt;9 -->\n<g id=\"edge9\" class=\"edge\">\n<title>6&#45;&gt;9</title>\n<path fill=\"none\" stroke=\"black\" d=\"M179.35,-144.76C183.71,-136.28 189.15,-125.71 194.04,-116.2\"/>\n<polygon fill=\"black\" stroke=\"black\" points=\"197.23,-117.64 198.7,-107.15 191.01,-114.44 197.23,-117.64\"/>\n</g>\n<!-- 8 -->\n<g id=\"node9\" class=\"node\">\n<title>8</title>\n<ellipse fill=\"none\" stroke=\"black\" cx=\"135\" cy=\"-18\" rx=\"27\" ry=\"18\"/>\n<text text-anchor=\"middle\" x=\"135\" y=\"-14.3\" font-family=\"Times,serif\" font-size=\"14.00\">the</text>\n</g>\n<!-- 7&#45;&gt;8 -->\n<g id=\"edge8\" class=\"edge\">\n<title>7&#45;&gt;8</title>\n<path fill=\"none\" stroke=\"black\" d=\"M135,-71.7C135,-63.98 135,-54.71 135,-46.11\"/>\n<polygon fill=\"black\" stroke=\"black\" points=\"138.5,-46.1 135,-36.1 131.5,-46.1 138.5,-46.1\"/>\n</g>\n<!-- 10 -->\n<g id=\"node11\" class=\"node\">\n<title>10</title>\n<ellipse fill=\"none\" stroke=\"black\" cx=\"207\" cy=\"-18\" rx=\"27\" ry=\"18\"/>\n<text text-anchor=\"middle\" x=\"207\" y=\"-14.3\" font-family=\"Times,serif\" font-size=\"14.00\">man</text>\n</g>\n<!-- 9&#45;&gt;10 -->\n<g id=\"edge10\" class=\"edge\">\n<title>9&#45;&gt;10</title>\n<path fill=\"none\" stroke=\"black\" d=\"M207,-71.7C207,-63.98 207,-54.71 207,-46.11\"/>\n<polygon fill=\"black\" stroke=\"black\" points=\"210.5,-46.1 207,-36.1 203.5,-46.1 210.5,-46.1\"/>\n</g>\n<!-- 12 -->\n<g id=\"node13\" class=\"node\">\n<title>12</title>\n<ellipse fill=\"none\" stroke=\"black\" cx=\"279\" cy=\"-162\" rx=\"27\" ry=\"18\"/>\n<text text-anchor=\"middle\" x=\"279\" y=\"-158.3\" font-family=\"Times,serif\" font-size=\"14.00\">P</text>\n</g>\n<!-- 11&#45;&gt;12 -->\n<g id=\"edge12\" class=\"edge\">\n<title>11&#45;&gt;12</title>\n<path fill=\"none\" stroke=\"black\" d=\"M279,-215.7C279,-207.98 279,-198.71 279,-190.11\"/>\n<polygon fill=\"black\" stroke=\"black\" points=\"282.5,-190.1 279,-180.1 275.5,-190.1 282.5,-190.1\"/>\n</g>\n<!-- 14 -->\n<g id=\"node15\" class=\"node\">\n<title>14</title>\n<ellipse fill=\"none\" stroke=\"black\" cx=\"351\" cy=\"-162\" rx=\"27\" ry=\"18\"/>\n<text text-anchor=\"middle\" x=\"351\" y=\"-158.3\" font-family=\"Times,serif\" font-size=\"14.00\">NP</text>\n</g>\n<!-- 11&#45;&gt;14 -->\n<g id=\"edge14\" class=\"edge\">\n<title>11&#45;&gt;14</title>\n<path fill=\"none\" stroke=\"black\" d=\"M293.57,-218.83C303.75,-208.94 317.52,-195.55 329.03,-184.36\"/>\n<polygon fill=\"black\" stroke=\"black\" points=\"331.47,-186.87 336.2,-177.38 326.59,-181.85 331.47,-186.87\"/>\n</g>\n<!-- 13 -->\n<g id=\"node14\" class=\"node\">\n<title>13</title>\n<ellipse fill=\"none\" stroke=\"black\" cx=\"279\" cy=\"-90\" rx=\"27\" ry=\"18\"/>\n<text text-anchor=\"middle\" x=\"279\" y=\"-86.3\" font-family=\"Times,serif\" font-size=\"14.00\">with</text>\n</g>\n<!-- 12&#45;&gt;13 -->\n<g id=\"edge13\" class=\"edge\">\n<title>12&#45;&gt;13</title>\n<path fill=\"none\" stroke=\"black\" d=\"M279,-143.7C279,-135.98 279,-126.71 279,-118.11\"/>\n<polygon fill=\"black\" stroke=\"black\" points=\"282.5,-118.1 279,-108.1 275.5,-118.1 282.5,-118.1\"/>\n</g>\n<!-- 15 -->\n<g id=\"node16\" class=\"node\">\n<title>15</title>\n<ellipse fill=\"none\" stroke=\"black\" cx=\"351\" cy=\"-90\" rx=\"27\" ry=\"18\"/>\n<text text-anchor=\"middle\" x=\"351\" y=\"-86.3\" font-family=\"Times,serif\" font-size=\"14.00\">Det</text>\n</g>\n<!-- 14&#45;&gt;15 -->\n<g id=\"edge15\" class=\"edge\">\n<title>14&#45;&gt;15</title>\n<path fill=\"none\" stroke=\"black\" d=\"M351,-143.7C351,-135.98 351,-126.71 351,-118.11\"/>\n<polygon fill=\"black\" stroke=\"black\" points=\"354.5,-118.1 351,-108.1 347.5,-118.1 354.5,-118.1\"/>\n</g>\n<!-- 17 -->\n<g id=\"node18\" class=\"node\">\n<title>17</title>\n<ellipse fill=\"none\" stroke=\"black\" cx=\"431\" cy=\"-90\" rx=\"27\" ry=\"18\"/>\n<text text-anchor=\"middle\" x=\"431\" y=\"-86.3\" font-family=\"Times,serif\" font-size=\"14.00\">N</text>\n</g>\n<!-- 14&#45;&gt;17 -->\n<g id=\"edge17\" class=\"edge\">\n<title>14&#45;&gt;17</title>\n<path fill=\"none\" stroke=\"black\" d=\"M366.81,-147.17C378.42,-137.01 394.39,-123.03 407.5,-111.56\"/>\n<polygon fill=\"black\" stroke=\"black\" points=\"410.01,-114.02 415.23,-104.8 405.4,-108.75 410.01,-114.02\"/>\n</g>\n<!-- 16 -->\n<g id=\"node17\" class=\"node\">\n<title>16</title>\n<ellipse fill=\"none\" stroke=\"black\" cx=\"346\" cy=\"-18\" rx=\"27\" ry=\"18\"/>\n<text text-anchor=\"middle\" x=\"346\" y=\"-14.3\" font-family=\"Times,serif\" font-size=\"14.00\">the</text>\n</g>\n<!-- 15&#45;&gt;16 -->\n<g id=\"edge16\" class=\"edge\">\n<title>15&#45;&gt;16</title>\n<path fill=\"none\" stroke=\"black\" d=\"M349.76,-71.7C349.21,-63.98 348.55,-54.71 347.94,-46.11\"/>\n<polygon fill=\"black\" stroke=\"black\" points=\"351.43,-45.83 347.22,-36.1 344.44,-46.33 351.43,-45.83\"/>\n</g>\n<!-- 18 -->\n<g id=\"node19\" class=\"node\">\n<title>18</title>\n<ellipse fill=\"none\" stroke=\"black\" cx=\"435\" cy=\"-18\" rx=\"43.59\" ry=\"18\"/>\n<text text-anchor=\"middle\" x=\"435\" y=\"-14.3\" font-family=\"Times,serif\" font-size=\"14.00\">telescope</text>\n</g>\n<!-- 17&#45;&gt;18 -->\n<g id=\"edge18\" class=\"edge\">\n<title>17&#45;&gt;18</title>\n<path fill=\"none\" stroke=\"black\" d=\"M431.99,-71.7C432.43,-63.98 432.96,-54.71 433.45,-46.11\"/>\n<polygon fill=\"black\" stroke=\"black\" points=\"436.95,-46.29 434.02,-36.1 429.96,-45.89 436.95,-46.29\"/>\n</g>\n</g>\n</svg>\n",
            "text/plain": [
              "<graphviz.graphs.Digraph at 0x7c2a6d9c7c40>"
            ]
          },
          "metadata": {}
        }
      ]
    },
    {
      "cell_type": "code",
      "source": [
        "print(trees[1])"
      ],
      "metadata": {
        "colab": {
          "base_uri": "https://localhost:8080/"
        },
        "id": "djQDfJ97V8lM",
        "outputId": "f2571aec-fcd2-4066-b74d-a9264334da16"
      },
      "execution_count": 41,
      "outputs": [
        {
          "output_type": "stream",
          "name": "stdout",
          "text": [
            "(S\n",
            "  (NP I)\n",
            "  (VP\n",
            "    (VP (V saw) (NP (Det the) (N man)))\n",
            "    (PP (P with) (NP (Det the) (N telescope)))))\n"
          ]
        }
      ]
    },
    {
      "cell_type": "code",
      "source": [
        "dot_source = to_graphviz(trees[1])\n",
        "display(dot_source)"
      ],
      "metadata": {
        "colab": {
          "base_uri": "https://localhost:8080/",
          "height": 560
        },
        "id": "nyWXwcerWETq",
        "outputId": "b3d655db-bb08-4f50-9543-3fd7c42c14d9"
      },
      "execution_count": 42,
      "outputs": [
        {
          "output_type": "display_data",
          "data": {
            "image/svg+xml": "<?xml version=\"1.0\" encoding=\"UTF-8\" standalone=\"no\"?>\n<!DOCTYPE svg PUBLIC \"-//W3C//DTD SVG 1.1//EN\"\n \"http://www.w3.org/Graphics/SVG/1.1/DTD/svg11.dtd\">\n<!-- Generated by graphviz version 2.43.0 (0)\n -->\n<!-- Title: %3 Pages: 1 -->\n<svg width=\"451pt\" height=\"404pt\"\n viewBox=\"0.00 0.00 450.55 404.00\" xmlns=\"http://www.w3.org/2000/svg\" xmlns:xlink=\"http://www.w3.org/1999/xlink\">\n<g id=\"graph0\" class=\"graph\" transform=\"scale(1 1) rotate(0) translate(4 400)\">\n<title>%3</title>\n<polygon fill=\"white\" stroke=\"transparent\" points=\"-4,4 -4,-400 446.55,-400 446.55,4 -4,4\"/>\n<!-- 0 -->\n<g id=\"node1\" class=\"node\">\n<title>0</title>\n<ellipse fill=\"none\" stroke=\"black\" cx=\"99\" cy=\"-378\" rx=\"27\" ry=\"18\"/>\n<text text-anchor=\"middle\" x=\"99\" y=\"-374.3\" font-family=\"Times,serif\" font-size=\"14.00\">S</text>\n</g>\n<!-- 1 -->\n<g id=\"node2\" class=\"node\">\n<title>1</title>\n<ellipse fill=\"none\" stroke=\"black\" cx=\"63\" cy=\"-306\" rx=\"27\" ry=\"18\"/>\n<text text-anchor=\"middle\" x=\"63\" y=\"-302.3\" font-family=\"Times,serif\" font-size=\"14.00\">NP</text>\n</g>\n<!-- 0&#45;&gt;1 -->\n<g id=\"edge1\" class=\"edge\">\n<title>0&#45;&gt;1</title>\n<path fill=\"none\" stroke=\"black\" d=\"M90.65,-360.76C86.29,-352.28 80.85,-341.71 75.96,-332.2\"/>\n<polygon fill=\"black\" stroke=\"black\" points=\"78.99,-330.44 71.3,-323.15 72.77,-333.64 78.99,-330.44\"/>\n</g>\n<!-- 3 -->\n<g id=\"node4\" class=\"node\">\n<title>3</title>\n<ellipse fill=\"none\" stroke=\"black\" cx=\"135\" cy=\"-306\" rx=\"27\" ry=\"18\"/>\n<text text-anchor=\"middle\" x=\"135\" y=\"-302.3\" font-family=\"Times,serif\" font-size=\"14.00\">VP</text>\n</g>\n<!-- 0&#45;&gt;3 -->\n<g id=\"edge3\" class=\"edge\">\n<title>0&#45;&gt;3</title>\n<path fill=\"none\" stroke=\"black\" d=\"M107.35,-360.76C111.71,-352.28 117.15,-341.71 122.04,-332.2\"/>\n<polygon fill=\"black\" stroke=\"black\" points=\"125.23,-333.64 126.7,-323.15 119.01,-330.44 125.23,-333.64\"/>\n</g>\n<!-- 2 -->\n<g id=\"node3\" class=\"node\">\n<title>2</title>\n<ellipse fill=\"none\" stroke=\"black\" cx=\"63\" cy=\"-234\" rx=\"27\" ry=\"18\"/>\n<text text-anchor=\"middle\" x=\"63\" y=\"-230.3\" font-family=\"Times,serif\" font-size=\"14.00\">I</text>\n</g>\n<!-- 1&#45;&gt;2 -->\n<g id=\"edge2\" class=\"edge\">\n<title>1&#45;&gt;2</title>\n<path fill=\"none\" stroke=\"black\" d=\"M63,-287.7C63,-279.98 63,-270.71 63,-262.11\"/>\n<polygon fill=\"black\" stroke=\"black\" points=\"66.5,-262.1 63,-252.1 59.5,-262.1 66.5,-262.1\"/>\n</g>\n<!-- 4 -->\n<g id=\"node5\" class=\"node\">\n<title>4</title>\n<ellipse fill=\"none\" stroke=\"black\" cx=\"135\" cy=\"-234\" rx=\"27\" ry=\"18\"/>\n<text text-anchor=\"middle\" x=\"135\" y=\"-230.3\" font-family=\"Times,serif\" font-size=\"14.00\">VP</text>\n</g>\n<!-- 3&#45;&gt;4 -->\n<g id=\"edge4\" class=\"edge\">\n<title>3&#45;&gt;4</title>\n<path fill=\"none\" stroke=\"black\" d=\"M135,-287.7C135,-279.98 135,-270.71 135,-262.11\"/>\n<polygon fill=\"black\" stroke=\"black\" points=\"138.5,-262.1 135,-252.1 131.5,-262.1 138.5,-262.1\"/>\n</g>\n<!-- 12 -->\n<g id=\"node13\" class=\"node\">\n<title>12</title>\n<ellipse fill=\"none\" stroke=\"black\" cx=\"243\" cy=\"-234\" rx=\"27\" ry=\"18\"/>\n<text text-anchor=\"middle\" x=\"243\" y=\"-230.3\" font-family=\"Times,serif\" font-size=\"14.00\">PP</text>\n</g>\n<!-- 3&#45;&gt;12 -->\n<g id=\"edge12\" class=\"edge\">\n<title>3&#45;&gt;12</title>\n<path fill=\"none\" stroke=\"black\" d=\"M153.81,-292.81C171,-281.67 196.62,-265.06 215.99,-252.5\"/>\n<polygon fill=\"black\" stroke=\"black\" points=\"217.92,-255.43 224.4,-247.05 214.11,-249.56 217.92,-255.43\"/>\n</g>\n<!-- 5 -->\n<g id=\"node6\" class=\"node\">\n<title>5</title>\n<ellipse fill=\"none\" stroke=\"black\" cx=\"63\" cy=\"-162\" rx=\"27\" ry=\"18\"/>\n<text text-anchor=\"middle\" x=\"63\" y=\"-158.3\" font-family=\"Times,serif\" font-size=\"14.00\">V</text>\n</g>\n<!-- 4&#45;&gt;5 -->\n<g id=\"edge5\" class=\"edge\">\n<title>4&#45;&gt;5</title>\n<path fill=\"none\" stroke=\"black\" d=\"M120.43,-218.83C110.25,-208.94 96.48,-195.55 84.97,-184.36\"/>\n<polygon fill=\"black\" stroke=\"black\" points=\"87.41,-181.85 77.8,-177.38 82.53,-186.87 87.41,-181.85\"/>\n</g>\n<!-- 7 -->\n<g id=\"node8\" class=\"node\">\n<title>7</title>\n<ellipse fill=\"none\" stroke=\"black\" cx=\"135\" cy=\"-162\" rx=\"27\" ry=\"18\"/>\n<text text-anchor=\"middle\" x=\"135\" y=\"-158.3\" font-family=\"Times,serif\" font-size=\"14.00\">NP</text>\n</g>\n<!-- 4&#45;&gt;7 -->\n<g id=\"edge7\" class=\"edge\">\n<title>4&#45;&gt;7</title>\n<path fill=\"none\" stroke=\"black\" d=\"M135,-215.7C135,-207.98 135,-198.71 135,-190.11\"/>\n<polygon fill=\"black\" stroke=\"black\" points=\"138.5,-190.1 135,-180.1 131.5,-190.1 138.5,-190.1\"/>\n</g>\n<!-- 6 -->\n<g id=\"node7\" class=\"node\">\n<title>6</title>\n<ellipse fill=\"none\" stroke=\"black\" cx=\"27\" cy=\"-90\" rx=\"27\" ry=\"18\"/>\n<text text-anchor=\"middle\" x=\"27\" y=\"-86.3\" font-family=\"Times,serif\" font-size=\"14.00\">saw</text>\n</g>\n<!-- 5&#45;&gt;6 -->\n<g id=\"edge6\" class=\"edge\">\n<title>5&#45;&gt;6</title>\n<path fill=\"none\" stroke=\"black\" d=\"M54.65,-144.76C50.29,-136.28 44.85,-125.71 39.96,-116.2\"/>\n<polygon fill=\"black\" stroke=\"black\" points=\"42.99,-114.44 35.3,-107.15 36.77,-117.64 42.99,-114.44\"/>\n</g>\n<!-- 8 -->\n<g id=\"node9\" class=\"node\">\n<title>8</title>\n<ellipse fill=\"none\" stroke=\"black\" cx=\"99\" cy=\"-90\" rx=\"27\" ry=\"18\"/>\n<text text-anchor=\"middle\" x=\"99\" y=\"-86.3\" font-family=\"Times,serif\" font-size=\"14.00\">Det</text>\n</g>\n<!-- 7&#45;&gt;8 -->\n<g id=\"edge8\" class=\"edge\">\n<title>7&#45;&gt;8</title>\n<path fill=\"none\" stroke=\"black\" d=\"M126.65,-144.76C122.29,-136.28 116.85,-125.71 111.96,-116.2\"/>\n<polygon fill=\"black\" stroke=\"black\" points=\"114.99,-114.44 107.3,-107.15 108.77,-117.64 114.99,-114.44\"/>\n</g>\n<!-- 10 -->\n<g id=\"node11\" class=\"node\">\n<title>10</title>\n<ellipse fill=\"none\" stroke=\"black\" cx=\"171\" cy=\"-90\" rx=\"27\" ry=\"18\"/>\n<text text-anchor=\"middle\" x=\"171\" y=\"-86.3\" font-family=\"Times,serif\" font-size=\"14.00\">N</text>\n</g>\n<!-- 7&#45;&gt;10 -->\n<g id=\"edge10\" class=\"edge\">\n<title>7&#45;&gt;10</title>\n<path fill=\"none\" stroke=\"black\" d=\"M143.35,-144.76C147.71,-136.28 153.15,-125.71 158.04,-116.2\"/>\n<polygon fill=\"black\" stroke=\"black\" points=\"161.23,-117.64 162.7,-107.15 155.01,-114.44 161.23,-117.64\"/>\n</g>\n<!-- 9 -->\n<g id=\"node10\" class=\"node\">\n<title>9</title>\n<ellipse fill=\"none\" stroke=\"black\" cx=\"99\" cy=\"-18\" rx=\"27\" ry=\"18\"/>\n<text text-anchor=\"middle\" x=\"99\" y=\"-14.3\" font-family=\"Times,serif\" font-size=\"14.00\">the</text>\n</g>\n<!-- 8&#45;&gt;9 -->\n<g id=\"edge9\" class=\"edge\">\n<title>8&#45;&gt;9</title>\n<path fill=\"none\" stroke=\"black\" d=\"M99,-71.7C99,-63.98 99,-54.71 99,-46.11\"/>\n<polygon fill=\"black\" stroke=\"black\" points=\"102.5,-46.1 99,-36.1 95.5,-46.1 102.5,-46.1\"/>\n</g>\n<!-- 11 -->\n<g id=\"node12\" class=\"node\">\n<title>11</title>\n<ellipse fill=\"none\" stroke=\"black\" cx=\"171\" cy=\"-18\" rx=\"27\" ry=\"18\"/>\n<text text-anchor=\"middle\" x=\"171\" y=\"-14.3\" font-family=\"Times,serif\" font-size=\"14.00\">man</text>\n</g>\n<!-- 10&#45;&gt;11 -->\n<g id=\"edge11\" class=\"edge\">\n<title>10&#45;&gt;11</title>\n<path fill=\"none\" stroke=\"black\" d=\"M171,-71.7C171,-63.98 171,-54.71 171,-46.11\"/>\n<polygon fill=\"black\" stroke=\"black\" points=\"174.5,-46.1 171,-36.1 167.5,-46.1 174.5,-46.1\"/>\n</g>\n<!-- 13 -->\n<g id=\"node14\" class=\"node\">\n<title>13</title>\n<ellipse fill=\"none\" stroke=\"black\" cx=\"243\" cy=\"-162\" rx=\"27\" ry=\"18\"/>\n<text text-anchor=\"middle\" x=\"243\" y=\"-158.3\" font-family=\"Times,serif\" font-size=\"14.00\">P</text>\n</g>\n<!-- 12&#45;&gt;13 -->\n<g id=\"edge13\" class=\"edge\">\n<title>12&#45;&gt;13</title>\n<path fill=\"none\" stroke=\"black\" d=\"M243,-215.7C243,-207.98 243,-198.71 243,-190.11\"/>\n<polygon fill=\"black\" stroke=\"black\" points=\"246.5,-190.1 243,-180.1 239.5,-190.1 246.5,-190.1\"/>\n</g>\n<!-- 15 -->\n<g id=\"node16\" class=\"node\">\n<title>15</title>\n<ellipse fill=\"none\" stroke=\"black\" cx=\"315\" cy=\"-162\" rx=\"27\" ry=\"18\"/>\n<text text-anchor=\"middle\" x=\"315\" y=\"-158.3\" font-family=\"Times,serif\" font-size=\"14.00\">NP</text>\n</g>\n<!-- 12&#45;&gt;15 -->\n<g id=\"edge15\" class=\"edge\">\n<title>12&#45;&gt;15</title>\n<path fill=\"none\" stroke=\"black\" d=\"M257.57,-218.83C267.75,-208.94 281.52,-195.55 293.03,-184.36\"/>\n<polygon fill=\"black\" stroke=\"black\" points=\"295.47,-186.87 300.2,-177.38 290.59,-181.85 295.47,-186.87\"/>\n</g>\n<!-- 14 -->\n<g id=\"node15\" class=\"node\">\n<title>14</title>\n<ellipse fill=\"none\" stroke=\"black\" cx=\"243\" cy=\"-90\" rx=\"27\" ry=\"18\"/>\n<text text-anchor=\"middle\" x=\"243\" y=\"-86.3\" font-family=\"Times,serif\" font-size=\"14.00\">with</text>\n</g>\n<!-- 13&#45;&gt;14 -->\n<g id=\"edge14\" class=\"edge\">\n<title>13&#45;&gt;14</title>\n<path fill=\"none\" stroke=\"black\" d=\"M243,-143.7C243,-135.98 243,-126.71 243,-118.11\"/>\n<polygon fill=\"black\" stroke=\"black\" points=\"246.5,-118.1 243,-108.1 239.5,-118.1 246.5,-118.1\"/>\n</g>\n<!-- 16 -->\n<g id=\"node17\" class=\"node\">\n<title>16</title>\n<ellipse fill=\"none\" stroke=\"black\" cx=\"315\" cy=\"-90\" rx=\"27\" ry=\"18\"/>\n<text text-anchor=\"middle\" x=\"315\" y=\"-86.3\" font-family=\"Times,serif\" font-size=\"14.00\">Det</text>\n</g>\n<!-- 15&#45;&gt;16 -->\n<g id=\"edge16\" class=\"edge\">\n<title>15&#45;&gt;16</title>\n<path fill=\"none\" stroke=\"black\" d=\"M315,-143.7C315,-135.98 315,-126.71 315,-118.11\"/>\n<polygon fill=\"black\" stroke=\"black\" points=\"318.5,-118.1 315,-108.1 311.5,-118.1 318.5,-118.1\"/>\n</g>\n<!-- 18 -->\n<g id=\"node19\" class=\"node\">\n<title>18</title>\n<ellipse fill=\"none\" stroke=\"black\" cx=\"395\" cy=\"-90\" rx=\"27\" ry=\"18\"/>\n<text text-anchor=\"middle\" x=\"395\" y=\"-86.3\" font-family=\"Times,serif\" font-size=\"14.00\">N</text>\n</g>\n<!-- 15&#45;&gt;18 -->\n<g id=\"edge18\" class=\"edge\">\n<title>15&#45;&gt;18</title>\n<path fill=\"none\" stroke=\"black\" d=\"M330.81,-147.17C342.42,-137.01 358.39,-123.03 371.5,-111.56\"/>\n<polygon fill=\"black\" stroke=\"black\" points=\"374.01,-114.02 379.23,-104.8 369.4,-108.75 374.01,-114.02\"/>\n</g>\n<!-- 17 -->\n<g id=\"node18\" class=\"node\">\n<title>17</title>\n<ellipse fill=\"none\" stroke=\"black\" cx=\"310\" cy=\"-18\" rx=\"27\" ry=\"18\"/>\n<text text-anchor=\"middle\" x=\"310\" y=\"-14.3\" font-family=\"Times,serif\" font-size=\"14.00\">the</text>\n</g>\n<!-- 16&#45;&gt;17 -->\n<g id=\"edge17\" class=\"edge\">\n<title>16&#45;&gt;17</title>\n<path fill=\"none\" stroke=\"black\" d=\"M313.76,-71.7C313.21,-63.98 312.55,-54.71 311.94,-46.11\"/>\n<polygon fill=\"black\" stroke=\"black\" points=\"315.43,-45.83 311.22,-36.1 308.44,-46.33 315.43,-45.83\"/>\n</g>\n<!-- 19 -->\n<g id=\"node20\" class=\"node\">\n<title>19</title>\n<ellipse fill=\"none\" stroke=\"black\" cx=\"399\" cy=\"-18\" rx=\"43.59\" ry=\"18\"/>\n<text text-anchor=\"middle\" x=\"399\" y=\"-14.3\" font-family=\"Times,serif\" font-size=\"14.00\">telescope</text>\n</g>\n<!-- 18&#45;&gt;19 -->\n<g id=\"edge19\" class=\"edge\">\n<title>18&#45;&gt;19</title>\n<path fill=\"none\" stroke=\"black\" d=\"M395.99,-71.7C396.43,-63.98 396.96,-54.71 397.45,-46.11\"/>\n<polygon fill=\"black\" stroke=\"black\" points=\"400.95,-46.29 398.02,-36.1 393.96,-45.89 400.95,-46.29\"/>\n</g>\n</g>\n</svg>\n",
            "text/plain": [
              "<graphviz.graphs.Digraph at 0x7c2a701c79a0>"
            ]
          },
          "metadata": {}
        }
      ]
    },
    {
      "cell_type": "code",
      "source": [],
      "metadata": {
        "id": "jjEYsPivWKrg"
      },
      "execution_count": null,
      "outputs": []
    }
  ]
}