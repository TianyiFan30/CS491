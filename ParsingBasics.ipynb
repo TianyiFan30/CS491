{
  "nbformat": 4,
  "nbformat_minor": 0,
  "metadata": {
    "colab": {
      "provenance": [],
      "collapsed_sections": [
        "t5WbWUmcB1A_",
        "OfRYU89CB8-u",
        "8ZHXr_x28KMF",
        "wSC1oXA19Mda"
      ],
      "include_colab_link": true
    },
    "kernelspec": {
      "name": "python3",
      "display_name": "Python 3"
    },
    "language_info": {
      "name": "python"
    }
  },
  "cells": [
    {
      "cell_type": "markdown",
      "metadata": {
        "id": "view-in-github",
        "colab_type": "text"
      },
      "source": [
        "<a href=\"https://colab.research.google.com/github/TianyiFan30/CS491/blob/main/ParsingBasics.ipynb\" target=\"_parent\"><img src=\"https://colab.research.google.com/assets/colab-badge.svg\" alt=\"Open In Colab\"/></a>"
      ]
    },
    {
      "cell_type": "markdown",
      "source": [
        "# Initialize things"
      ],
      "metadata": {
        "id": "t5WbWUmcB1A_"
      }
    },
    {
      "cell_type": "code",
      "execution_count": 1,
      "metadata": {
        "colab": {
          "base_uri": "https://localhost:8080/"
        },
        "id": "4FyUaGuo4MsF",
        "outputId": "4685b820-94f2-430c-f5e0-65664ea5836e"
      },
      "outputs": [
        {
          "output_type": "stream",
          "name": "stderr",
          "text": [
            "[nltk_data] Downloading package punkt to /root/nltk_data...\n",
            "[nltk_data]   Unzipping tokenizers/punkt.zip.\n"
          ]
        }
      ],
      "source": [
        "import nltk\n",
        "from nltk.tokenize import sent_tokenize\n",
        "nltk.download('punkt')\n",
        "\n",
        "import graphviz"
      ]
    },
    {
      "cell_type": "code",
      "source": [
        "nltk.download('averaged_perceptron_tagger')"
      ],
      "metadata": {
        "colab": {
          "base_uri": "https://localhost:8080/"
        },
        "id": "6YM5N09l4QOg",
        "outputId": "235221dc-068d-4c1f-fb1a-490493f6ad77"
      },
      "execution_count": 2,
      "outputs": [
        {
          "output_type": "stream",
          "name": "stderr",
          "text": [
            "[nltk_data] Downloading package averaged_perceptron_tagger to\n",
            "[nltk_data]     /root/nltk_data...\n",
            "[nltk_data]   Unzipping taggers/averaged_perceptron_tagger.zip.\n"
          ]
        },
        {
          "output_type": "execute_result",
          "data": {
            "text/plain": [
              "True"
            ]
          },
          "metadata": {},
          "execution_count": 2
        }
      ]
    },
    {
      "cell_type": "code",
      "source": [
        "# Function to convert NLTK tree to graphviz source\n",
        "def to_graphviz(tree):\n",
        "    dot = graphviz.Digraph(comment='Parse Tree')\n",
        "\n",
        "    def add_nodes_edges(tree, dot, parent_index=None, index=0):\n",
        "        node_index = index\n",
        "        if isinstance(tree, nltk.Tree):\n",
        "            node_label = tree.label()\n",
        "            dot.node(str(node_index), node_label)\n",
        "            if parent_index is not None:\n",
        "                dot.edge(str(parent_index), str(node_index))\n",
        "            for child in tree:\n",
        "                index += 1\n",
        "                index = add_nodes_edges(child, dot, node_index, index)\n",
        "        else:\n",
        "            # Leaf node\n",
        "            dot.node(str(index), str(tree))\n",
        "            if parent_index is not None:\n",
        "                dot.edge(str(parent_index), str(index))\n",
        "        return index\n",
        "\n",
        "    add_nodes_edges(tree, dot)\n",
        "    return dot\n",
        "\n",
        "\n",
        "# Convert tree to graphviz source and display\n",
        "\n"
      ],
      "metadata": {
        "id": "hsXp8ZgC5-vf"
      },
      "execution_count": 3,
      "outputs": []
    },
    {
      "cell_type": "code",
      "source": [
        "sent = 'I saw the man with the telescope'"
      ],
      "metadata": {
        "id": "Afckk9yYTcEv"
      },
      "execution_count": 4,
      "outputs": []
    },
    {
      "cell_type": "markdown",
      "source": [
        "# sentences and grammars: chunking\n"
      ],
      "metadata": {
        "id": "OfRYU89CB8-u"
      }
    },
    {
      "cell_type": "code",
      "source": [
        "\n",
        "grammar = \"\"\"\n",
        "    GERUND_PHRASE: {<VBG><NNS>}                # Gerund Phrase\n",
        "    NP: {<DT>?<JJ>*<NNS>}                      # Noun Phrase\n",
        "    VP: {<MD><VB><JJ>}                         # Verb Phrase for modal verbs\n",
        "    ADJP: {<RB>*<JJ>}                          # Adjective Phrase\n",
        "    NP: {<DT>?<JJ>*<NN.*>}\n",
        "    VP: {<V.*><.*>?<VP>?}\n",
        "\"\"\"\n",
        "\n",
        "parser = nltk.RegexpParser(grammar)"
      ],
      "metadata": {
        "id": "DusXhKnN5P8W"
      },
      "execution_count": 5,
      "outputs": []
    },
    {
      "cell_type": "code",
      "source": [
        "#  Tokenizing and tagging\n",
        "tokens = nltk.word_tokenize(sent)\n",
        "tagged = nltk.pos_tag(tokens)\n",
        "print(f'tokens are {tokens}')\n",
        "print(f'POS tags are {tagged}')"
      ],
      "metadata": {
        "colab": {
          "base_uri": "https://localhost:8080/"
        },
        "id": "j0qrh3ui5AKw",
        "outputId": "4749cb02-5635-4109-8b2a-744bb2428c9a"
      },
      "execution_count": 7,
      "outputs": [
        {
          "output_type": "stream",
          "name": "stdout",
          "text": [
            "tokens are ['I', 'saw', 'the', 'man', 'with', 'the', 'telescope']\n",
            "POS tags are [('I', 'PRP'), ('saw', 'VBD'), ('the', 'DT'), ('man', 'NN'), ('with', 'IN'), ('the', 'DT'), ('telescope', 'NN')]\n"
          ]
        }
      ]
    },
    {
      "cell_type": "code",
      "source": [
        "# Create tree\n",
        "tree = parser.parse(tagged)\n",
        "print(tree)"
      ],
      "metadata": {
        "colab": {
          "base_uri": "https://localhost:8080/"
        },
        "id": "ZffIRqiE56Yw",
        "outputId": "7a5673e5-2d04-47f0-a418-3c17f8ba4a1e"
      },
      "execution_count": 8,
      "outputs": [
        {
          "output_type": "stream",
          "name": "stdout",
          "text": [
            "(S I/PRP saw/VBD the/DT man/NN with/IN the/DT telescope/NN)\n"
          ]
        }
      ]
    },
    {
      "cell_type": "code",
      "source": [
        "dot_source1 = to_graphviz(tree)\n",
        "display(dot_source1)"
      ],
      "metadata": {
        "colab": {
          "base_uri": "https://localhost:8080/",
          "height": 196
        },
        "id": "pHIIyL9dDYyF",
        "outputId": "adb6df20-4445-4b99-9059-57d696ecab6a"
      },
      "execution_count": 18,
      "outputs": [
        {
          "output_type": "display_data",
          "data": {
            "image/svg+xml": "<?xml version=\"1.0\" encoding=\"UTF-8\" standalone=\"no\"?>\n<!DOCTYPE svg PUBLIC \"-//W3C//DTD SVG 1.1//EN\"\n \"http://www.w3.org/Graphics/SVG/1.1/DTD/svg11.dtd\">\n<!-- Generated by graphviz version 2.43.0 (0)\n -->\n<!-- Title: %3 Pages: 1 -->\n<svg width=\"890pt\" height=\"116pt\"\n viewBox=\"0.00 0.00 889.94 116.00\" xmlns=\"http://www.w3.org/2000/svg\" xmlns:xlink=\"http://www.w3.org/1999/xlink\">\n<g id=\"graph0\" class=\"graph\" transform=\"scale(1 1) rotate(0) translate(4 112)\">\n<title>%3</title>\n<polygon fill=\"white\" stroke=\"transparent\" points=\"-4,4 -4,-112 885.94,-112 885.94,4 -4,4\"/>\n<!-- 0 -->\n<g id=\"node1\" class=\"node\">\n<title>0</title>\n<ellipse fill=\"none\" stroke=\"black\" cx=\"422.15\" cy=\"-90\" rx=\"27\" ry=\"18\"/>\n<text text-anchor=\"middle\" x=\"422.15\" y=\"-86.3\" font-family=\"Times,serif\" font-size=\"14.00\">S</text>\n</g>\n<!-- 1 -->\n<g id=\"node2\" class=\"node\">\n<title>1</title>\n<ellipse fill=\"none\" stroke=\"black\" cx=\"46.15\" cy=\"-18\" rx=\"46.29\" ry=\"18\"/>\n<text text-anchor=\"middle\" x=\"46.15\" y=\"-14.3\" font-family=\"Times,serif\" font-size=\"14.00\">(&#39;I&#39;, &#39;PRP&#39;)</text>\n</g>\n<!-- 0&#45;&gt;1 -->\n<g id=\"edge1\" class=\"edge\">\n<title>0&#45;&gt;1</title>\n<path fill=\"none\" stroke=\"black\" d=\"M395.69,-85.87C340.49,-79.07 209.17,-61.49 101.15,-36 97.48,-35.13 93.7,-34.15 89.91,-33.11\"/>\n<polygon fill=\"black\" stroke=\"black\" points=\"90.56,-29.66 79.98,-30.25 88.62,-36.38 90.56,-29.66\"/>\n</g>\n<!-- 2 -->\n<g id=\"node3\" class=\"node\">\n<title>2</title>\n<ellipse fill=\"none\" stroke=\"black\" cx=\"170.15\" cy=\"-18\" rx=\"59.59\" ry=\"18\"/>\n<text text-anchor=\"middle\" x=\"170.15\" y=\"-14.3\" font-family=\"Times,serif\" font-size=\"14.00\">(&#39;saw&#39;, &#39;VBD&#39;)</text>\n</g>\n<!-- 0&#45;&gt;2 -->\n<g id=\"edge2\" class=\"edge\">\n<title>0&#45;&gt;2</title>\n<path fill=\"none\" stroke=\"black\" d=\"M397.52,-82.16C357.18,-70.96 276.14,-48.44 222.52,-33.55\"/>\n<polygon fill=\"black\" stroke=\"black\" points=\"223.41,-30.16 212.84,-30.86 221.54,-36.91 223.41,-30.16\"/>\n</g>\n<!-- 3 -->\n<g id=\"node4\" class=\"node\">\n<title>3</title>\n<ellipse fill=\"none\" stroke=\"black\" cx=\"298.15\" cy=\"-18\" rx=\"50.09\" ry=\"18\"/>\n<text text-anchor=\"middle\" x=\"298.15\" y=\"-14.3\" font-family=\"Times,serif\" font-size=\"14.00\">(&#39;the&#39;, &#39;DT&#39;)</text>\n</g>\n<!-- 0&#45;&gt;3 -->\n<g id=\"edge3\" class=\"edge\">\n<title>0&#45;&gt;3</title>\n<path fill=\"none\" stroke=\"black\" d=\"M402.22,-77.75C383.57,-67.22 355.3,-51.26 332.92,-38.63\"/>\n<polygon fill=\"black\" stroke=\"black\" points=\"334.48,-35.49 324.05,-33.63 331.04,-41.59 334.48,-35.49\"/>\n</g>\n<!-- 4 -->\n<g id=\"node5\" class=\"node\">\n<title>4</title>\n<ellipse fill=\"none\" stroke=\"black\" cx=\"422.15\" cy=\"-18\" rx=\"55.79\" ry=\"18\"/>\n<text text-anchor=\"middle\" x=\"422.15\" y=\"-14.3\" font-family=\"Times,serif\" font-size=\"14.00\">(&#39;man&#39;, &#39;NN&#39;)</text>\n</g>\n<!-- 0&#45;&gt;4 -->\n<g id=\"edge4\" class=\"edge\">\n<title>0&#45;&gt;4</title>\n<path fill=\"none\" stroke=\"black\" d=\"M422.15,-71.7C422.15,-63.98 422.15,-54.71 422.15,-46.11\"/>\n<polygon fill=\"black\" stroke=\"black\" points=\"425.65,-46.1 422.15,-36.1 418.65,-46.1 425.65,-46.1\"/>\n</g>\n<!-- 5 -->\n<g id=\"node6\" class=\"node\">\n<title>5</title>\n<ellipse fill=\"none\" stroke=\"black\" cx=\"548.15\" cy=\"-18\" rx=\"51.99\" ry=\"18\"/>\n<text text-anchor=\"middle\" x=\"548.15\" y=\"-14.3\" font-family=\"Times,serif\" font-size=\"14.00\">(&#39;with&#39;, &#39;IN&#39;)</text>\n</g>\n<!-- 0&#45;&gt;5 -->\n<g id=\"edge5\" class=\"edge\">\n<title>0&#45;&gt;5</title>\n<path fill=\"none\" stroke=\"black\" d=\"M442.39,-77.75C461.34,-67.22 490.07,-51.26 512.81,-38.63\"/>\n<polygon fill=\"black\" stroke=\"black\" points=\"514.78,-41.54 521.82,-33.63 511.38,-35.42 514.78,-41.54\"/>\n</g>\n<!-- 6 -->\n<g id=\"node7\" class=\"node\">\n<title>6</title>\n<ellipse fill=\"none\" stroke=\"black\" cx=\"668.15\" cy=\"-18\" rx=\"50.09\" ry=\"18\"/>\n<text text-anchor=\"middle\" x=\"668.15\" y=\"-14.3\" font-family=\"Times,serif\" font-size=\"14.00\">(&#39;the&#39;, &#39;DT&#39;)</text>\n</g>\n<!-- 0&#45;&gt;6 -->\n<g id=\"edge6\" class=\"edge\">\n<title>0&#45;&gt;6</title>\n<path fill=\"none\" stroke=\"black\" d=\"M446.66,-82.09C482.4,-72 550.91,-52.64 609.15,-36 612.9,-34.93 616.79,-33.81 620.7,-32.69\"/>\n<polygon fill=\"black\" stroke=\"black\" points=\"621.74,-36.03 630.38,-29.91 619.81,-29.31 621.74,-36.03\"/>\n</g>\n<!-- 7 -->\n<g id=\"node8\" class=\"node\">\n<title>7</title>\n<ellipse fill=\"none\" stroke=\"black\" cx=\"809.15\" cy=\"-18\" rx=\"72.59\" ry=\"18\"/>\n<text text-anchor=\"middle\" x=\"809.15\" y=\"-14.3\" font-family=\"Times,serif\" font-size=\"14.00\">(&#39;telescope&#39;, &#39;NN&#39;)</text>\n</g>\n<!-- 0&#45;&gt;7 -->\n<g id=\"edge7\" class=\"edge\">\n<title>0&#45;&gt;7</title>\n<path fill=\"none\" stroke=\"black\" d=\"M448.31,-84.75C501.12,-76.1 624.19,-55.61 727.15,-36 733.24,-34.84 739.58,-33.59 745.91,-32.32\"/>\n<polygon fill=\"black\" stroke=\"black\" points=\"746.72,-35.73 755.82,-30.32 745.33,-28.87 746.72,-35.73\"/>\n</g>\n</g>\n</svg>\n",
            "text/plain": [
              "<graphviz.graphs.Digraph at 0x7ccfb530a950>"
            ]
          },
          "metadata": {}
        }
      ]
    },
    {
      "cell_type": "markdown",
      "source": [
        "# Adjusting \"The quick brown fox jumped over the lazy dog.\"\n",
        "\n",
        "The tagger incorrectly identifies \"brown\" as a noun."
      ],
      "metadata": {
        "id": "8ZHXr_x28KMF"
      }
    },
    {
      "cell_type": "code",
      "source": [
        "# prompt: replace ('brown', 'NN') with  ('brown', 'JJ\") in tagged\n",
        "for i, (word, tag) in enumerate(tagged):\n",
        "  if tagged[i][0] == 'saw':\n",
        "        tagged_alt = tagged.copy()\n",
        "        tagged_alt[i] = ('saw', 'JJ')\n",
        "        break"
      ],
      "metadata": {
        "id": "grZbwcOo7b_a"
      },
      "execution_count": 19,
      "outputs": []
    },
    {
      "cell_type": "code",
      "source": [
        "tagged_alt"
      ],
      "metadata": {
        "colab": {
          "base_uri": "https://localhost:8080/"
        },
        "id": "npxVt8xMA0Bl",
        "outputId": "e85c45b5-c18d-499d-c21b-b4bec3a5fe98"
      },
      "execution_count": 20,
      "outputs": [
        {
          "output_type": "execute_result",
          "data": {
            "text/plain": [
              "[('I', 'PRP'),\n",
              " ('saw', 'JJ'),\n",
              " ('the', 'DT'),\n",
              " ('man', 'NN'),\n",
              " ('with', 'IN'),\n",
              " ('the', 'DT'),\n",
              " ('telescope', 'NN')]"
            ]
          },
          "metadata": {},
          "execution_count": 20
        }
      ]
    },
    {
      "cell_type": "code",
      "source": [
        "# Create tree\n",
        "tree_alt = parser.parse(tagged_alt)\n",
        "print(tree_alt)"
      ],
      "metadata": {
        "id": "yWfow4IwAYgh",
        "colab": {
          "base_uri": "https://localhost:8080/"
        },
        "outputId": "151f64dc-2ea0-4849-ad07-29325b2f9464"
      },
      "execution_count": 21,
      "outputs": [
        {
          "output_type": "stream",
          "name": "stdout",
          "text": [
            "(S I/PRP (ADJP saw/JJ) the/DT man/NN with/IN the/DT telescope/NN)\n"
          ]
        }
      ]
    },
    {
      "cell_type": "code",
      "source": [
        "dot_source_alt = to_graphviz(tree_alt)\n",
        "display(dot_source_alt)"
      ],
      "metadata": {
        "colab": {
          "base_uri": "https://localhost:8080/",
          "height": 292
        },
        "id": "B13nraGAf-g3",
        "outputId": "9c0cf09f-c777-4397-e266-55c97b3414ec"
      },
      "execution_count": 22,
      "outputs": [
        {
          "output_type": "display_data",
          "data": {
            "image/svg+xml": "<?xml version=\"1.0\" encoding=\"UTF-8\" standalone=\"no\"?>\n<!DOCTYPE svg PUBLIC \"-//W3C//DTD SVG 1.1//EN\"\n \"http://www.w3.org/Graphics/SVG/1.1/DTD/svg11.dtd\">\n<!-- Generated by graphviz version 2.43.0 (0)\n -->\n<!-- Title: %3 Pages: 1 -->\n<svg width=\"834pt\" height=\"188pt\"\n viewBox=\"0.00 0.00 833.94 188.00\" xmlns=\"http://www.w3.org/2000/svg\" xmlns:xlink=\"http://www.w3.org/1999/xlink\">\n<g id=\"graph0\" class=\"graph\" transform=\"scale(1 1) rotate(0) translate(4 184)\">\n<title>%3</title>\n<polygon fill=\"white\" stroke=\"transparent\" points=\"-4,4 -4,-184 829.94,-184 829.94,4 -4,4\"/>\n<!-- 0 -->\n<g id=\"node1\" class=\"node\">\n<title>0</title>\n<ellipse fill=\"none\" stroke=\"black\" cx=\"366.15\" cy=\"-162\" rx=\"27\" ry=\"18\"/>\n<text text-anchor=\"middle\" x=\"366.15\" y=\"-158.3\" font-family=\"Times,serif\" font-size=\"14.00\">S</text>\n</g>\n<!-- 1 -->\n<g id=\"node2\" class=\"node\">\n<title>1</title>\n<ellipse fill=\"none\" stroke=\"black\" cx=\"46.15\" cy=\"-90\" rx=\"46.29\" ry=\"18\"/>\n<text text-anchor=\"middle\" x=\"46.15\" y=\"-86.3\" font-family=\"Times,serif\" font-size=\"14.00\">(&#39;I&#39;, &#39;PRP&#39;)</text>\n</g>\n<!-- 0&#45;&gt;1 -->\n<g id=\"edge1\" class=\"edge\">\n<title>0&#45;&gt;1</title>\n<path fill=\"none\" stroke=\"black\" d=\"M339.99,-156.69C292.22,-148.6 187.78,-129.99 101.15,-108 97.54,-107.09 93.83,-106.08 90.11,-105.02\"/>\n<polygon fill=\"black\" stroke=\"black\" points=\"90.9,-101.61 80.32,-102.16 88.93,-108.33 90.9,-101.61\"/>\n</g>\n<!-- 2 -->\n<g id=\"node3\" class=\"node\">\n<title>2</title>\n<ellipse fill=\"none\" stroke=\"black\" cx=\"142.15\" cy=\"-90\" rx=\"31.7\" ry=\"18\"/>\n<text text-anchor=\"middle\" x=\"142.15\" y=\"-86.3\" font-family=\"Times,serif\" font-size=\"14.00\">ADJP</text>\n</g>\n<!-- 0&#45;&gt;2 -->\n<g id=\"edge2\" class=\"edge\">\n<title>0&#45;&gt;2</title>\n<path fill=\"none\" stroke=\"black\" d=\"M341.3,-154.74C305.85,-145.6 238.86,-127.55 183.15,-108 180.88,-107.2 178.55,-106.35 176.22,-105.46\"/>\n<polygon fill=\"black\" stroke=\"black\" points=\"177.28,-102.12 166.69,-101.7 174.7,-108.63 177.28,-102.12\"/>\n</g>\n<!-- 4 -->\n<g id=\"node5\" class=\"node\">\n<title>4</title>\n<ellipse fill=\"none\" stroke=\"black\" cx=\"242.15\" cy=\"-90\" rx=\"50.09\" ry=\"18\"/>\n<text text-anchor=\"middle\" x=\"242.15\" y=\"-86.3\" font-family=\"Times,serif\" font-size=\"14.00\">(&#39;the&#39;, &#39;DT&#39;)</text>\n</g>\n<!-- 0&#45;&gt;4 -->\n<g id=\"edge4\" class=\"edge\">\n<title>0&#45;&gt;4</title>\n<path fill=\"none\" stroke=\"black\" d=\"M346.22,-149.75C327.57,-139.22 299.3,-123.26 276.92,-110.63\"/>\n<polygon fill=\"black\" stroke=\"black\" points=\"278.48,-107.49 268.05,-105.63 275.04,-113.59 278.48,-107.49\"/>\n</g>\n<!-- 5 -->\n<g id=\"node6\" class=\"node\">\n<title>5</title>\n<ellipse fill=\"none\" stroke=\"black\" cx=\"366.15\" cy=\"-90\" rx=\"55.79\" ry=\"18\"/>\n<text text-anchor=\"middle\" x=\"366.15\" y=\"-86.3\" font-family=\"Times,serif\" font-size=\"14.00\">(&#39;man&#39;, &#39;NN&#39;)</text>\n</g>\n<!-- 0&#45;&gt;5 -->\n<g id=\"edge5\" class=\"edge\">\n<title>0&#45;&gt;5</title>\n<path fill=\"none\" stroke=\"black\" d=\"M366.15,-143.7C366.15,-135.98 366.15,-126.71 366.15,-118.11\"/>\n<polygon fill=\"black\" stroke=\"black\" points=\"369.65,-118.1 366.15,-108.1 362.65,-118.1 369.65,-118.1\"/>\n</g>\n<!-- 6 -->\n<g id=\"node7\" class=\"node\">\n<title>6</title>\n<ellipse fill=\"none\" stroke=\"black\" cx=\"492.15\" cy=\"-90\" rx=\"51.99\" ry=\"18\"/>\n<text text-anchor=\"middle\" x=\"492.15\" y=\"-86.3\" font-family=\"Times,serif\" font-size=\"14.00\">(&#39;with&#39;, &#39;IN&#39;)</text>\n</g>\n<!-- 0&#45;&gt;6 -->\n<g id=\"edge6\" class=\"edge\">\n<title>0&#45;&gt;6</title>\n<path fill=\"none\" stroke=\"black\" d=\"M386.39,-149.75C405.34,-139.22 434.07,-123.26 456.81,-110.63\"/>\n<polygon fill=\"black\" stroke=\"black\" points=\"458.78,-113.54 465.82,-105.63 455.38,-107.42 458.78,-113.54\"/>\n</g>\n<!-- 7 -->\n<g id=\"node8\" class=\"node\">\n<title>7</title>\n<ellipse fill=\"none\" stroke=\"black\" cx=\"612.15\" cy=\"-90\" rx=\"50.09\" ry=\"18\"/>\n<text text-anchor=\"middle\" x=\"612.15\" y=\"-86.3\" font-family=\"Times,serif\" font-size=\"14.00\">(&#39;the&#39;, &#39;DT&#39;)</text>\n</g>\n<!-- 0&#45;&gt;7 -->\n<g id=\"edge7\" class=\"edge\">\n<title>0&#45;&gt;7</title>\n<path fill=\"none\" stroke=\"black\" d=\"M390.66,-154.09C426.4,-144 494.91,-124.64 553.15,-108 556.9,-106.93 560.79,-105.81 564.7,-104.69\"/>\n<polygon fill=\"black\" stroke=\"black\" points=\"565.74,-108.03 574.38,-101.91 563.81,-101.31 565.74,-108.03\"/>\n</g>\n<!-- 8 -->\n<g id=\"node9\" class=\"node\">\n<title>8</title>\n<ellipse fill=\"none\" stroke=\"black\" cx=\"753.15\" cy=\"-90\" rx=\"72.59\" ry=\"18\"/>\n<text text-anchor=\"middle\" x=\"753.15\" y=\"-86.3\" font-family=\"Times,serif\" font-size=\"14.00\">(&#39;telescope&#39;, &#39;NN&#39;)</text>\n</g>\n<!-- 0&#45;&gt;8 -->\n<g id=\"edge8\" class=\"edge\">\n<title>0&#45;&gt;8</title>\n<path fill=\"none\" stroke=\"black\" d=\"M392.31,-156.75C445.12,-148.1 568.19,-127.61 671.15,-108 677.24,-106.84 683.58,-105.59 689.91,-104.32\"/>\n<polygon fill=\"black\" stroke=\"black\" points=\"690.72,-107.73 699.82,-102.32 689.33,-100.87 690.72,-107.73\"/>\n</g>\n<!-- 3 -->\n<g id=\"node4\" class=\"node\">\n<title>3</title>\n<ellipse fill=\"none\" stroke=\"black\" cx=\"142.15\" cy=\"-18\" rx=\"48.19\" ry=\"18\"/>\n<text text-anchor=\"middle\" x=\"142.15\" y=\"-14.3\" font-family=\"Times,serif\" font-size=\"14.00\">(&#39;saw&#39;, &#39;JJ&#39;)</text>\n</g>\n<!-- 2&#45;&gt;3 -->\n<g id=\"edge3\" class=\"edge\">\n<title>2&#45;&gt;3</title>\n<path fill=\"none\" stroke=\"black\" d=\"M142.15,-71.7C142.15,-63.98 142.15,-54.71 142.15,-46.11\"/>\n<polygon fill=\"black\" stroke=\"black\" points=\"145.65,-46.1 142.15,-36.1 138.65,-46.1 145.65,-46.1\"/>\n</g>\n</g>\n</svg>\n",
            "text/plain": [
              "<graphviz.graphs.Digraph at 0x7ccfb5309f00>"
            ]
          },
          "metadata": {}
        }
      ]
    },
    {
      "cell_type": "code",
      "source": [
        "display(dot_source1)\n",
        "display(dot_source_alt)"
      ],
      "metadata": {
        "colab": {
          "base_uri": "https://localhost:8080/",
          "height": 451
        },
        "id": "fRsbrqRKko07",
        "outputId": "4deb801f-0b90-42fd-cca8-b1984b45b61b"
      },
      "execution_count": 23,
      "outputs": [
        {
          "output_type": "display_data",
          "data": {
            "image/svg+xml": "<?xml version=\"1.0\" encoding=\"UTF-8\" standalone=\"no\"?>\n<!DOCTYPE svg PUBLIC \"-//W3C//DTD SVG 1.1//EN\"\n \"http://www.w3.org/Graphics/SVG/1.1/DTD/svg11.dtd\">\n<!-- Generated by graphviz version 2.43.0 (0)\n -->\n<!-- Title: %3 Pages: 1 -->\n<svg width=\"890pt\" height=\"116pt\"\n viewBox=\"0.00 0.00 889.94 116.00\" xmlns=\"http://www.w3.org/2000/svg\" xmlns:xlink=\"http://www.w3.org/1999/xlink\">\n<g id=\"graph0\" class=\"graph\" transform=\"scale(1 1) rotate(0) translate(4 112)\">\n<title>%3</title>\n<polygon fill=\"white\" stroke=\"transparent\" points=\"-4,4 -4,-112 885.94,-112 885.94,4 -4,4\"/>\n<!-- 0 -->\n<g id=\"node1\" class=\"node\">\n<title>0</title>\n<ellipse fill=\"none\" stroke=\"black\" cx=\"422.15\" cy=\"-90\" rx=\"27\" ry=\"18\"/>\n<text text-anchor=\"middle\" x=\"422.15\" y=\"-86.3\" font-family=\"Times,serif\" font-size=\"14.00\">S</text>\n</g>\n<!-- 1 -->\n<g id=\"node2\" class=\"node\">\n<title>1</title>\n<ellipse fill=\"none\" stroke=\"black\" cx=\"46.15\" cy=\"-18\" rx=\"46.29\" ry=\"18\"/>\n<text text-anchor=\"middle\" x=\"46.15\" y=\"-14.3\" font-family=\"Times,serif\" font-size=\"14.00\">(&#39;I&#39;, &#39;PRP&#39;)</text>\n</g>\n<!-- 0&#45;&gt;1 -->\n<g id=\"edge1\" class=\"edge\">\n<title>0&#45;&gt;1</title>\n<path fill=\"none\" stroke=\"black\" d=\"M395.69,-85.87C340.49,-79.07 209.17,-61.49 101.15,-36 97.48,-35.13 93.7,-34.15 89.91,-33.11\"/>\n<polygon fill=\"black\" stroke=\"black\" points=\"90.56,-29.66 79.98,-30.25 88.62,-36.38 90.56,-29.66\"/>\n</g>\n<!-- 2 -->\n<g id=\"node3\" class=\"node\">\n<title>2</title>\n<ellipse fill=\"none\" stroke=\"black\" cx=\"170.15\" cy=\"-18\" rx=\"59.59\" ry=\"18\"/>\n<text text-anchor=\"middle\" x=\"170.15\" y=\"-14.3\" font-family=\"Times,serif\" font-size=\"14.00\">(&#39;saw&#39;, &#39;VBD&#39;)</text>\n</g>\n<!-- 0&#45;&gt;2 -->\n<g id=\"edge2\" class=\"edge\">\n<title>0&#45;&gt;2</title>\n<path fill=\"none\" stroke=\"black\" d=\"M397.52,-82.16C357.18,-70.96 276.14,-48.44 222.52,-33.55\"/>\n<polygon fill=\"black\" stroke=\"black\" points=\"223.41,-30.16 212.84,-30.86 221.54,-36.91 223.41,-30.16\"/>\n</g>\n<!-- 3 -->\n<g id=\"node4\" class=\"node\">\n<title>3</title>\n<ellipse fill=\"none\" stroke=\"black\" cx=\"298.15\" cy=\"-18\" rx=\"50.09\" ry=\"18\"/>\n<text text-anchor=\"middle\" x=\"298.15\" y=\"-14.3\" font-family=\"Times,serif\" font-size=\"14.00\">(&#39;the&#39;, &#39;DT&#39;)</text>\n</g>\n<!-- 0&#45;&gt;3 -->\n<g id=\"edge3\" class=\"edge\">\n<title>0&#45;&gt;3</title>\n<path fill=\"none\" stroke=\"black\" d=\"M402.22,-77.75C383.57,-67.22 355.3,-51.26 332.92,-38.63\"/>\n<polygon fill=\"black\" stroke=\"black\" points=\"334.48,-35.49 324.05,-33.63 331.04,-41.59 334.48,-35.49\"/>\n</g>\n<!-- 4 -->\n<g id=\"node5\" class=\"node\">\n<title>4</title>\n<ellipse fill=\"none\" stroke=\"black\" cx=\"422.15\" cy=\"-18\" rx=\"55.79\" ry=\"18\"/>\n<text text-anchor=\"middle\" x=\"422.15\" y=\"-14.3\" font-family=\"Times,serif\" font-size=\"14.00\">(&#39;man&#39;, &#39;NN&#39;)</text>\n</g>\n<!-- 0&#45;&gt;4 -->\n<g id=\"edge4\" class=\"edge\">\n<title>0&#45;&gt;4</title>\n<path fill=\"none\" stroke=\"black\" d=\"M422.15,-71.7C422.15,-63.98 422.15,-54.71 422.15,-46.11\"/>\n<polygon fill=\"black\" stroke=\"black\" points=\"425.65,-46.1 422.15,-36.1 418.65,-46.1 425.65,-46.1\"/>\n</g>\n<!-- 5 -->\n<g id=\"node6\" class=\"node\">\n<title>5</title>\n<ellipse fill=\"none\" stroke=\"black\" cx=\"548.15\" cy=\"-18\" rx=\"51.99\" ry=\"18\"/>\n<text text-anchor=\"middle\" x=\"548.15\" y=\"-14.3\" font-family=\"Times,serif\" font-size=\"14.00\">(&#39;with&#39;, &#39;IN&#39;)</text>\n</g>\n<!-- 0&#45;&gt;5 -->\n<g id=\"edge5\" class=\"edge\">\n<title>0&#45;&gt;5</title>\n<path fill=\"none\" stroke=\"black\" d=\"M442.39,-77.75C461.34,-67.22 490.07,-51.26 512.81,-38.63\"/>\n<polygon fill=\"black\" stroke=\"black\" points=\"514.78,-41.54 521.82,-33.63 511.38,-35.42 514.78,-41.54\"/>\n</g>\n<!-- 6 -->\n<g id=\"node7\" class=\"node\">\n<title>6</title>\n<ellipse fill=\"none\" stroke=\"black\" cx=\"668.15\" cy=\"-18\" rx=\"50.09\" ry=\"18\"/>\n<text text-anchor=\"middle\" x=\"668.15\" y=\"-14.3\" font-family=\"Times,serif\" font-size=\"14.00\">(&#39;the&#39;, &#39;DT&#39;)</text>\n</g>\n<!-- 0&#45;&gt;6 -->\n<g id=\"edge6\" class=\"edge\">\n<title>0&#45;&gt;6</title>\n<path fill=\"none\" stroke=\"black\" d=\"M446.66,-82.09C482.4,-72 550.91,-52.64 609.15,-36 612.9,-34.93 616.79,-33.81 620.7,-32.69\"/>\n<polygon fill=\"black\" stroke=\"black\" points=\"621.74,-36.03 630.38,-29.91 619.81,-29.31 621.74,-36.03\"/>\n</g>\n<!-- 7 -->\n<g id=\"node8\" class=\"node\">\n<title>7</title>\n<ellipse fill=\"none\" stroke=\"black\" cx=\"809.15\" cy=\"-18\" rx=\"72.59\" ry=\"18\"/>\n<text text-anchor=\"middle\" x=\"809.15\" y=\"-14.3\" font-family=\"Times,serif\" font-size=\"14.00\">(&#39;telescope&#39;, &#39;NN&#39;)</text>\n</g>\n<!-- 0&#45;&gt;7 -->\n<g id=\"edge7\" class=\"edge\">\n<title>0&#45;&gt;7</title>\n<path fill=\"none\" stroke=\"black\" d=\"M448.31,-84.75C501.12,-76.1 624.19,-55.61 727.15,-36 733.24,-34.84 739.58,-33.59 745.91,-32.32\"/>\n<polygon fill=\"black\" stroke=\"black\" points=\"746.72,-35.73 755.82,-30.32 745.33,-28.87 746.72,-35.73\"/>\n</g>\n</g>\n</svg>\n",
            "text/plain": [
              "<graphviz.graphs.Digraph at 0x7ccfb530a950>"
            ]
          },
          "metadata": {}
        },
        {
          "output_type": "display_data",
          "data": {
            "image/svg+xml": "<?xml version=\"1.0\" encoding=\"UTF-8\" standalone=\"no\"?>\n<!DOCTYPE svg PUBLIC \"-//W3C//DTD SVG 1.1//EN\"\n \"http://www.w3.org/Graphics/SVG/1.1/DTD/svg11.dtd\">\n<!-- Generated by graphviz version 2.43.0 (0)\n -->\n<!-- Title: %3 Pages: 1 -->\n<svg width=\"834pt\" height=\"188pt\"\n viewBox=\"0.00 0.00 833.94 188.00\" xmlns=\"http://www.w3.org/2000/svg\" xmlns:xlink=\"http://www.w3.org/1999/xlink\">\n<g id=\"graph0\" class=\"graph\" transform=\"scale(1 1) rotate(0) translate(4 184)\">\n<title>%3</title>\n<polygon fill=\"white\" stroke=\"transparent\" points=\"-4,4 -4,-184 829.94,-184 829.94,4 -4,4\"/>\n<!-- 0 -->\n<g id=\"node1\" class=\"node\">\n<title>0</title>\n<ellipse fill=\"none\" stroke=\"black\" cx=\"366.15\" cy=\"-162\" rx=\"27\" ry=\"18\"/>\n<text text-anchor=\"middle\" x=\"366.15\" y=\"-158.3\" font-family=\"Times,serif\" font-size=\"14.00\">S</text>\n</g>\n<!-- 1 -->\n<g id=\"node2\" class=\"node\">\n<title>1</title>\n<ellipse fill=\"none\" stroke=\"black\" cx=\"46.15\" cy=\"-90\" rx=\"46.29\" ry=\"18\"/>\n<text text-anchor=\"middle\" x=\"46.15\" y=\"-86.3\" font-family=\"Times,serif\" font-size=\"14.00\">(&#39;I&#39;, &#39;PRP&#39;)</text>\n</g>\n<!-- 0&#45;&gt;1 -->\n<g id=\"edge1\" class=\"edge\">\n<title>0&#45;&gt;1</title>\n<path fill=\"none\" stroke=\"black\" d=\"M339.99,-156.69C292.22,-148.6 187.78,-129.99 101.15,-108 97.54,-107.09 93.83,-106.08 90.11,-105.02\"/>\n<polygon fill=\"black\" stroke=\"black\" points=\"90.9,-101.61 80.32,-102.16 88.93,-108.33 90.9,-101.61\"/>\n</g>\n<!-- 2 -->\n<g id=\"node3\" class=\"node\">\n<title>2</title>\n<ellipse fill=\"none\" stroke=\"black\" cx=\"142.15\" cy=\"-90\" rx=\"31.7\" ry=\"18\"/>\n<text text-anchor=\"middle\" x=\"142.15\" y=\"-86.3\" font-family=\"Times,serif\" font-size=\"14.00\">ADJP</text>\n</g>\n<!-- 0&#45;&gt;2 -->\n<g id=\"edge2\" class=\"edge\">\n<title>0&#45;&gt;2</title>\n<path fill=\"none\" stroke=\"black\" d=\"M341.3,-154.74C305.85,-145.6 238.86,-127.55 183.15,-108 180.88,-107.2 178.55,-106.35 176.22,-105.46\"/>\n<polygon fill=\"black\" stroke=\"black\" points=\"177.28,-102.12 166.69,-101.7 174.7,-108.63 177.28,-102.12\"/>\n</g>\n<!-- 4 -->\n<g id=\"node5\" class=\"node\">\n<title>4</title>\n<ellipse fill=\"none\" stroke=\"black\" cx=\"242.15\" cy=\"-90\" rx=\"50.09\" ry=\"18\"/>\n<text text-anchor=\"middle\" x=\"242.15\" y=\"-86.3\" font-family=\"Times,serif\" font-size=\"14.00\">(&#39;the&#39;, &#39;DT&#39;)</text>\n</g>\n<!-- 0&#45;&gt;4 -->\n<g id=\"edge4\" class=\"edge\">\n<title>0&#45;&gt;4</title>\n<path fill=\"none\" stroke=\"black\" d=\"M346.22,-149.75C327.57,-139.22 299.3,-123.26 276.92,-110.63\"/>\n<polygon fill=\"black\" stroke=\"black\" points=\"278.48,-107.49 268.05,-105.63 275.04,-113.59 278.48,-107.49\"/>\n</g>\n<!-- 5 -->\n<g id=\"node6\" class=\"node\">\n<title>5</title>\n<ellipse fill=\"none\" stroke=\"black\" cx=\"366.15\" cy=\"-90\" rx=\"55.79\" ry=\"18\"/>\n<text text-anchor=\"middle\" x=\"366.15\" y=\"-86.3\" font-family=\"Times,serif\" font-size=\"14.00\">(&#39;man&#39;, &#39;NN&#39;)</text>\n</g>\n<!-- 0&#45;&gt;5 -->\n<g id=\"edge5\" class=\"edge\">\n<title>0&#45;&gt;5</title>\n<path fill=\"none\" stroke=\"black\" d=\"M366.15,-143.7C366.15,-135.98 366.15,-126.71 366.15,-118.11\"/>\n<polygon fill=\"black\" stroke=\"black\" points=\"369.65,-118.1 366.15,-108.1 362.65,-118.1 369.65,-118.1\"/>\n</g>\n<!-- 6 -->\n<g id=\"node7\" class=\"node\">\n<title>6</title>\n<ellipse fill=\"none\" stroke=\"black\" cx=\"492.15\" cy=\"-90\" rx=\"51.99\" ry=\"18\"/>\n<text text-anchor=\"middle\" x=\"492.15\" y=\"-86.3\" font-family=\"Times,serif\" font-size=\"14.00\">(&#39;with&#39;, &#39;IN&#39;)</text>\n</g>\n<!-- 0&#45;&gt;6 -->\n<g id=\"edge6\" class=\"edge\">\n<title>0&#45;&gt;6</title>\n<path fill=\"none\" stroke=\"black\" d=\"M386.39,-149.75C405.34,-139.22 434.07,-123.26 456.81,-110.63\"/>\n<polygon fill=\"black\" stroke=\"black\" points=\"458.78,-113.54 465.82,-105.63 455.38,-107.42 458.78,-113.54\"/>\n</g>\n<!-- 7 -->\n<g id=\"node8\" class=\"node\">\n<title>7</title>\n<ellipse fill=\"none\" stroke=\"black\" cx=\"612.15\" cy=\"-90\" rx=\"50.09\" ry=\"18\"/>\n<text text-anchor=\"middle\" x=\"612.15\" y=\"-86.3\" font-family=\"Times,serif\" font-size=\"14.00\">(&#39;the&#39;, &#39;DT&#39;)</text>\n</g>\n<!-- 0&#45;&gt;7 -->\n<g id=\"edge7\" class=\"edge\">\n<title>0&#45;&gt;7</title>\n<path fill=\"none\" stroke=\"black\" d=\"M390.66,-154.09C426.4,-144 494.91,-124.64 553.15,-108 556.9,-106.93 560.79,-105.81 564.7,-104.69\"/>\n<polygon fill=\"black\" stroke=\"black\" points=\"565.74,-108.03 574.38,-101.91 563.81,-101.31 565.74,-108.03\"/>\n</g>\n<!-- 8 -->\n<g id=\"node9\" class=\"node\">\n<title>8</title>\n<ellipse fill=\"none\" stroke=\"black\" cx=\"753.15\" cy=\"-90\" rx=\"72.59\" ry=\"18\"/>\n<text text-anchor=\"middle\" x=\"753.15\" y=\"-86.3\" font-family=\"Times,serif\" font-size=\"14.00\">(&#39;telescope&#39;, &#39;NN&#39;)</text>\n</g>\n<!-- 0&#45;&gt;8 -->\n<g id=\"edge8\" class=\"edge\">\n<title>0&#45;&gt;8</title>\n<path fill=\"none\" stroke=\"black\" d=\"M392.31,-156.75C445.12,-148.1 568.19,-127.61 671.15,-108 677.24,-106.84 683.58,-105.59 689.91,-104.32\"/>\n<polygon fill=\"black\" stroke=\"black\" points=\"690.72,-107.73 699.82,-102.32 689.33,-100.87 690.72,-107.73\"/>\n</g>\n<!-- 3 -->\n<g id=\"node4\" class=\"node\">\n<title>3</title>\n<ellipse fill=\"none\" stroke=\"black\" cx=\"142.15\" cy=\"-18\" rx=\"48.19\" ry=\"18\"/>\n<text text-anchor=\"middle\" x=\"142.15\" y=\"-14.3\" font-family=\"Times,serif\" font-size=\"14.00\">(&#39;saw&#39;, &#39;JJ&#39;)</text>\n</g>\n<!-- 2&#45;&gt;3 -->\n<g id=\"edge3\" class=\"edge\">\n<title>2&#45;&gt;3</title>\n<path fill=\"none\" stroke=\"black\" d=\"M142.15,-71.7C142.15,-63.98 142.15,-54.71 142.15,-46.11\"/>\n<polygon fill=\"black\" stroke=\"black\" points=\"145.65,-46.1 142.15,-36.1 138.65,-46.1 145.65,-46.1\"/>\n</g>\n</g>\n</svg>\n",
            "text/plain": [
              "<graphviz.graphs.Digraph at 0x7ccfb5309f00>"
            ]
          },
          "metadata": {}
        }
      ]
    },
    {
      "cell_type": "markdown",
      "source": [
        "# Adjusting \"They can fish.\"\n",
        "We want to adjust the tagging so that we get the meaning of \"a group of people who put fish into cans.\""
      ],
      "metadata": {
        "id": "wSC1oXA19Mda"
      }
    },
    {
      "cell_type": "code",
      "source": [
        "# prompt: In tagged replace the POS for \"can\" to be a verb and the POS for \"fish\" to be a noun\n",
        "\n",
        "for i, (word, tag) in enumerate(tagged):\n",
        "  if word == 'can' and tag == 'MD':\n",
        "    tagged[i] = ('can', 'VB')\n",
        "  if word == 'fish' and tag == 'VB':\n",
        "    tagged[i] = ('fish', 'NN')\n",
        "\n",
        "print(tagged)\n"
      ],
      "metadata": {
        "colab": {
          "base_uri": "https://localhost:8080/"
        },
        "id": "YReAf0S59Rz6",
        "outputId": "3a9755db-b508-4205-bbd4-eec01af1b022"
      },
      "execution_count": null,
      "outputs": [
        {
          "output_type": "stream",
          "name": "stdout",
          "text": [
            "[('They', 'PRP'), ('can', 'VB'), ('fish', 'NN'), ('.', '.')]\n"
          ]
        }
      ]
    },
    {
      "cell_type": "code",
      "source": [
        "#  Create tree\n",
        "tree = parser.parse(tagged)\n",
        "print(tree)"
      ],
      "metadata": {
        "colab": {
          "base_uri": "https://localhost:8080/"
        },
        "id": "XKqZYFYg_Iok",
        "outputId": "5d6bdc75-18ad-4e72-cf0f-0a15e8d52ad2"
      },
      "execution_count": null,
      "outputs": [
        {
          "output_type": "stream",
          "name": "stdout",
          "text": [
            "(S They/PRP (VP can/VB (NP fish/NN)) ./.)\n"
          ]
        }
      ]
    },
    {
      "cell_type": "code",
      "source": [
        "dot_source = to_graphviz(tree)\n",
        "display(dot_source)"
      ],
      "metadata": {
        "colab": {
          "base_uri": "https://localhost:8080/",
          "height": 389
        },
        "id": "zNhlGcBXC6Wd",
        "outputId": "40156945-3247-489e-87ac-ce9b4cbe99ae"
      },
      "execution_count": null,
      "outputs": [
        {
          "output_type": "display_data",
          "data": {
            "image/svg+xml": "<?xml version=\"1.0\" encoding=\"UTF-8\" standalone=\"no\"?>\n<!DOCTYPE svg PUBLIC \"-//W3C//DTD SVG 1.1//EN\"\n \"http://www.w3.org/Graphics/SVG/1.1/DTD/svg11.dtd\">\n<!-- Generated by graphviz version 2.43.0 (0)\n -->\n<!-- Title: %3 Pages: 1 -->\n<svg width=\"285pt\" height=\"260pt\"\n viewBox=\"0.00 0.00 284.59 260.00\" xmlns=\"http://www.w3.org/2000/svg\" xmlns:xlink=\"http://www.w3.org/1999/xlink\">\n<g id=\"graph0\" class=\"graph\" transform=\"scale(1 1) rotate(0) translate(4 256)\">\n<title>%3</title>\n<polygon fill=\"white\" stroke=\"transparent\" points=\"-4,4 -4,-256 280.59,-256 280.59,4 -4,4\"/>\n<!-- 0 -->\n<g id=\"node1\" class=\"node\">\n<title>0</title>\n<ellipse fill=\"none\" stroke=\"black\" cx=\"167.09\" cy=\"-234\" rx=\"27\" ry=\"18\"/>\n<text text-anchor=\"middle\" x=\"167.09\" y=\"-230.3\" font-family=\"Times,serif\" font-size=\"14.00\">S</text>\n</g>\n<!-- 1 -->\n<g id=\"node2\" class=\"node\">\n<title>1</title>\n<ellipse fill=\"none\" stroke=\"black\" cx=\"61.09\" cy=\"-162\" rx=\"61.19\" ry=\"18\"/>\n<text text-anchor=\"middle\" x=\"61.09\" y=\"-158.3\" font-family=\"Times,serif\" font-size=\"14.00\">(&#39;They&#39;, &#39;PRP&#39;)</text>\n</g>\n<!-- 0&#45;&gt;1 -->\n<g id=\"edge1\" class=\"edge\">\n<title>0&#45;&gt;1</title>\n<path fill=\"none\" stroke=\"black\" d=\"M148.63,-220.81C133.44,-210.78 111.55,-196.32 93.45,-184.37\"/>\n<polygon fill=\"black\" stroke=\"black\" points=\"95.2,-181.33 84.92,-178.74 91.34,-187.17 95.2,-181.33\"/>\n</g>\n<!-- 2 -->\n<g id=\"node3\" class=\"node\">\n<title>2</title>\n<ellipse fill=\"none\" stroke=\"black\" cx=\"167.09\" cy=\"-162\" rx=\"27\" ry=\"18\"/>\n<text text-anchor=\"middle\" x=\"167.09\" y=\"-158.3\" font-family=\"Times,serif\" font-size=\"14.00\">VP</text>\n</g>\n<!-- 0&#45;&gt;2 -->\n<g id=\"edge2\" class=\"edge\">\n<title>0&#45;&gt;2</title>\n<path fill=\"none\" stroke=\"black\" d=\"M167.09,-215.7C167.09,-207.98 167.09,-198.71 167.09,-190.11\"/>\n<polygon fill=\"black\" stroke=\"black\" points=\"170.59,-190.1 167.09,-180.1 163.59,-190.1 170.59,-190.1\"/>\n</g>\n<!-- 6 -->\n<g id=\"node7\" class=\"node\">\n<title>6</title>\n<ellipse fill=\"none\" stroke=\"black\" cx=\"244.09\" cy=\"-162\" rx=\"32.49\" ry=\"18\"/>\n<text text-anchor=\"middle\" x=\"244.09\" y=\"-158.3\" font-family=\"Times,serif\" font-size=\"14.00\">(&#39;.&#39;, &#39;.&#39;)</text>\n</g>\n<!-- 0&#45;&gt;6 -->\n<g id=\"edge6\" class=\"edge\">\n<title>0&#45;&gt;6</title>\n<path fill=\"none\" stroke=\"black\" d=\"M182.68,-218.83C193.42,-209.07 207.9,-195.9 220.11,-184.8\"/>\n<polygon fill=\"black\" stroke=\"black\" points=\"222.69,-187.19 227.74,-177.87 217.98,-182.01 222.69,-187.19\"/>\n</g>\n<!-- 3 -->\n<g id=\"node4\" class=\"node\">\n<title>3</title>\n<ellipse fill=\"none\" stroke=\"black\" cx=\"119.09\" cy=\"-90\" rx=\"51.99\" ry=\"18\"/>\n<text text-anchor=\"middle\" x=\"119.09\" y=\"-86.3\" font-family=\"Times,serif\" font-size=\"14.00\">(&#39;can&#39;, &#39;VB&#39;)</text>\n</g>\n<!-- 2&#45;&gt;3 -->\n<g id=\"edge3\" class=\"edge\">\n<title>2&#45;&gt;3</title>\n<path fill=\"none\" stroke=\"black\" d=\"M156.2,-145.12C150.36,-136.59 143.02,-125.89 136.41,-116.25\"/>\n<polygon fill=\"black\" stroke=\"black\" points=\"139.15,-114.07 130.61,-107.8 133.38,-118.02 139.15,-114.07\"/>\n</g>\n<!-- 4 -->\n<g id=\"node5\" class=\"node\">\n<title>4</title>\n<ellipse fill=\"none\" stroke=\"black\" cx=\"216.09\" cy=\"-90\" rx=\"27\" ry=\"18\"/>\n<text text-anchor=\"middle\" x=\"216.09\" y=\"-86.3\" font-family=\"Times,serif\" font-size=\"14.00\">NP</text>\n</g>\n<!-- 2&#45;&gt;4 -->\n<g id=\"edge4\" class=\"edge\">\n<title>2&#45;&gt;4</title>\n<path fill=\"none\" stroke=\"black\" d=\"M177.97,-145.46C184.25,-136.49 192.28,-125.02 199.35,-114.92\"/>\n<polygon fill=\"black\" stroke=\"black\" points=\"202.38,-116.69 205.25,-106.49 196.65,-112.68 202.38,-116.69\"/>\n</g>\n<!-- 5 -->\n<g id=\"node6\" class=\"node\">\n<title>5</title>\n<ellipse fill=\"none\" stroke=\"black\" cx=\"216.09\" cy=\"-18\" rx=\"53.09\" ry=\"18\"/>\n<text text-anchor=\"middle\" x=\"216.09\" y=\"-14.3\" font-family=\"Times,serif\" font-size=\"14.00\">(&#39;fish&#39;, &#39;NN&#39;)</text>\n</g>\n<!-- 4&#45;&gt;5 -->\n<g id=\"edge5\" class=\"edge\">\n<title>4&#45;&gt;5</title>\n<path fill=\"none\" stroke=\"black\" d=\"M216.09,-71.7C216.09,-63.98 216.09,-54.71 216.09,-46.11\"/>\n<polygon fill=\"black\" stroke=\"black\" points=\"219.59,-46.1 216.09,-36.1 212.59,-46.1 219.59,-46.1\"/>\n</g>\n</g>\n</svg>\n",
            "text/plain": [
              "<graphviz.graphs.Digraph at 0x79cac2eb91e0>"
            ]
          },
          "metadata": {}
        }
      ]
    },
    {
      "cell_type": "markdown",
      "source": [
        "# Context Free Grammars"
      ],
      "metadata": {
        "id": "9Al43XYJQcHa"
      }
    },
    {
      "cell_type": "code",
      "source": [
        "groucho_grammar = nltk.CFG.fromstring(\"\"\"\n",
        "S -> NP VP\n",
        "PP -> P NP\n",
        "NP -> Det N | Det N PP | 'I'\n",
        "VP -> V NP | VP PP\n",
        "Det -> 'an' | 'my'\n",
        "N -> 'elephant' | 'pajamas'\n",
        "V -> 'shot'\n",
        "P -> 'in'\n",
        "\"\"\")"
      ],
      "metadata": {
        "id": "5ZU_Lx9KQfpR"
      },
      "execution_count": null,
      "outputs": []
    },
    {
      "cell_type": "code",
      "source": [
        "groucho_grammar"
      ],
      "metadata": {
        "colab": {
          "base_uri": "https://localhost:8080/"
        },
        "id": "37YmtRgjU5MI",
        "outputId": "2771381d-49fd-4d5b-f2d7-584316995fb4"
      },
      "execution_count": null,
      "outputs": [
        {
          "output_type": "execute_result",
          "data": {
            "text/plain": [
              "<Grammar with 13 productions>"
            ]
          },
          "metadata": {},
          "execution_count": 40
        }
      ]
    },
    {
      "cell_type": "code",
      "source": [
        "type(groucho_grammar)"
      ],
      "metadata": {
        "colab": {
          "base_uri": "https://localhost:8080/"
        },
        "id": "CTnE0m_pU9du",
        "outputId": "afca0453-b65a-4135-947b-49fded967baa"
      },
      "execution_count": null,
      "outputs": [
        {
          "output_type": "execute_result",
          "data": {
            "text/plain": [
              "nltk.grammar.CFG"
            ]
          },
          "metadata": {},
          "execution_count": 41
        }
      ]
    },
    {
      "cell_type": "code",
      "source": [
        "groucho_grammar.start()"
      ],
      "metadata": {
        "colab": {
          "base_uri": "https://localhost:8080/"
        },
        "id": "550ty8_7VBsE",
        "outputId": "3ee5e11c-0130-44fa-a1e6-7e44bd780eda"
      },
      "execution_count": null,
      "outputs": [
        {
          "output_type": "execute_result",
          "data": {
            "text/plain": [
              "S"
            ]
          },
          "metadata": {},
          "execution_count": 42
        }
      ]
    },
    {
      "cell_type": "code",
      "source": [
        "groucho_grammar.productions()"
      ],
      "metadata": {
        "colab": {
          "base_uri": "https://localhost:8080/"
        },
        "id": "7fgAwv6aVGqS",
        "outputId": "6df2f4f0-6d24-454c-d0b0-eb06b58e5dcb"
      },
      "execution_count": null,
      "outputs": [
        {
          "output_type": "execute_result",
          "data": {
            "text/plain": [
              "[S -> NP VP,\n",
              " PP -> P NP,\n",
              " NP -> Det N,\n",
              " NP -> Det N PP,\n",
              " NP -> 'I',\n",
              " VP -> V NP,\n",
              " VP -> VP PP,\n",
              " Det -> 'an',\n",
              " Det -> 'my',\n",
              " N -> 'elephant',\n",
              " N -> 'pajamas',\n",
              " V -> 'shot',\n",
              " P -> 'in']"
            ]
          },
          "metadata": {},
          "execution_count": 43
        }
      ]
    },
    {
      "cell_type": "code",
      "source": [
        "from nltk.grammar import *\n",
        "groucho_grammar.productions(lhs=Nonterminal(\"NP\"))"
      ],
      "metadata": {
        "colab": {
          "base_uri": "https://localhost:8080/"
        },
        "id": "TgqH215vVOVD",
        "outputId": "8b2da85d-c60e-4091-9627-92c34963302d"
      },
      "execution_count": null,
      "outputs": [
        {
          "output_type": "execute_result",
          "data": {
            "text/plain": [
              "[NP -> Det N, NP -> Det N PP, NP -> 'I']"
            ]
          },
          "metadata": {},
          "execution_count": 44
        }
      ]
    },
    {
      "cell_type": "code",
      "source": [
        "groucho_grammar.productions(rhs=Nonterminal(\"Det\"))"
      ],
      "metadata": {
        "colab": {
          "base_uri": "https://localhost:8080/"
        },
        "id": "wyP60QFDVZGH",
        "outputId": "47a4356c-6b51-45ba-96ca-a9e06c05d064"
      },
      "execution_count": null,
      "outputs": [
        {
          "output_type": "execute_result",
          "data": {
            "text/plain": [
              "[NP -> Det N, NP -> Det N PP]"
            ]
          },
          "metadata": {},
          "execution_count": 45
        }
      ]
    },
    {
      "cell_type": "code",
      "source": [
        "pp = groucho_grammar.productions(rhs=Nonterminal(\"Det\"))\n",
        "pp[0]"
      ],
      "metadata": {
        "colab": {
          "base_uri": "https://localhost:8080/"
        },
        "id": "Ga96wglKVghF",
        "outputId": "413fa554-ba51-4f6b-f719-4590f6156a33"
      },
      "execution_count": null,
      "outputs": [
        {
          "output_type": "execute_result",
          "data": {
            "text/plain": [
              "NP -> Det N"
            ]
          },
          "metadata": {},
          "execution_count": 46
        }
      ]
    },
    {
      "cell_type": "code",
      "source": [
        "pp[0].lhs()"
      ],
      "metadata": {
        "colab": {
          "base_uri": "https://localhost:8080/"
        },
        "id": "vLqQyvoeVkIP",
        "outputId": "6f251b25-7f59-4980-85d3-2622d8c9e83e"
      },
      "execution_count": null,
      "outputs": [
        {
          "output_type": "execute_result",
          "data": {
            "text/plain": [
              "NP"
            ]
          },
          "metadata": {},
          "execution_count": 47
        }
      ]
    },
    {
      "cell_type": "code",
      "source": [
        "pp[0].rhs()"
      ],
      "metadata": {
        "colab": {
          "base_uri": "https://localhost:8080/"
        },
        "id": "qFozpl-0VlDg",
        "outputId": "8a5c8d7f-2f3e-423d-8367-b7748e606972"
      },
      "execution_count": null,
      "outputs": [
        {
          "output_type": "execute_result",
          "data": {
            "text/plain": [
              "(Det, N)"
            ]
          },
          "metadata": {},
          "execution_count": 48
        }
      ]
    },
    {
      "cell_type": "code",
      "source": [
        "sent = ['I', 'shot', 'an', 'elephant', 'in', 'my', 'pajamas']\n",
        "parser = nltk.ChartParser(groucho_grammar)\n",
        "trees = list(parser.parse(sent))"
      ],
      "metadata": {
        "id": "4GYPHp2oVmJ9"
      },
      "execution_count": null,
      "outputs": []
    },
    {
      "cell_type": "code",
      "source": [
        "print(trees[0])"
      ],
      "metadata": {
        "colab": {
          "base_uri": "https://localhost:8080/"
        },
        "id": "IGtVqmqTV1J9",
        "outputId": "14c3b8ec-8ac5-46fa-c9fd-834e4f0b3bb8"
      },
      "execution_count": null,
      "outputs": [
        {
          "output_type": "stream",
          "name": "stdout",
          "text": [
            "(S\n",
            "  (NP I)\n",
            "  (VP\n",
            "    (VP (V shot) (NP (Det an) (N elephant)))\n",
            "    (PP (P in) (NP (Det my) (N pajamas)))))\n"
          ]
        }
      ]
    },
    {
      "cell_type": "code",
      "source": [
        "dot_source = to_graphviz(trees[0])\n",
        "display(dot_source)"
      ],
      "metadata": {
        "colab": {
          "base_uri": "https://localhost:8080/",
          "height": 580
        },
        "id": "GDRAubcIV6DZ",
        "outputId": "e3e0bcab-d08d-42a6-fbe7-150dfb14c79a"
      },
      "execution_count": null,
      "outputs": [
        {
          "output_type": "display_data",
          "data": {
            "image/svg+xml": "<?xml version=\"1.0\" encoding=\"UTF-8\" standalone=\"no\"?>\n<!DOCTYPE svg PUBLIC \"-//W3C//DTD SVG 1.1//EN\"\n \"http://www.w3.org/Graphics/SVG/1.1/DTD/svg11.dtd\">\n<!-- Generated by graphviz version 2.43.0 (0)\n -->\n<!-- Title: %3 Pages: 1 -->\n<svg width=\"444pt\" height=\"404pt\"\n viewBox=\"0.00 0.00 444.30 404.00\" xmlns=\"http://www.w3.org/2000/svg\" xmlns:xlink=\"http://www.w3.org/1999/xlink\">\n<g id=\"graph0\" class=\"graph\" transform=\"scale(1 1) rotate(0) translate(4 400)\">\n<title>%3</title>\n<polygon fill=\"white\" stroke=\"transparent\" points=\"-4,4 -4,-400 440.3,-400 440.3,4 -4,4\"/>\n<!-- 0 -->\n<g id=\"node1\" class=\"node\">\n<title>0</title>\n<ellipse fill=\"none\" stroke=\"black\" cx=\"99\" cy=\"-378\" rx=\"27\" ry=\"18\"/>\n<text text-anchor=\"middle\" x=\"99\" y=\"-374.3\" font-family=\"Times,serif\" font-size=\"14.00\">S</text>\n</g>\n<!-- 1 -->\n<g id=\"node2\" class=\"node\">\n<title>1</title>\n<ellipse fill=\"none\" stroke=\"black\" cx=\"63\" cy=\"-306\" rx=\"27\" ry=\"18\"/>\n<text text-anchor=\"middle\" x=\"63\" y=\"-302.3\" font-family=\"Times,serif\" font-size=\"14.00\">NP</text>\n</g>\n<!-- 0&#45;&gt;1 -->\n<g id=\"edge1\" class=\"edge\">\n<title>0&#45;&gt;1</title>\n<path fill=\"none\" stroke=\"black\" d=\"M90.65,-360.76C86.29,-352.28 80.85,-341.71 75.96,-332.2\"/>\n<polygon fill=\"black\" stroke=\"black\" points=\"78.99,-330.44 71.3,-323.15 72.77,-333.64 78.99,-330.44\"/>\n</g>\n<!-- 3 -->\n<g id=\"node4\" class=\"node\">\n<title>3</title>\n<ellipse fill=\"none\" stroke=\"black\" cx=\"135\" cy=\"-306\" rx=\"27\" ry=\"18\"/>\n<text text-anchor=\"middle\" x=\"135\" y=\"-302.3\" font-family=\"Times,serif\" font-size=\"14.00\">VP</text>\n</g>\n<!-- 0&#45;&gt;3 -->\n<g id=\"edge3\" class=\"edge\">\n<title>0&#45;&gt;3</title>\n<path fill=\"none\" stroke=\"black\" d=\"M107.35,-360.76C111.71,-352.28 117.15,-341.71 122.04,-332.2\"/>\n<polygon fill=\"black\" stroke=\"black\" points=\"125.23,-333.64 126.7,-323.15 119.01,-330.44 125.23,-333.64\"/>\n</g>\n<!-- 2 -->\n<g id=\"node3\" class=\"node\">\n<title>2</title>\n<ellipse fill=\"none\" stroke=\"black\" cx=\"63\" cy=\"-234\" rx=\"27\" ry=\"18\"/>\n<text text-anchor=\"middle\" x=\"63\" y=\"-230.3\" font-family=\"Times,serif\" font-size=\"14.00\">I</text>\n</g>\n<!-- 1&#45;&gt;2 -->\n<g id=\"edge2\" class=\"edge\">\n<title>1&#45;&gt;2</title>\n<path fill=\"none\" stroke=\"black\" d=\"M63,-287.7C63,-279.98 63,-270.71 63,-262.11\"/>\n<polygon fill=\"black\" stroke=\"black\" points=\"66.5,-262.1 63,-252.1 59.5,-262.1 66.5,-262.1\"/>\n</g>\n<!-- 4 -->\n<g id=\"node5\" class=\"node\">\n<title>4</title>\n<ellipse fill=\"none\" stroke=\"black\" cx=\"135\" cy=\"-234\" rx=\"27\" ry=\"18\"/>\n<text text-anchor=\"middle\" x=\"135\" y=\"-230.3\" font-family=\"Times,serif\" font-size=\"14.00\">VP</text>\n</g>\n<!-- 3&#45;&gt;4 -->\n<g id=\"edge4\" class=\"edge\">\n<title>3&#45;&gt;4</title>\n<path fill=\"none\" stroke=\"black\" d=\"M135,-287.7C135,-279.98 135,-270.71 135,-262.11\"/>\n<polygon fill=\"black\" stroke=\"black\" points=\"138.5,-262.1 135,-252.1 131.5,-262.1 138.5,-262.1\"/>\n</g>\n<!-- 12 -->\n<g id=\"node13\" class=\"node\">\n<title>12</title>\n<ellipse fill=\"none\" stroke=\"black\" cx=\"243\" cy=\"-234\" rx=\"27\" ry=\"18\"/>\n<text text-anchor=\"middle\" x=\"243\" y=\"-230.3\" font-family=\"Times,serif\" font-size=\"14.00\">PP</text>\n</g>\n<!-- 3&#45;&gt;12 -->\n<g id=\"edge12\" class=\"edge\">\n<title>3&#45;&gt;12</title>\n<path fill=\"none\" stroke=\"black\" d=\"M153.81,-292.81C171,-281.67 196.62,-265.06 215.99,-252.5\"/>\n<polygon fill=\"black\" stroke=\"black\" points=\"217.92,-255.43 224.4,-247.05 214.11,-249.56 217.92,-255.43\"/>\n</g>\n<!-- 5 -->\n<g id=\"node6\" class=\"node\">\n<title>5</title>\n<ellipse fill=\"none\" stroke=\"black\" cx=\"45\" cy=\"-162\" rx=\"27\" ry=\"18\"/>\n<text text-anchor=\"middle\" x=\"45\" y=\"-158.3\" font-family=\"Times,serif\" font-size=\"14.00\">V</text>\n</g>\n<!-- 4&#45;&gt;5 -->\n<g id=\"edge5\" class=\"edge\">\n<title>4&#45;&gt;5</title>\n<path fill=\"none\" stroke=\"black\" d=\"M118.07,-219.83C104.5,-209.27 85.24,-194.3 69.91,-182.37\"/>\n<polygon fill=\"black\" stroke=\"black\" points=\"71.89,-179.48 61.85,-176.11 67.6,-185.01 71.89,-179.48\"/>\n</g>\n<!-- 7 -->\n<g id=\"node8\" class=\"node\">\n<title>7</title>\n<ellipse fill=\"none\" stroke=\"black\" cx=\"135\" cy=\"-162\" rx=\"27\" ry=\"18\"/>\n<text text-anchor=\"middle\" x=\"135\" y=\"-158.3\" font-family=\"Times,serif\" font-size=\"14.00\">NP</text>\n</g>\n<!-- 4&#45;&gt;7 -->\n<g id=\"edge7\" class=\"edge\">\n<title>4&#45;&gt;7</title>\n<path fill=\"none\" stroke=\"black\" d=\"M135,-215.7C135,-207.98 135,-198.71 135,-190.11\"/>\n<polygon fill=\"black\" stroke=\"black\" points=\"138.5,-190.1 135,-180.1 131.5,-190.1 138.5,-190.1\"/>\n</g>\n<!-- 6 -->\n<g id=\"node7\" class=\"node\">\n<title>6</title>\n<ellipse fill=\"none\" stroke=\"black\" cx=\"27\" cy=\"-90\" rx=\"27\" ry=\"18\"/>\n<text text-anchor=\"middle\" x=\"27\" y=\"-86.3\" font-family=\"Times,serif\" font-size=\"14.00\">shot</text>\n</g>\n<!-- 5&#45;&gt;6 -->\n<g id=\"edge6\" class=\"edge\">\n<title>5&#45;&gt;6</title>\n<path fill=\"none\" stroke=\"black\" d=\"M40.64,-144.05C38.61,-136.14 36.14,-126.54 33.86,-117.69\"/>\n<polygon fill=\"black\" stroke=\"black\" points=\"37.2,-116.6 31.32,-107.79 30.42,-118.35 37.2,-116.6\"/>\n</g>\n<!-- 8 -->\n<g id=\"node9\" class=\"node\">\n<title>8</title>\n<ellipse fill=\"none\" stroke=\"black\" cx=\"99\" cy=\"-90\" rx=\"27\" ry=\"18\"/>\n<text text-anchor=\"middle\" x=\"99\" y=\"-86.3\" font-family=\"Times,serif\" font-size=\"14.00\">Det</text>\n</g>\n<!-- 7&#45;&gt;8 -->\n<g id=\"edge8\" class=\"edge\">\n<title>7&#45;&gt;8</title>\n<path fill=\"none\" stroke=\"black\" d=\"M126.65,-144.76C122.29,-136.28 116.85,-125.71 111.96,-116.2\"/>\n<polygon fill=\"black\" stroke=\"black\" points=\"114.99,-114.44 107.3,-107.15 108.77,-117.64 114.99,-114.44\"/>\n</g>\n<!-- 10 -->\n<g id=\"node11\" class=\"node\">\n<title>10</title>\n<ellipse fill=\"none\" stroke=\"black\" cx=\"171\" cy=\"-90\" rx=\"27\" ry=\"18\"/>\n<text text-anchor=\"middle\" x=\"171\" y=\"-86.3\" font-family=\"Times,serif\" font-size=\"14.00\">N</text>\n</g>\n<!-- 7&#45;&gt;10 -->\n<g id=\"edge10\" class=\"edge\">\n<title>7&#45;&gt;10</title>\n<path fill=\"none\" stroke=\"black\" d=\"M143.35,-144.76C147.71,-136.28 153.15,-125.71 158.04,-116.2\"/>\n<polygon fill=\"black\" stroke=\"black\" points=\"161.23,-117.64 162.7,-107.15 155.01,-114.44 161.23,-117.64\"/>\n</g>\n<!-- 9 -->\n<g id=\"node10\" class=\"node\">\n<title>9</title>\n<ellipse fill=\"none\" stroke=\"black\" cx=\"92\" cy=\"-18\" rx=\"27\" ry=\"18\"/>\n<text text-anchor=\"middle\" x=\"92\" y=\"-14.3\" font-family=\"Times,serif\" font-size=\"14.00\">an</text>\n</g>\n<!-- 8&#45;&gt;9 -->\n<g id=\"edge9\" class=\"edge\">\n<title>8&#45;&gt;9</title>\n<path fill=\"none\" stroke=\"black\" d=\"M97.27,-71.7C96.5,-63.98 95.57,-54.71 94.71,-46.11\"/>\n<polygon fill=\"black\" stroke=\"black\" points=\"98.19,-45.71 93.71,-36.1 91.22,-46.4 98.19,-45.71\"/>\n</g>\n<!-- 11 -->\n<g id=\"node12\" class=\"node\">\n<title>11</title>\n<ellipse fill=\"none\" stroke=\"black\" cx=\"177\" cy=\"-18\" rx=\"40.09\" ry=\"18\"/>\n<text text-anchor=\"middle\" x=\"177\" y=\"-14.3\" font-family=\"Times,serif\" font-size=\"14.00\">elephant</text>\n</g>\n<!-- 10&#45;&gt;11 -->\n<g id=\"edge11\" class=\"edge\">\n<title>10&#45;&gt;11</title>\n<path fill=\"none\" stroke=\"black\" d=\"M172.48,-71.7C173.14,-63.98 173.94,-54.71 174.68,-46.11\"/>\n<polygon fill=\"black\" stroke=\"black\" points=\"178.17,-46.37 175.53,-36.1 171.19,-45.77 178.17,-46.37\"/>\n</g>\n<!-- 13 -->\n<g id=\"node14\" class=\"node\">\n<title>13</title>\n<ellipse fill=\"none\" stroke=\"black\" cx=\"243\" cy=\"-162\" rx=\"27\" ry=\"18\"/>\n<text text-anchor=\"middle\" x=\"243\" y=\"-158.3\" font-family=\"Times,serif\" font-size=\"14.00\">P</text>\n</g>\n<!-- 12&#45;&gt;13 -->\n<g id=\"edge13\" class=\"edge\">\n<title>12&#45;&gt;13</title>\n<path fill=\"none\" stroke=\"black\" d=\"M243,-215.7C243,-207.98 243,-198.71 243,-190.11\"/>\n<polygon fill=\"black\" stroke=\"black\" points=\"246.5,-190.1 243,-180.1 239.5,-190.1 246.5,-190.1\"/>\n</g>\n<!-- 15 -->\n<g id=\"node16\" class=\"node\">\n<title>15</title>\n<ellipse fill=\"none\" stroke=\"black\" cx=\"315\" cy=\"-162\" rx=\"27\" ry=\"18\"/>\n<text text-anchor=\"middle\" x=\"315\" y=\"-158.3\" font-family=\"Times,serif\" font-size=\"14.00\">NP</text>\n</g>\n<!-- 12&#45;&gt;15 -->\n<g id=\"edge15\" class=\"edge\">\n<title>12&#45;&gt;15</title>\n<path fill=\"none\" stroke=\"black\" d=\"M257.57,-218.83C267.75,-208.94 281.52,-195.55 293.03,-184.36\"/>\n<polygon fill=\"black\" stroke=\"black\" points=\"295.47,-186.87 300.2,-177.38 290.59,-181.85 295.47,-186.87\"/>\n</g>\n<!-- 14 -->\n<g id=\"node15\" class=\"node\">\n<title>14</title>\n<ellipse fill=\"none\" stroke=\"black\" cx=\"243\" cy=\"-90\" rx=\"27\" ry=\"18\"/>\n<text text-anchor=\"middle\" x=\"243\" y=\"-86.3\" font-family=\"Times,serif\" font-size=\"14.00\">in</text>\n</g>\n<!-- 13&#45;&gt;14 -->\n<g id=\"edge14\" class=\"edge\">\n<title>13&#45;&gt;14</title>\n<path fill=\"none\" stroke=\"black\" d=\"M243,-143.7C243,-135.98 243,-126.71 243,-118.11\"/>\n<polygon fill=\"black\" stroke=\"black\" points=\"246.5,-118.1 243,-108.1 239.5,-118.1 246.5,-118.1\"/>\n</g>\n<!-- 16 -->\n<g id=\"node17\" class=\"node\">\n<title>16</title>\n<ellipse fill=\"none\" stroke=\"black\" cx=\"315\" cy=\"-90\" rx=\"27\" ry=\"18\"/>\n<text text-anchor=\"middle\" x=\"315\" y=\"-86.3\" font-family=\"Times,serif\" font-size=\"14.00\">Det</text>\n</g>\n<!-- 15&#45;&gt;16 -->\n<g id=\"edge16\" class=\"edge\">\n<title>15&#45;&gt;16</title>\n<path fill=\"none\" stroke=\"black\" d=\"M315,-143.7C315,-135.98 315,-126.71 315,-118.11\"/>\n<polygon fill=\"black\" stroke=\"black\" points=\"318.5,-118.1 315,-108.1 311.5,-118.1 318.5,-118.1\"/>\n</g>\n<!-- 18 -->\n<g id=\"node19\" class=\"node\">\n<title>18</title>\n<ellipse fill=\"none\" stroke=\"black\" cx=\"390\" cy=\"-90\" rx=\"27\" ry=\"18\"/>\n<text text-anchor=\"middle\" x=\"390\" y=\"-86.3\" font-family=\"Times,serif\" font-size=\"14.00\">N</text>\n</g>\n<!-- 15&#45;&gt;18 -->\n<g id=\"edge18\" class=\"edge\">\n<title>15&#45;&gt;18</title>\n<path fill=\"none\" stroke=\"black\" d=\"M330.18,-146.83C340.85,-136.87 355.32,-123.37 367.35,-112.14\"/>\n<polygon fill=\"black\" stroke=\"black\" points=\"369.92,-114.53 374.85,-105.14 365.15,-109.41 369.92,-114.53\"/>\n</g>\n<!-- 17 -->\n<g id=\"node18\" class=\"node\">\n<title>17</title>\n<ellipse fill=\"none\" stroke=\"black\" cx=\"311\" cy=\"-18\" rx=\"27\" ry=\"18\"/>\n<text text-anchor=\"middle\" x=\"311\" y=\"-14.3\" font-family=\"Times,serif\" font-size=\"14.00\">my</text>\n</g>\n<!-- 16&#45;&gt;17 -->\n<g id=\"edge17\" class=\"edge\">\n<title>16&#45;&gt;17</title>\n<path fill=\"none\" stroke=\"black\" d=\"M314.01,-71.7C313.57,-63.98 313.04,-54.71 312.55,-46.11\"/>\n<polygon fill=\"black\" stroke=\"black\" points=\"316.04,-45.89 311.98,-36.1 309.05,-46.29 316.04,-45.89\"/>\n</g>\n<!-- 19 -->\n<g id=\"node20\" class=\"node\">\n<title>19</title>\n<ellipse fill=\"none\" stroke=\"black\" cx=\"396\" cy=\"-18\" rx=\"40.09\" ry=\"18\"/>\n<text text-anchor=\"middle\" x=\"396\" y=\"-14.3\" font-family=\"Times,serif\" font-size=\"14.00\">pajamas</text>\n</g>\n<!-- 18&#45;&gt;19 -->\n<g id=\"edge19\" class=\"edge\">\n<title>18&#45;&gt;19</title>\n<path fill=\"none\" stroke=\"black\" d=\"M391.48,-71.7C392.14,-63.98 392.94,-54.71 393.68,-46.11\"/>\n<polygon fill=\"black\" stroke=\"black\" points=\"397.17,-46.37 394.53,-36.1 390.19,-45.77 397.17,-46.37\"/>\n</g>\n</g>\n</svg>\n",
            "text/plain": [
              "<graphviz.graphs.Digraph at 0x79cac2fef6a0>"
            ]
          },
          "metadata": {}
        }
      ]
    },
    {
      "cell_type": "code",
      "source": [
        "print(trees[1])"
      ],
      "metadata": {
        "colab": {
          "base_uri": "https://localhost:8080/"
        },
        "id": "djQDfJ97V8lM",
        "outputId": "3d01ad10-f927-4433-cddd-cd96c00052f9"
      },
      "execution_count": null,
      "outputs": [
        {
          "output_type": "stream",
          "name": "stdout",
          "text": [
            "(S\n",
            "  (NP I)\n",
            "  (VP\n",
            "    (V shot)\n",
            "    (NP (Det an) (N elephant) (PP (P in) (NP (Det my) (N pajamas))))))\n"
          ]
        }
      ]
    },
    {
      "cell_type": "code",
      "source": [
        "dot_source = to_graphviz(trees[1])\n",
        "display(dot_source)"
      ],
      "metadata": {
        "colab": {
          "base_uri": "https://localhost:8080/",
          "height": 677
        },
        "id": "nyWXwcerWETq",
        "outputId": "c7e51a83-3922-46ce-f5db-a293c1e6b325"
      },
      "execution_count": null,
      "outputs": [
        {
          "output_type": "display_data",
          "data": {
            "image/svg+xml": "<?xml version=\"1.0\" encoding=\"UTF-8\" standalone=\"no\"?>\n<!DOCTYPE svg PUBLIC \"-//W3C//DTD SVG 1.1//EN\"\n \"http://www.w3.org/Graphics/SVG/1.1/DTD/svg11.dtd\">\n<!-- Generated by graphviz version 2.43.0 (0)\n -->\n<!-- Title: %3 Pages: 1 -->\n<svg width=\"511pt\" height=\"476pt\"\n viewBox=\"0.00 0.00 511.30 476.00\" xmlns=\"http://www.w3.org/2000/svg\" xmlns:xlink=\"http://www.w3.org/1999/xlink\">\n<g id=\"graph0\" class=\"graph\" transform=\"scale(1 1) rotate(0) translate(4 472)\">\n<title>%3</title>\n<polygon fill=\"white\" stroke=\"transparent\" points=\"-4,4 -4,-472 507.3,-472 507.3,4 -4,4\"/>\n<!-- 0 -->\n<g id=\"node1\" class=\"node\">\n<title>0</title>\n<ellipse fill=\"none\" stroke=\"black\" cx=\"63\" cy=\"-450\" rx=\"27\" ry=\"18\"/>\n<text text-anchor=\"middle\" x=\"63\" y=\"-446.3\" font-family=\"Times,serif\" font-size=\"14.00\">S</text>\n</g>\n<!-- 1 -->\n<g id=\"node2\" class=\"node\">\n<title>1</title>\n<ellipse fill=\"none\" stroke=\"black\" cx=\"27\" cy=\"-378\" rx=\"27\" ry=\"18\"/>\n<text text-anchor=\"middle\" x=\"27\" y=\"-374.3\" font-family=\"Times,serif\" font-size=\"14.00\">NP</text>\n</g>\n<!-- 0&#45;&gt;1 -->\n<g id=\"edge1\" class=\"edge\">\n<title>0&#45;&gt;1</title>\n<path fill=\"none\" stroke=\"black\" d=\"M54.65,-432.76C50.29,-424.28 44.85,-413.71 39.96,-404.2\"/>\n<polygon fill=\"black\" stroke=\"black\" points=\"42.99,-402.44 35.3,-395.15 36.77,-405.64 42.99,-402.44\"/>\n</g>\n<!-- 3 -->\n<g id=\"node4\" class=\"node\">\n<title>3</title>\n<ellipse fill=\"none\" stroke=\"black\" cx=\"99\" cy=\"-378\" rx=\"27\" ry=\"18\"/>\n<text text-anchor=\"middle\" x=\"99\" y=\"-374.3\" font-family=\"Times,serif\" font-size=\"14.00\">VP</text>\n</g>\n<!-- 0&#45;&gt;3 -->\n<g id=\"edge3\" class=\"edge\">\n<title>0&#45;&gt;3</title>\n<path fill=\"none\" stroke=\"black\" d=\"M71.35,-432.76C75.71,-424.28 81.15,-413.71 86.04,-404.2\"/>\n<polygon fill=\"black\" stroke=\"black\" points=\"89.23,-405.64 90.7,-395.15 83.01,-402.44 89.23,-405.64\"/>\n</g>\n<!-- 2 -->\n<g id=\"node3\" class=\"node\">\n<title>2</title>\n<ellipse fill=\"none\" stroke=\"black\" cx=\"27\" cy=\"-306\" rx=\"27\" ry=\"18\"/>\n<text text-anchor=\"middle\" x=\"27\" y=\"-302.3\" font-family=\"Times,serif\" font-size=\"14.00\">I</text>\n</g>\n<!-- 1&#45;&gt;2 -->\n<g id=\"edge2\" class=\"edge\">\n<title>1&#45;&gt;2</title>\n<path fill=\"none\" stroke=\"black\" d=\"M27,-359.7C27,-351.98 27,-342.71 27,-334.11\"/>\n<polygon fill=\"black\" stroke=\"black\" points=\"30.5,-334.1 27,-324.1 23.5,-334.1 30.5,-334.1\"/>\n</g>\n<!-- 4 -->\n<g id=\"node5\" class=\"node\">\n<title>4</title>\n<ellipse fill=\"none\" stroke=\"black\" cx=\"99\" cy=\"-306\" rx=\"27\" ry=\"18\"/>\n<text text-anchor=\"middle\" x=\"99\" y=\"-302.3\" font-family=\"Times,serif\" font-size=\"14.00\">V</text>\n</g>\n<!-- 3&#45;&gt;4 -->\n<g id=\"edge4\" class=\"edge\">\n<title>3&#45;&gt;4</title>\n<path fill=\"none\" stroke=\"black\" d=\"M99,-359.7C99,-351.98 99,-342.71 99,-334.11\"/>\n<polygon fill=\"black\" stroke=\"black\" points=\"102.5,-334.1 99,-324.1 95.5,-334.1 102.5,-334.1\"/>\n</g>\n<!-- 6 -->\n<g id=\"node7\" class=\"node\">\n<title>6</title>\n<ellipse fill=\"none\" stroke=\"black\" cx=\"189\" cy=\"-306\" rx=\"27\" ry=\"18\"/>\n<text text-anchor=\"middle\" x=\"189\" y=\"-302.3\" font-family=\"Times,serif\" font-size=\"14.00\">NP</text>\n</g>\n<!-- 3&#45;&gt;6 -->\n<g id=\"edge6\" class=\"edge\">\n<title>3&#45;&gt;6</title>\n<path fill=\"none\" stroke=\"black\" d=\"M115.93,-363.83C129.5,-353.27 148.76,-338.3 164.09,-326.37\"/>\n<polygon fill=\"black\" stroke=\"black\" points=\"166.4,-329.01 172.15,-320.11 162.11,-323.48 166.4,-329.01\"/>\n</g>\n<!-- 5 -->\n<g id=\"node6\" class=\"node\">\n<title>5</title>\n<ellipse fill=\"none\" stroke=\"black\" cx=\"81\" cy=\"-234\" rx=\"27\" ry=\"18\"/>\n<text text-anchor=\"middle\" x=\"81\" y=\"-230.3\" font-family=\"Times,serif\" font-size=\"14.00\">shot</text>\n</g>\n<!-- 4&#45;&gt;5 -->\n<g id=\"edge5\" class=\"edge\">\n<title>4&#45;&gt;5</title>\n<path fill=\"none\" stroke=\"black\" d=\"M94.64,-288.05C92.61,-280.14 90.14,-270.54 87.86,-261.69\"/>\n<polygon fill=\"black\" stroke=\"black\" points=\"91.2,-260.6 85.32,-251.79 84.42,-262.35 91.2,-260.6\"/>\n</g>\n<!-- 7 -->\n<g id=\"node8\" class=\"node\">\n<title>7</title>\n<ellipse fill=\"none\" stroke=\"black\" cx=\"153\" cy=\"-234\" rx=\"27\" ry=\"18\"/>\n<text text-anchor=\"middle\" x=\"153\" y=\"-230.3\" font-family=\"Times,serif\" font-size=\"14.00\">Det</text>\n</g>\n<!-- 6&#45;&gt;7 -->\n<g id=\"edge7\" class=\"edge\">\n<title>6&#45;&gt;7</title>\n<path fill=\"none\" stroke=\"black\" d=\"M180.65,-288.76C176.29,-280.28 170.85,-269.71 165.96,-260.2\"/>\n<polygon fill=\"black\" stroke=\"black\" points=\"168.99,-258.44 161.3,-251.15 162.77,-261.64 168.99,-258.44\"/>\n</g>\n<!-- 9 -->\n<g id=\"node10\" class=\"node\">\n<title>9</title>\n<ellipse fill=\"none\" stroke=\"black\" cx=\"225\" cy=\"-234\" rx=\"27\" ry=\"18\"/>\n<text text-anchor=\"middle\" x=\"225\" y=\"-230.3\" font-family=\"Times,serif\" font-size=\"14.00\">N</text>\n</g>\n<!-- 6&#45;&gt;9 -->\n<g id=\"edge9\" class=\"edge\">\n<title>6&#45;&gt;9</title>\n<path fill=\"none\" stroke=\"black\" d=\"M197.35,-288.76C201.71,-280.28 207.15,-269.71 212.04,-260.2\"/>\n<polygon fill=\"black\" stroke=\"black\" points=\"215.23,-261.64 216.7,-251.15 209.01,-258.44 215.23,-261.64\"/>\n</g>\n<!-- 11 -->\n<g id=\"node12\" class=\"node\">\n<title>11</title>\n<ellipse fill=\"none\" stroke=\"black\" cx=\"310\" cy=\"-234\" rx=\"27\" ry=\"18\"/>\n<text text-anchor=\"middle\" x=\"310\" y=\"-230.3\" font-family=\"Times,serif\" font-size=\"14.00\">PP</text>\n</g>\n<!-- 6&#45;&gt;11 -->\n<g id=\"edge11\" class=\"edge\">\n<title>6&#45;&gt;11</title>\n<path fill=\"none\" stroke=\"black\" d=\"M208.71,-293.6C228.49,-282.16 259.15,-264.42 281.56,-251.46\"/>\n<polygon fill=\"black\" stroke=\"black\" points=\"283.4,-254.43 290.3,-246.4 279.89,-248.38 283.4,-254.43\"/>\n</g>\n<!-- 8 -->\n<g id=\"node9\" class=\"node\">\n<title>8</title>\n<ellipse fill=\"none\" stroke=\"black\" cx=\"140\" cy=\"-162\" rx=\"27\" ry=\"18\"/>\n<text text-anchor=\"middle\" x=\"140\" y=\"-158.3\" font-family=\"Times,serif\" font-size=\"14.00\">an</text>\n</g>\n<!-- 7&#45;&gt;8 -->\n<g id=\"edge8\" class=\"edge\">\n<title>7&#45;&gt;8</title>\n<path fill=\"none\" stroke=\"black\" d=\"M149.85,-216.05C148.42,-208.35 146.69,-199.03 145.08,-190.36\"/>\n<polygon fill=\"black\" stroke=\"black\" points=\"148.48,-189.47 143.21,-180.28 141.59,-190.75 148.48,-189.47\"/>\n</g>\n<!-- 10 -->\n<g id=\"node11\" class=\"node\">\n<title>10</title>\n<ellipse fill=\"none\" stroke=\"black\" cx=\"225\" cy=\"-162\" rx=\"40.09\" ry=\"18\"/>\n<text text-anchor=\"middle\" x=\"225\" y=\"-158.3\" font-family=\"Times,serif\" font-size=\"14.00\">elephant</text>\n</g>\n<!-- 9&#45;&gt;10 -->\n<g id=\"edge10\" class=\"edge\">\n<title>9&#45;&gt;10</title>\n<path fill=\"none\" stroke=\"black\" d=\"M225,-215.7C225,-207.98 225,-198.71 225,-190.11\"/>\n<polygon fill=\"black\" stroke=\"black\" points=\"228.5,-190.1 225,-180.1 221.5,-190.1 228.5,-190.1\"/>\n</g>\n<!-- 12 -->\n<g id=\"node13\" class=\"node\">\n<title>12</title>\n<ellipse fill=\"none\" stroke=\"black\" cx=\"310\" cy=\"-162\" rx=\"27\" ry=\"18\"/>\n<text text-anchor=\"middle\" x=\"310\" y=\"-158.3\" font-family=\"Times,serif\" font-size=\"14.00\">P</text>\n</g>\n<!-- 11&#45;&gt;12 -->\n<g id=\"edge12\" class=\"edge\">\n<title>11&#45;&gt;12</title>\n<path fill=\"none\" stroke=\"black\" d=\"M310,-215.7C310,-207.98 310,-198.71 310,-190.11\"/>\n<polygon fill=\"black\" stroke=\"black\" points=\"313.5,-190.1 310,-180.1 306.5,-190.1 313.5,-190.1\"/>\n</g>\n<!-- 14 -->\n<g id=\"node15\" class=\"node\">\n<title>14</title>\n<ellipse fill=\"none\" stroke=\"black\" cx=\"382\" cy=\"-162\" rx=\"27\" ry=\"18\"/>\n<text text-anchor=\"middle\" x=\"382\" y=\"-158.3\" font-family=\"Times,serif\" font-size=\"14.00\">NP</text>\n</g>\n<!-- 11&#45;&gt;14 -->\n<g id=\"edge14\" class=\"edge\">\n<title>11&#45;&gt;14</title>\n<path fill=\"none\" stroke=\"black\" d=\"M324.57,-218.83C334.75,-208.94 348.52,-195.55 360.03,-184.36\"/>\n<polygon fill=\"black\" stroke=\"black\" points=\"362.47,-186.87 367.2,-177.38 357.59,-181.85 362.47,-186.87\"/>\n</g>\n<!-- 13 -->\n<g id=\"node14\" class=\"node\">\n<title>13</title>\n<ellipse fill=\"none\" stroke=\"black\" cx=\"310\" cy=\"-90\" rx=\"27\" ry=\"18\"/>\n<text text-anchor=\"middle\" x=\"310\" y=\"-86.3\" font-family=\"Times,serif\" font-size=\"14.00\">in</text>\n</g>\n<!-- 12&#45;&gt;13 -->\n<g id=\"edge13\" class=\"edge\">\n<title>12&#45;&gt;13</title>\n<path fill=\"none\" stroke=\"black\" d=\"M310,-143.7C310,-135.98 310,-126.71 310,-118.11\"/>\n<polygon fill=\"black\" stroke=\"black\" points=\"313.5,-118.1 310,-108.1 306.5,-118.1 313.5,-118.1\"/>\n</g>\n<!-- 15 -->\n<g id=\"node16\" class=\"node\">\n<title>15</title>\n<ellipse fill=\"none\" stroke=\"black\" cx=\"382\" cy=\"-90\" rx=\"27\" ry=\"18\"/>\n<text text-anchor=\"middle\" x=\"382\" y=\"-86.3\" font-family=\"Times,serif\" font-size=\"14.00\">Det</text>\n</g>\n<!-- 14&#45;&gt;15 -->\n<g id=\"edge15\" class=\"edge\">\n<title>14&#45;&gt;15</title>\n<path fill=\"none\" stroke=\"black\" d=\"M382,-143.7C382,-135.98 382,-126.71 382,-118.11\"/>\n<polygon fill=\"black\" stroke=\"black\" points=\"385.5,-118.1 382,-108.1 378.5,-118.1 385.5,-118.1\"/>\n</g>\n<!-- 17 -->\n<g id=\"node18\" class=\"node\">\n<title>17</title>\n<ellipse fill=\"none\" stroke=\"black\" cx=\"457\" cy=\"-90\" rx=\"27\" ry=\"18\"/>\n<text text-anchor=\"middle\" x=\"457\" y=\"-86.3\" font-family=\"Times,serif\" font-size=\"14.00\">N</text>\n</g>\n<!-- 14&#45;&gt;17 -->\n<g id=\"edge17\" class=\"edge\">\n<title>14&#45;&gt;17</title>\n<path fill=\"none\" stroke=\"black\" d=\"M397.18,-146.83C407.85,-136.87 422.32,-123.37 434.35,-112.14\"/>\n<polygon fill=\"black\" stroke=\"black\" points=\"436.92,-114.53 441.85,-105.14 432.15,-109.41 436.92,-114.53\"/>\n</g>\n<!-- 16 -->\n<g id=\"node17\" class=\"node\">\n<title>16</title>\n<ellipse fill=\"none\" stroke=\"black\" cx=\"378\" cy=\"-18\" rx=\"27\" ry=\"18\"/>\n<text text-anchor=\"middle\" x=\"378\" y=\"-14.3\" font-family=\"Times,serif\" font-size=\"14.00\">my</text>\n</g>\n<!-- 15&#45;&gt;16 -->\n<g id=\"edge16\" class=\"edge\">\n<title>15&#45;&gt;16</title>\n<path fill=\"none\" stroke=\"black\" d=\"M381.01,-71.7C380.57,-63.98 380.04,-54.71 379.55,-46.11\"/>\n<polygon fill=\"black\" stroke=\"black\" points=\"383.04,-45.89 378.98,-36.1 376.05,-46.29 383.04,-45.89\"/>\n</g>\n<!-- 18 -->\n<g id=\"node19\" class=\"node\">\n<title>18</title>\n<ellipse fill=\"none\" stroke=\"black\" cx=\"463\" cy=\"-18\" rx=\"40.09\" ry=\"18\"/>\n<text text-anchor=\"middle\" x=\"463\" y=\"-14.3\" font-family=\"Times,serif\" font-size=\"14.00\">pajamas</text>\n</g>\n<!-- 17&#45;&gt;18 -->\n<g id=\"edge18\" class=\"edge\">\n<title>17&#45;&gt;18</title>\n<path fill=\"none\" stroke=\"black\" d=\"M458.48,-71.7C459.14,-63.98 459.94,-54.71 460.68,-46.11\"/>\n<polygon fill=\"black\" stroke=\"black\" points=\"464.17,-46.37 461.53,-36.1 457.19,-45.77 464.17,-46.37\"/>\n</g>\n</g>\n</svg>\n",
            "text/plain": [
              "<graphviz.graphs.Digraph at 0x79cac08657b0>"
            ]
          },
          "metadata": {}
        }
      ]
    },
    {
      "cell_type": "code",
      "source": [],
      "metadata": {
        "id": "jjEYsPivWKrg"
      },
      "execution_count": null,
      "outputs": []
    }
  ]
}