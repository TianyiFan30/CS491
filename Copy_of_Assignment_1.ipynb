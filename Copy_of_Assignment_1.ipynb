{
  "nbformat": 4,
  "nbformat_minor": 0,
  "metadata": {
    "colab": {
      "provenance": [],
      "include_colab_link": true
    },
    "kernelspec": {
      "name": "python3",
      "display_name": "Python 3"
    },
    "language_info": {
      "name": "python"
    }
  },
  "cells": [
    {
      "cell_type": "markdown",
      "metadata": {
        "id": "view-in-github",
        "colab_type": "text"
      },
      "source": [
        "<a href=\"https://colab.research.google.com/github/TianyiFan30/CS491/blob/main/Copy_of_Assignment_1.ipynb\" target=\"_parent\"><img src=\"https://colab.research.google.com/assets/colab-badge.svg\" alt=\"Open In Colab\"/></a>"
      ]
    },
    {
      "cell_type": "markdown",
      "source": [
        "This assignment is meant to give you a chance to get used to Jupyter notebooks in Google Colab, and get some familiarity with Python if it is new to you.\n",
        "\n",
        "The following code block connects colab with your google drive. Before you execute the code, look under the \"folder\" icon to the left. Then compare with what you see after executing the commands. This set is not absolutely necessary, but if you want to save your work to your google drive then you do need to make this connection."
      ],
      "metadata": {
        "id": "r0dPY54I9Fia"
      }
    },
    {
      "cell_type": "code",
      "source": [
        "from google.colab import drive\n",
        "drive.mount('/content/drive')\n"
      ],
      "metadata": {
        "colab": {
          "base_uri": "https://localhost:8080/"
        },
        "id": "TQRhK6Gw9pFx",
        "outputId": "6958fe13-e79c-4f16-bfa9-5cbed4dc4b74"
      },
      "execution_count": null,
      "outputs": [
        {
          "output_type": "stream",
          "name": "stdout",
          "text": [
            "Mounted at /content/drive\n"
          ]
        }
      ]
    },
    {
      "cell_type": "markdown",
      "source": [
        "# Basic number theory"
      ],
      "metadata": {
        "id": "4A_pu5yxBPG0"
      }
    },
    {
      "cell_type": "markdown",
      "source": [
        "First we will do some basic number theory with the python library \"sympy.\" This library is for \"symbolic\" mathematics."
      ],
      "metadata": {
        "id": "KC04TjXy-W_S"
      }
    },
    {
      "cell_type": "markdown",
      "source": [
        "Find your uwec id number, which should be an eight-digit number that begins with 11. Then assign it to a variable name, similar to what I did below with my uwec id."
      ],
      "metadata": {
        "id": "shOij42E_qYk"
      }
    },
    {
      "cell_type": "code",
      "source": [
        "from sympy.ntheory.generate import nextprime\n",
        "from sympy import factorint"
      ],
      "metadata": {
        "id": "TrkMhc-A5wP5"
      },
      "execution_count": null,
      "outputs": []
    },
    {
      "cell_type": "code",
      "source": [
        "alex_id=11158770"
      ],
      "metadata": {
        "id": "3hI-4ttDAUUD"
      },
      "execution_count": null,
      "outputs": []
    },
    {
      "cell_type": "code",
      "source": [
        "factorint(alex_id)"
      ],
      "metadata": {
        "colab": {
          "base_uri": "https://localhost:8080/"
        },
        "id": "kLl2NcoI_PLJ",
        "outputId": "a6449260-6f76-4953-cd91-401f6db38922"
      },
      "execution_count": null,
      "outputs": [
        {
          "output_type": "execute_result",
          "data": {
            "text/plain": [
              "{2: 1, 3: 1, 5: 1, 7: 2, 7591: 1}"
            ]
          },
          "metadata": {},
          "execution_count": 9
        }
      ]
    },
    {
      "cell_type": "code",
      "source": [
        "from sympy.ntheory.generate import nextprime\n",
        "from sympy import factorint"
      ],
      "metadata": {
        "id": "uaqEOtPt24GI"
      },
      "execution_count": null,
      "outputs": []
    },
    {
      "cell_type": "code",
      "source": [
        "tianyi_id=7929143"
      ],
      "metadata": {
        "id": "lmo0EzDT26qb"
      },
      "execution_count": null,
      "outputs": []
    },
    {
      "cell_type": "code",
      "source": [
        "factorint(tianyi_id)"
      ],
      "metadata": {
        "id": "Y6e1G6kn2-zd",
        "outputId": "52b52ecb-2bab-4d68-d793-4d05d2d5a205",
        "colab": {
          "base_uri": "https://localhost:8080/"
        }
      },
      "execution_count": null,
      "outputs": [
        {
          "output_type": "execute_result",
          "data": {
            "text/plain": [
              "{7929143: 1}"
            ]
          },
          "metadata": {},
          "execution_count": 31
        }
      ]
    },
    {
      "cell_type": "markdown",
      "source": [
        "**factorint** returns a Python dictionary. Insert a text cell below and explain how to interpret the output. Then insert a code block to verify the prime factorization using multiplication and exponentiation."
      ],
      "metadata": {
        "id": "W_2-GSHIAfh9"
      }
    },
    {
      "cell_type": "code",
      "source": [
        "p=nextprime(alex_id)\n",
        "p"
      ],
      "metadata": {
        "colab": {
          "base_uri": "https://localhost:8080/"
        },
        "id": "PYtdsKhI5wyJ",
        "outputId": "185059c8-4292-4dd4-8533-df9a9652151d"
      },
      "execution_count": null,
      "outputs": [
        {
          "output_type": "execute_result",
          "data": {
            "text/plain": [
              "11158799"
            ]
          },
          "metadata": {},
          "execution_count": 10
        }
      ]
    },
    {
      "cell_type": "code",
      "source": [
        "q=nextprime(p)\n",
        "q"
      ],
      "metadata": {
        "colab": {
          "base_uri": "https://localhost:8080/"
        },
        "id": "J1p6RgAN51cB",
        "outputId": "7f557cbe-dc8c-40c2-a54f-2933af81d3ff"
      },
      "execution_count": null,
      "outputs": [
        {
          "output_type": "execute_result",
          "data": {
            "text/plain": [
              "11158811"
            ]
          },
          "metadata": {},
          "execution_count": 11
        }
      ]
    },
    {
      "cell_type": "code",
      "source": [
        "pq=p*q"
      ],
      "metadata": {
        "id": "JG8Xzo8m56dK"
      },
      "execution_count": null,
      "outputs": []
    },
    {
      "cell_type": "code",
      "source": [
        "factorint(pq)"
      ],
      "metadata": {
        "colab": {
          "base_uri": "https://localhost:8080/"
        },
        "id": "WRqs76zj59Vk",
        "outputId": "23db1802-a1ef-443b-8d98-e752b39960e5"
      },
      "execution_count": null,
      "outputs": [
        {
          "output_type": "execute_result",
          "data": {
            "text/plain": [
              "{11158799: 1, 11158811: 1}"
            ]
          },
          "metadata": {},
          "execution_count": 13
        }
      ]
    },
    {
      "cell_type": "code",
      "source": [
        "p=nextprime(tianyi_id)\n",
        "p"
      ],
      "metadata": {
        "id": "xCgNd0O33NIq",
        "outputId": "e6eb0889-1e06-4d22-9674-987080c13935",
        "colab": {
          "base_uri": "https://localhost:8080/"
        }
      },
      "execution_count": null,
      "outputs": [
        {
          "output_type": "execute_result",
          "data": {
            "text/plain": [
              "7929167"
            ]
          },
          "metadata": {},
          "execution_count": 32
        }
      ]
    },
    {
      "cell_type": "code",
      "source": [
        "q=nextprime(p)\n",
        "q"
      ],
      "metadata": {
        "id": "1gxlKcLy98F8",
        "outputId": "3a71e656-6ff1-4265-af95-d29a102470fb",
        "colab": {
          "base_uri": "https://localhost:8080/"
        }
      },
      "execution_count": null,
      "outputs": [
        {
          "output_type": "execute_result",
          "data": {
            "text/plain": [
              "7929197"
            ]
          },
          "metadata": {},
          "execution_count": 33
        }
      ]
    },
    {
      "cell_type": "code",
      "source": [
        "pq=p*q"
      ],
      "metadata": {
        "id": "bX73SkpJ-DZo"
      },
      "execution_count": null,
      "outputs": []
    },
    {
      "cell_type": "code",
      "source": [
        "factorint(pq)"
      ],
      "metadata": {
        "id": "wG515nK3-GuV",
        "outputId": "77c7a75b-411c-4baf-dc6d-ceff0ce533bf",
        "colab": {
          "base_uri": "https://localhost:8080/"
        }
      },
      "execution_count": null,
      "outputs": [
        {
          "output_type": "execute_result",
          "data": {
            "text/plain": [
              "{7929167: 1, 7929197: 1}"
            ]
          },
          "metadata": {},
          "execution_count": 37
        }
      ]
    },
    {
      "cell_type": "markdown",
      "source": [
        "# Basic text processing"
      ],
      "metadata": {
        "id": "46-Ra_OGBr99"
      }
    },
    {
      "cell_type": "markdown",
      "source": [
        "Next we will do some basic textprocessing. Go to the Gutenberg website\n",
        "\n",
        "https://www.gutenberg.org/\n",
        "\n",
        "and find a passage similar to the one below. When selecting a format, use **Plain Text UTF-8**\n",
        "\n",
        "When you paste your selected text into a code block you will need to enclose it in triple quotes **\"\"\"pasted text\"\"\"**\n",
        "\n",
        "In Python, triple double quotes (\"\"\") are used to create multi-line string literals. This means they allow you to include a string that spans across multiple lines without the need to insert a newline character (\\n) manually at the end of each line. This is particularly useful for long strings, or when you want to preserve the format of the text."
      ],
      "metadata": {
        "id": "4MRcjy4YSMg9"
      }
    },
    {
      "cell_type": "markdown",
      "source": [
        "Include the link to the text you selected. For the example below, I used\n",
        "\n",
        "[Economic effects of the world war upon women and children in Great Britain](https://www.gutenberg.org/cache/epub/72639/pg72639.txt) which has **eBook #72639**"
      ],
      "metadata": {
        "id": "5-WTfLPZewoo"
      }
    },
    {
      "cell_type": "code",
      "source": [
        "snip0=\"\"\"Under war conditions the wages of both women and children were raised,\n",
        "probably the largest gains being made by boy and girl munition makers.\n",
        "The smallest rise seems to have occurred in the unregulated, so-called\n",
        "“women’s trades,” like laundry work. The trade boards made a number of\n",
        "increases in the industries within their jurisdiction, but the changes\n",
        "were seldom proportionate to the increase in the cost of living.\n",
        "Instead, what it was believed the industry would be able to support\n",
        "after the war was usually the determining factor. The economic position\n",
        "of the women who took men’s places was undoubtedly improved, though,\n",
        "even taking into account differences in experience and efficiency\n",
        "and the numerous changes in industrial method, the plane of economic\n",
        "equality between the two sexes was rarely attained. The government had\n",
        "the power to fix women’s wages on munitions work and in so doing it\n",
        "seemed at first to go on record in favor of the equal pay principle.\n",
        "But, in practice, the principle was not applied to unskilled and\n",
        "semi-skilled time work and the women failed to receive the same cost\n",
        "of living bonuses as the men, though unquestionably the wages of women\n",
        "substitutes in munitions work was much higher than the prewar level\n",
        "of women’s wages. Where other industries were covered by trade union\n",
        "agreements, women in most instances received “equal pay,” but in the\n",
        "remaining cases of substitution, for instance in agriculture, though\n",
        "considerable increases were gained, the men’s rates were by no means\n",
        "reached.\"\"\""
      ],
      "metadata": {
        "id": "T04XiLxe6Bs7"
      },
      "execution_count": null,
      "outputs": []
    },
    {
      "cell_type": "code",
      "source": [
        "snip0"
      ],
      "metadata": {
        "colab": {
          "base_uri": "https://localhost:8080/",
          "height": 88
        },
        "id": "tyQPU5hSFYok",
        "outputId": "b56ef217-d165-4d35-b42d-694a6c9ee36b"
      },
      "execution_count": null,
      "outputs": [
        {
          "output_type": "execute_result",
          "data": {
            "text/plain": [
              "'Under war conditions the wages of both women and children were raised,\\nprobably the largest gains being made by boy and girl munition makers.\\nThe smallest rise seems to have occurred in the unregulated, so-called\\n“women’s trades,” like laundry work. The trade boards made a number of\\nincreases in the industries within their jurisdiction, but the changes\\nwere seldom proportionate to the increase in the cost of living.\\nInstead, what it was believed the industry would be able to support\\nafter the war was usually the determining factor. The economic position\\nof the women who took men’s places was undoubtedly improved, though,\\neven taking into account differences in experience and efficiency\\nand the numerous changes in industrial method, the plane of economic\\nequality between the two sexes was rarely attained. The government had\\nthe power to fix women’s wages on munitions work and in so doing it\\nseemed at first to go on record in favor of the equal pay principle.\\nBut, in practice, the principle was not applied to unskilled and\\nsemi-skilled time work and the women failed to receive the same cost\\nof living bonuses as the men, though unquestionably the wages of women\\nsubstitutes in munitions work was much higher than the prewar level\\nof women’s wages. Where other industries were covered by trade union\\nagreements, women in most instances received “equal pay,” but in the\\nremaining cases of substitution, for instance in agriculture, though\\nconsiderable increases were gained, the men’s rates were by no means\\nreached.'"
            ],
            "application/vnd.google.colaboratory.intrinsic+json": {
              "type": "string"
            }
          },
          "metadata": {},
          "execution_count": 16
        }
      ]
    },
    {
      "cell_type": "code",
      "source": [
        "snip1=\"\"\"No one, since the war experience, doubts the skill and adaptability of\n",
        "women in performing a great number of tasks formerly considered “men’s\n",
        "work.” With the extensive standardization which British industry has\n",
        "adopted many more places can be successfully filled by women. Equal\n",
        "opportunity to secure positions, as well as equality of payment,\n",
        "appeals therefore to many thousands of women as merely a matter of\n",
        "justice. But such a new status for women, it is recognized, calls for\n",
        "more scientific methods in fixing wages. The old basis of sex, family\n",
        "obligation, tradition as to “men’s work” and “women’s work,” must be\n",
        "abandoned. Instead, some definite rate for a specified occupation, and\n",
        "where possible specified qualifications as to ability for such work,\n",
        "must be adopted. Moreover, it is increasingly recognized that the\n",
        "national welfare demands that money wages must be at least equal to the\n",
        "cost of living.\"\"\""
      ],
      "metadata": {
        "id": "jEUlFRcDaPQ9"
      },
      "execution_count": null,
      "outputs": []
    },
    {
      "cell_type": "code",
      "source": [
        "snip1"
      ],
      "metadata": {
        "colab": {
          "base_uri": "https://localhost:8080/",
          "height": 140
        },
        "id": "vKtOP4aSbLJu",
        "outputId": "526e55b4-7e68-44cd-d7b1-94bf39b7dece"
      },
      "execution_count": null,
      "outputs": [
        {
          "output_type": "execute_result",
          "data": {
            "text/plain": [
              "'No one, since the war experience, doubts the skill and adaptability of\\nwomen in performing a great number of tasks formerly considered “men’s\\nwork.” With the extensive standardization which British industry has\\nadopted many more places can be successfully filled by women. Equal\\nopportunity to secure positions, as well as equality of payment,\\nappeals therefore to many thousands of women as merely a matter of\\njustice. But such a new status for women, it is recognized, calls for\\nmore scientific methods in fixing wages. The old basis of sex, family\\nobligation, tradition as to “men’s work” and “women’s work,” must be\\nabandoned. Instead, some definite rate for a specified occupation, and\\nwhere possible specified qualifications as to ability for such work,\\nmust be adopted. Moreover, it is increasingly recognized that the\\nnational welfare demands that money wages must be at least equal to the\\ncost of living.'"
            ],
            "application/vnd.google.colaboratory.intrinsic+json": {
              "type": "string"
            }
          },
          "metadata": {},
          "execution_count": 28
        }
      ]
    },
    {
      "cell_type": "markdown",
      "source": [
        "The **re** library in Python is a module that provides support for regular expressions. Regular expressions (often shortened to \"regex\") are a powerful tool for processing strings. They allow for pattern matching and complex string manipulation tasks which would be difficult or impossible to achieve with standard string methods alone."
      ],
      "metadata": {
        "id": "fdH1SuXgUDla"
      }
    },
    {
      "cell_type": "code",
      "source": [
        "import re"
      ],
      "metadata": {
        "id": "SiPWJTqxFxdq"
      },
      "execution_count": null,
      "outputs": []
    },
    {
      "cell_type": "code",
      "source": [
        "snip = re.sub(r'\\n', ' ', snip0)"
      ],
      "metadata": {
        "id": "JB6IvA0DG_Pf"
      },
      "execution_count": null,
      "outputs": []
    },
    {
      "cell_type": "code",
      "source": [
        "snip"
      ],
      "metadata": {
        "colab": {
          "base_uri": "https://localhost:8080/",
          "height": 88
        },
        "id": "uk34JQBdHDPp",
        "outputId": "140517cb-db55-4e7a-e601-c19199e44944"
      },
      "execution_count": null,
      "outputs": [
        {
          "output_type": "execute_result",
          "data": {
            "text/plain": [
              "'Under war conditions the wages of both women and children were raised, probably the largest gains being made by boy and girl munition makers. The smallest rise seems to have occurred in the unregulated, so-called “women’s trades,” like laundry work. The trade boards made a number of increases in the industries within their jurisdiction, but the changes were seldom proportionate to the increase in the cost of living. Instead, what it was believed the industry would be able to support after the war was usually the determining factor. The economic position of the women who took men’s places was undoubtedly improved, though, even taking into account differences in experience and efficiency and the numerous changes in industrial method, the plane of economic equality between the two sexes was rarely attained. The government had the power to fix women’s wages on munitions work and in so doing it seemed at first to go on record in favor of the equal pay principle. But, in practice, the principle was not applied to unskilled and semi-skilled time work and the women failed to receive the same cost of living bonuses as the men, though unquestionably the wages of women substitutes in munitions work was much higher than the prewar level of women’s wages. Where other industries were covered by trade union agreements, women in most instances received “equal pay,” but in the remaining cases of substitution, for instance in agriculture, though considerable increases were gained, the men’s rates were by no means reached.'"
            ],
            "application/vnd.google.colaboratory.intrinsic+json": {
              "type": "string"
            }
          },
          "metadata": {},
          "execution_count": 23
        }
      ]
    },
    {
      "cell_type": "code",
      "source": [
        "import re"
      ],
      "metadata": {
        "id": "Z9us7hLz_8th"
      },
      "execution_count": null,
      "outputs": []
    },
    {
      "cell_type": "code",
      "source": [
        "snip = re.sub(r'\\n',' ', snip1)"
      ],
      "metadata": {
        "id": "sHnbwEAT__pZ"
      },
      "execution_count": null,
      "outputs": []
    },
    {
      "cell_type": "code",
      "source": [
        "snip"
      ],
      "metadata": {
        "id": "zzSp0QfyAOQ7",
        "outputId": "ea98e0d3-e2e5-420c-a107-597db00e43cc",
        "colab": {
          "base_uri": "https://localhost:8080/",
          "height": 140
        }
      },
      "execution_count": null,
      "outputs": [
        {
          "output_type": "execute_result",
          "data": {
            "text/plain": [
              "'No one, since the war experience, doubts the skill and adaptability of women in performing a great number of tasks formerly considered “men’s work.” With the extensive standardization which British industry has adopted many more places can be successfully filled by women. Equal opportunity to secure positions, as well as equality of payment, appeals therefore to many thousands of women as merely a matter of justice. But such a new status for women, it is recognized, calls for more scientific methods in fixing wages. The old basis of sex, family obligation, tradition as to “men’s work” and “women’s work,” must be abandoned. Instead, some definite rate for a specified occupation, and where possible specified qualifications as to ability for such work, must be adopted. Moreover, it is increasingly recognized that the national welfare demands that money wages must be at least equal to the cost of living.'"
            ],
            "application/vnd.google.colaboratory.intrinsic+json": {
              "type": "string"
            }
          },
          "metadata": {},
          "execution_count": 40
        }
      ]
    },
    {
      "cell_type": "markdown",
      "source": [
        "Next we will do a crude tokenization of snip by using the standard sentence ending symbols **.!?**"
      ],
      "metadata": {
        "id": "ClujsLhiY9Na"
      }
    },
    {
      "cell_type": "code",
      "source": [
        "sentences = re.split(r'(?<=[.!?]) +', snip)"
      ],
      "metadata": {
        "id": "Wkq2TI6kHEj6"
      },
      "execution_count": null,
      "outputs": []
    },
    {
      "cell_type": "code",
      "source": [
        "sentences"
      ],
      "metadata": {
        "colab": {
          "base_uri": "https://localhost:8080/"
        },
        "id": "hlw5Jb9CHyYi",
        "outputId": "3a6994b4-b300-48be-9f37-1be2f340ddb0"
      },
      "execution_count": null,
      "outputs": [
        {
          "output_type": "execute_result",
          "data": {
            "text/plain": [
              "['Under war conditions the wages of both women and children were raised, probably the largest gains being made by boy and girl munition makers.',\n",
              " 'The smallest rise seems to have occurred in the unregulated, so-called “women’s trades,” like laundry work.',\n",
              " 'The trade boards made a number of increases in the industries within their jurisdiction, but the changes were seldom proportionate to the increase in the cost of living.',\n",
              " 'Instead, what it was believed the industry would be able to support after the war was usually the determining factor.',\n",
              " 'The economic position of the women who took men’s places was undoubtedly improved, though, even taking into account differences in experience and efficiency and the numerous changes in industrial method, the plane of economic equality between the two sexes was rarely attained.',\n",
              " 'The government had the power to fix women’s wages on munitions work and in so doing it seemed at first to go on record in favor of the equal pay principle.',\n",
              " 'But, in practice, the principle was not applied to unskilled and semi-skilled time work and the women failed to receive the same cost of living bonuses as the men, though unquestionably the wages of women substitutes in munitions work was much higher than the prewar level of women’s wages.',\n",
              " 'Where other industries were covered by trade union agreements, women in most instances received “equal pay,” but in the remaining cases of substitution, for instance in agriculture, though considerable increases were gained, the men’s rates were by no means reached.']"
            ]
          },
          "metadata": {},
          "execution_count": 25
        }
      ]
    },
    {
      "cell_type": "code",
      "source": [
        "sentences = re.split(r'(?<=[.!?])+',snip)"
      ],
      "metadata": {
        "id": "DSJgW9wrAbkl"
      },
      "execution_count": null,
      "outputs": []
    },
    {
      "cell_type": "code",
      "source": [
        "sentences"
      ],
      "metadata": {
        "id": "h3aecczgA-MZ",
        "outputId": "58353099-0513-4f9f-c10d-13e2948e875c",
        "colab": {
          "base_uri": "https://localhost:8080/"
        }
      },
      "execution_count": null,
      "outputs": [
        {
          "output_type": "execute_result",
          "data": {
            "text/plain": [
              "['No one, since the war experience, doubts the skill and adaptability of women in performing a great number of tasks formerly considered “men’s work.',\n",
              " '” With the extensive standardization which British industry has adopted many more places can be successfully filled by women.',\n",
              " ' Equal opportunity to secure positions, as well as equality of payment, appeals therefore to many thousands of women as merely a matter of justice.',\n",
              " ' But such a new status for women, it is recognized, calls for more scientific methods in fixing wages.',\n",
              " ' The old basis of sex, family obligation, tradition as to “men’s work” and “women’s work,” must be abandoned.',\n",
              " ' Instead, some definite rate for a specified occupation, and where possible specified qualifications as to ability for such work, must be adopted.',\n",
              " ' Moreover, it is increasingly recognized that the national welfare demands that money wages must be at least equal to the cost of living.',\n",
              " '']"
            ]
          },
          "metadata": {},
          "execution_count": 42
        }
      ]
    },
    {
      "cell_type": "markdown",
      "source": [
        "Next we will use[ NLTK](https://www.nltk.org/) to tokenize the passage into sentences. The NLTK tokenizer is more sophisticated than our crude one above, but it's far from perfect."
      ],
      "metadata": {
        "id": "YUeYS1ePZc1q"
      }
    },
    {
      "cell_type": "code",
      "source": [
        "import nltk\n",
        "from nltk.tokenize import sent_tokenize\n",
        "\n",
        "# Ensure the Punkt tokenizer models are downloaded\n",
        "nltk.download('punkt')\n"
      ],
      "metadata": {
        "colab": {
          "base_uri": "https://localhost:8080/"
        },
        "id": "7XVuVDhqHzyi",
        "outputId": "29f5402e-c446-4192-89b0-8f3d6831cbec"
      },
      "execution_count": null,
      "outputs": [
        {
          "output_type": "stream",
          "name": "stderr",
          "text": [
            "[nltk_data] Downloading package punkt to /root/nltk_data...\n",
            "[nltk_data]   Unzipping tokenizers/punkt.zip.\n"
          ]
        },
        {
          "output_type": "execute_result",
          "data": {
            "text/plain": [
              "True"
            ]
          },
          "metadata": {},
          "execution_count": 26
        }
      ]
    },
    {
      "cell_type": "code",
      "source": [
        "##If Chinese is your native language then you might want to explore this package\n",
        "# import jieba\n",
        "# text = \"中文的單字邊界是否使用空格\"\n",
        "# seg_list = jieba.cut(text, cut_all=False)\n",
        "# print(\"Default Mode: \" + \"/ \".join(seg_list))  # Default is precise mode"
      ],
      "metadata": {
        "id": "tmHgD5D47myV"
      },
      "execution_count": null,
      "outputs": []
    },
    {
      "cell_type": "code",
      "source": [
        "\n",
        "nltk_sentences = sent_tokenize(snip)\n",
        "\n",
        "nltk_sentences"
      ],
      "metadata": {
        "colab": {
          "base_uri": "https://localhost:8080/"
        },
        "id": "lH08DzpHIt7t",
        "outputId": "84bc6430-98d0-4fd7-e569-b521d9ead0ea"
      },
      "execution_count": null,
      "outputs": [
        {
          "output_type": "execute_result",
          "data": {
            "text/plain": [
              "['Under war conditions the wages of both women and children were raised, probably the largest gains being made by boy and girl munition makers.',\n",
              " 'The smallest rise seems to have occurred in the unregulated, so-called “women’s trades,” like laundry work.',\n",
              " 'The trade boards made a number of increases in the industries within their jurisdiction, but the changes were seldom proportionate to the increase in the cost of living.',\n",
              " 'Instead, what it was believed the industry would be able to support after the war was usually the determining factor.',\n",
              " 'The economic position of the women who took men’s places was undoubtedly improved, though, even taking into account differences in experience and efficiency and the numerous changes in industrial method, the plane of economic equality between the two sexes was rarely attained.',\n",
              " 'The government had the power to fix women’s wages on munitions work and in so doing it seemed at first to go on record in favor of the equal pay principle.',\n",
              " 'But, in practice, the principle was not applied to unskilled and semi-skilled time work and the women failed to receive the same cost of living bonuses as the men, though unquestionably the wages of women substitutes in munitions work was much higher than the prewar level of women’s wages.',\n",
              " 'Where other industries were covered by trade union agreements, women in most instances received “equal pay,” but in the remaining cases of substitution, for instance in agriculture, though considerable increases were gained, the men’s rates were by no means reached.']"
            ]
          },
          "metadata": {},
          "execution_count": 27
        }
      ]
    },
    {
      "cell_type": "code",
      "source": [
        "import nltk\n",
        "from nltk.tokenize import sent_tokenize\n",
        "\n",
        "# Ensure the Punkt tokenizer models are downloaded\n",
        "nltk.download('punkt')"
      ],
      "metadata": {
        "id": "GcbevHybCJMh",
        "outputId": "b198edf3-304b-4c17-efc5-85e962e9ca9d",
        "colab": {
          "base_uri": "https://localhost:8080/"
        }
      },
      "execution_count": null,
      "outputs": [
        {
          "output_type": "stream",
          "name": "stderr",
          "text": [
            "[nltk_data] Downloading package punkt to /root/nltk_data...\n",
            "[nltk_data]   Unzipping tokenizers/punkt.zip.\n"
          ]
        },
        {
          "output_type": "execute_result",
          "data": {
            "text/plain": [
              "True"
            ]
          },
          "metadata": {},
          "execution_count": 43
        }
      ]
    },
    {
      "cell_type": "code",
      "source": [
        "##If Chinese is your native language then you might want to explore this package\n",
        "# import jieba\n",
        "# text = \"中文的單字邊界是否使用空格\"\n",
        "# seg_list = jieba.cut(text, cut_all=False)\n",
        "# print(\"Default Mode: \" + \"/ \".join(seg_list))  # Default is precise mode"
      ],
      "metadata": {
        "id": "n5k2aC0ZCLtX"
      },
      "execution_count": null,
      "outputs": []
    },
    {
      "cell_type": "code",
      "source": [
        "nltk_sentences = sent_tokenize(snip)\n",
        "\n",
        "nltk_sentences"
      ],
      "metadata": {
        "id": "bEBBXglGDiNX",
        "outputId": "fcbfaef1-5856-4a1f-e171-50e073e616cd",
        "colab": {
          "base_uri": "https://localhost:8080/"
        }
      },
      "execution_count": null,
      "outputs": [
        {
          "output_type": "execute_result",
          "data": {
            "text/plain": [
              "['No one, since the war experience, doubts the skill and adaptability of women in performing a great number of tasks formerly considered “men’s work.” With the extensive standardization which British industry has adopted many more places can be successfully filled by women.',\n",
              " 'Equal opportunity to secure positions, as well as equality of payment, appeals therefore to many thousands of women as merely a matter of justice.',\n",
              " 'But such a new status for women, it is recognized, calls for more scientific methods in fixing wages.',\n",
              " 'The old basis of sex, family obligation, tradition as to “men’s work” and “women’s work,” must be abandoned.',\n",
              " 'Instead, some definite rate for a specified occupation, and where possible specified qualifications as to ability for such work, must be adopted.',\n",
              " 'Moreover, it is increasingly recognized that the national welfare demands that money wages must be at least equal to the cost of living.']"
            ]
          },
          "metadata": {},
          "execution_count": 45
        }
      ]
    },
    {
      "cell_type": "markdown",
      "source": [
        "Next we will do some processing with [spacy](https://spacy.io/)."
      ],
      "metadata": {
        "id": "KTPFe0Czaq3m"
      }
    },
    {
      "cell_type": "code",
      "source": [
        "import spacy\n",
        "\n",
        "# Load the English NLP model\n",
        "nlp = spacy.load('en_core_web_sm')\n",
        "\n",
        "\n",
        "\n",
        "# Process the text\n",
        "doc = nlp(snip)\n",
        "\n",
        "# Extract sentences\n",
        "spacy_sentences = [sentence.text for sentence in doc.sents]\n",
        "\n",
        "spacy_sentences\n"
      ],
      "metadata": {
        "colab": {
          "base_uri": "https://localhost:8080/"
        },
        "id": "QOJvIpzlI6Je",
        "outputId": "c3f6e303-dfea-4979-e56e-439fd6ff075a"
      },
      "execution_count": null,
      "outputs": [
        {
          "output_type": "execute_result",
          "data": {
            "text/plain": [
              "['Under war conditions the wages of both women and children were raised, probably the largest gains being made by boy and girl munition makers.',\n",
              " 'The smallest rise seems to have occurred in the unregulated, so-called “women’s trades,” like laundry work.',\n",
              " 'The trade boards made a number of increases in the industries within their jurisdiction, but the changes were seldom proportionate to the increase in the cost of living.',\n",
              " 'Instead, what it was believed the industry would be able to support after the war was usually the determining factor.',\n",
              " 'The economic position of the women who took men’s places was undoubtedly improved, though, even taking into account differences in experience and efficiency and the numerous changes in industrial method, the plane of economic equality between the two sexes was rarely attained.',\n",
              " 'The government had the power to fix women’s wages on munitions work and in so doing it seemed at first to go on record in favor of the equal pay principle.',\n",
              " 'But, in practice, the principle was not applied to unskilled and semi-skilled time work and the women failed to receive the same cost of living bonuses as the men, though unquestionably the wages of women substitutes in munitions work was much higher than the prewar level of women’s wages.',\n",
              " 'Where other industries were covered by trade union agreements, women in most instances received “equal pay,” but in the remaining cases of substitution, for instance in agriculture, though considerable increases were gained, the men’s rates were by no means reached.']"
            ]
          },
          "metadata": {},
          "execution_count": 28
        }
      ]
    },
    {
      "cell_type": "code",
      "source": [
        "cleaned_sens=[sen.lower() for sen in sentences]"
      ],
      "metadata": {
        "id": "UHCU0AowJKiV"
      },
      "execution_count": null,
      "outputs": []
    },
    {
      "cell_type": "code",
      "source": [
        "cleaned_sens=[''.join([char for char in sen if char.isalpha() or char.isspace()]) for sen in cleaned_sens]\n",
        "\n"
      ],
      "metadata": {
        "id": "pVU1ZWEnn_y6"
      },
      "execution_count": null,
      "outputs": []
    },
    {
      "cell_type": "code",
      "source": [
        "cleaned_sens"
      ],
      "metadata": {
        "colab": {
          "base_uri": "https://localhost:8080/"
        },
        "id": "R7A-7HdmpG_m",
        "outputId": "0752101b-f541-4463-d605-34dbd2d15b11"
      },
      "execution_count": null,
      "outputs": [
        {
          "output_type": "execute_result",
          "data": {
            "text/plain": [
              "['under war conditions the wages of both women and children were raised probably the largest gains being made by boy and girl munition makers',\n",
              " 'the smallest rise seems to have occurred in the unregulated socalled womens trades like laundry work',\n",
              " 'the trade boards made a number of increases in the industries within their jurisdiction but the changes were seldom proportionate to the increase in the cost of living',\n",
              " 'instead what it was believed the industry would be able to support after the war was usually the determining factor',\n",
              " 'the economic position of the women who took mens places was undoubtedly improved though even taking into account differences in experience and efficiency and the numerous changes in industrial method the plane of economic equality between the two sexes was rarely attained',\n",
              " 'the government had the power to fix womens wages on munitions work and in so doing it seemed at first to go on record in favor of the equal pay principle',\n",
              " 'but in practice the principle was not applied to unskilled and semiskilled time work and the women failed to receive the same cost of living bonuses as the men though unquestionably the wages of women substitutes in munitions work was much higher than the prewar level of womens wages',\n",
              " 'where other industries were covered by trade union agreements women in most instances received equal pay but in the remaining cases of substitution for instance in agriculture though considerable increases were gained the mens rates were by no means reached']"
            ]
          },
          "metadata": {},
          "execution_count": 31
        }
      ]
    },
    {
      "cell_type": "code",
      "source": [
        "from collections import Counter\n",
        "\n",
        "passage = snip0\n",
        "\n",
        "# Convert the passage to lowercase to ensure case-insensitive counting\n",
        "passage_lower = passage.lower()\n",
        "\n",
        "# Split the passage into words\n",
        "words = passage_lower.split()\n",
        "\n",
        "# Use Counter to count occurrences of each word\n",
        "word_count = Counter(words)\n",
        "\n",
        "print(word_count)\n"
      ],
      "metadata": {
        "colab": {
          "base_uri": "https://localhost:8080/"
        },
        "id": "2UpArNB_pIgG",
        "outputId": "acd81e0a-7637-4f8e-9270-8e9a6e53c3cb"
      },
      "execution_count": null,
      "outputs": [
        {
          "output_type": "stream",
          "name": "stdout",
          "text": [
            "Counter({'the': 28, 'in': 12, 'of': 10, 'and': 7, 'to': 7, 'was': 6, 'women': 5, 'were': 5, 'wages': 3, 'by': 3, 'work': 3, 'war': 2, 'made': 2, 'trade': 2, 'increases': 2, 'industries': 2, 'but': 2, 'changes': 2, 'cost': 2, 'it': 2, 'economic': 2, 'men’s': 2, 'women’s': 2, 'on': 2, 'munitions': 2, 'though': 2, 'under': 1, 'conditions': 1, 'both': 1, 'children': 1, 'raised,': 1, 'probably': 1, 'largest': 1, 'gains': 1, 'being': 1, 'boy': 1, 'girl': 1, 'munition': 1, 'makers.': 1, 'smallest': 1, 'rise': 1, 'seems': 1, 'have': 1, 'occurred': 1, 'unregulated,': 1, 'so-called': 1, '“women’s': 1, 'trades,”': 1, 'like': 1, 'laundry': 1, 'work.': 1, 'boards': 1, 'a': 1, 'number': 1, 'within': 1, 'their': 1, 'jurisdiction,': 1, 'seldom': 1, 'proportionate': 1, 'increase': 1, 'living.': 1, 'instead,': 1, 'what': 1, 'believed': 1, 'industry': 1, 'would': 1, 'be': 1, 'able': 1, 'support': 1, 'after': 1, 'usually': 1, 'determining': 1, 'factor.': 1, 'position': 1, 'who': 1, 'took': 1, 'places': 1, 'undoubtedly': 1, 'improved,': 1, 'though,': 1, 'even': 1, 'taking': 1, 'into': 1, 'account': 1, 'differences': 1, 'experience': 1, 'efficiency': 1, 'numerous': 1, 'industrial': 1, 'method,': 1, 'plane': 1, 'equality': 1, 'between': 1, 'two': 1, 'sexes': 1, 'rarely': 1, 'attained.': 1, 'government': 1, 'had': 1, 'power': 1, 'fix': 1, 'so': 1, 'doing': 1, 'seemed': 1, 'at': 1, 'first': 1, 'go': 1, 'record': 1, 'favor': 1, 'equal': 1, 'pay': 1, 'principle.': 1, 'but,': 1, 'practice,': 1, 'principle': 1, 'not': 1, 'applied': 1, 'unskilled': 1, 'semi-skilled': 1, 'time': 1, 'failed': 1, 'receive': 1, 'same': 1, 'living': 1, 'bonuses': 1, 'as': 1, 'men,': 1, 'unquestionably': 1, 'substitutes': 1, 'much': 1, 'higher': 1, 'than': 1, 'prewar': 1, 'level': 1, 'wages.': 1, 'where': 1, 'other': 1, 'covered': 1, 'union': 1, 'agreements,': 1, 'most': 1, 'instances': 1, 'received': 1, '“equal': 1, 'pay,”': 1, 'remaining': 1, 'cases': 1, 'substitution,': 1, 'for': 1, 'instance': 1, 'agriculture,': 1, 'considerable': 1, 'gained,': 1, 'rates': 1, 'no': 1, 'means': 1, 'reached.': 1})\n"
          ]
        }
      ]
    },
    {
      "cell_type": "code",
      "source": [
        "import pandas as pd\n",
        "\n",
        "# Convert the dictionary to a DataFrame\n",
        "df = pd.DataFrame(list(word_count.items()), columns=['Word', 'Count'])\n",
        "\n",
        "df\n"
      ],
      "metadata": {
        "colab": {
          "base_uri": "https://localhost:8080/",
          "height": 685
        },
        "id": "8EseDLeaqEjK",
        "outputId": "33a980ed-66f0-41cf-ce5a-341472042c6d"
      },
      "execution_count": null,
      "outputs": [
        {
          "output_type": "execute_result",
          "data": {
            "text/plain": [
              "           Word  Count\n",
              "0         under      1\n",
              "1           war      2\n",
              "2    conditions      1\n",
              "3           the     28\n",
              "4         wages      3\n",
              "..          ...    ...\n",
              "152     gained,      1\n",
              "153       rates      1\n",
              "154          no      1\n",
              "155       means      1\n",
              "156    reached.      1\n",
              "\n",
              "[157 rows x 2 columns]"
            ],
            "text/html": [
              "\n",
              "  <div id=\"df-2d8dc2fe-b6fd-40c3-ad45-7e7164e63ce2\" class=\"colab-df-container\">\n",
              "    <div>\n",
              "<style scoped>\n",
              "    .dataframe tbody tr th:only-of-type {\n",
              "        vertical-align: middle;\n",
              "    }\n",
              "\n",
              "    .dataframe tbody tr th {\n",
              "        vertical-align: top;\n",
              "    }\n",
              "\n",
              "    .dataframe thead th {\n",
              "        text-align: right;\n",
              "    }\n",
              "</style>\n",
              "<table border=\"1\" class=\"dataframe\">\n",
              "  <thead>\n",
              "    <tr style=\"text-align: right;\">\n",
              "      <th></th>\n",
              "      <th>Word</th>\n",
              "      <th>Count</th>\n",
              "    </tr>\n",
              "  </thead>\n",
              "  <tbody>\n",
              "    <tr>\n",
              "      <th>0</th>\n",
              "      <td>under</td>\n",
              "      <td>1</td>\n",
              "    </tr>\n",
              "    <tr>\n",
              "      <th>1</th>\n",
              "      <td>war</td>\n",
              "      <td>2</td>\n",
              "    </tr>\n",
              "    <tr>\n",
              "      <th>2</th>\n",
              "      <td>conditions</td>\n",
              "      <td>1</td>\n",
              "    </tr>\n",
              "    <tr>\n",
              "      <th>3</th>\n",
              "      <td>the</td>\n",
              "      <td>28</td>\n",
              "    </tr>\n",
              "    <tr>\n",
              "      <th>4</th>\n",
              "      <td>wages</td>\n",
              "      <td>3</td>\n",
              "    </tr>\n",
              "    <tr>\n",
              "      <th>...</th>\n",
              "      <td>...</td>\n",
              "      <td>...</td>\n",
              "    </tr>\n",
              "    <tr>\n",
              "      <th>152</th>\n",
              "      <td>gained,</td>\n",
              "      <td>1</td>\n",
              "    </tr>\n",
              "    <tr>\n",
              "      <th>153</th>\n",
              "      <td>rates</td>\n",
              "      <td>1</td>\n",
              "    </tr>\n",
              "    <tr>\n",
              "      <th>154</th>\n",
              "      <td>no</td>\n",
              "      <td>1</td>\n",
              "    </tr>\n",
              "    <tr>\n",
              "      <th>155</th>\n",
              "      <td>means</td>\n",
              "      <td>1</td>\n",
              "    </tr>\n",
              "    <tr>\n",
              "      <th>156</th>\n",
              "      <td>reached.</td>\n",
              "      <td>1</td>\n",
              "    </tr>\n",
              "  </tbody>\n",
              "</table>\n",
              "<p>157 rows × 2 columns</p>\n",
              "</div>\n",
              "    <div class=\"colab-df-buttons\">\n",
              "\n",
              "  <div class=\"colab-df-container\">\n",
              "    <button class=\"colab-df-convert\" onclick=\"convertToInteractive('df-2d8dc2fe-b6fd-40c3-ad45-7e7164e63ce2')\"\n",
              "            title=\"Convert this dataframe to an interactive table.\"\n",
              "            style=\"display:none;\">\n",
              "\n",
              "  <svg xmlns=\"http://www.w3.org/2000/svg\" height=\"24px\" viewBox=\"0 -960 960 960\">\n",
              "    <path d=\"M120-120v-720h720v720H120Zm60-500h600v-160H180v160Zm220 220h160v-160H400v160Zm0 220h160v-160H400v160ZM180-400h160v-160H180v160Zm440 0h160v-160H620v160ZM180-180h160v-160H180v160Zm440 0h160v-160H620v160Z\"/>\n",
              "  </svg>\n",
              "    </button>\n",
              "\n",
              "  <style>\n",
              "    .colab-df-container {\n",
              "      display:flex;\n",
              "      gap: 12px;\n",
              "    }\n",
              "\n",
              "    .colab-df-convert {\n",
              "      background-color: #E8F0FE;\n",
              "      border: none;\n",
              "      border-radius: 50%;\n",
              "      cursor: pointer;\n",
              "      display: none;\n",
              "      fill: #1967D2;\n",
              "      height: 32px;\n",
              "      padding: 0 0 0 0;\n",
              "      width: 32px;\n",
              "    }\n",
              "\n",
              "    .colab-df-convert:hover {\n",
              "      background-color: #E2EBFA;\n",
              "      box-shadow: 0px 1px 2px rgba(60, 64, 67, 0.3), 0px 1px 3px 1px rgba(60, 64, 67, 0.15);\n",
              "      fill: #174EA6;\n",
              "    }\n",
              "\n",
              "    .colab-df-buttons div {\n",
              "      margin-bottom: 4px;\n",
              "    }\n",
              "\n",
              "    [theme=dark] .colab-df-convert {\n",
              "      background-color: #3B4455;\n",
              "      fill: #D2E3FC;\n",
              "    }\n",
              "\n",
              "    [theme=dark] .colab-df-convert:hover {\n",
              "      background-color: #434B5C;\n",
              "      box-shadow: 0px 1px 3px 1px rgba(0, 0, 0, 0.15);\n",
              "      filter: drop-shadow(0px 1px 2px rgba(0, 0, 0, 0.3));\n",
              "      fill: #FFFFFF;\n",
              "    }\n",
              "  </style>\n",
              "\n",
              "    <script>\n",
              "      const buttonEl =\n",
              "        document.querySelector('#df-2d8dc2fe-b6fd-40c3-ad45-7e7164e63ce2 button.colab-df-convert');\n",
              "      buttonEl.style.display =\n",
              "        google.colab.kernel.accessAllowed ? 'block' : 'none';\n",
              "\n",
              "      async function convertToInteractive(key) {\n",
              "        const element = document.querySelector('#df-2d8dc2fe-b6fd-40c3-ad45-7e7164e63ce2');\n",
              "        const dataTable =\n",
              "          await google.colab.kernel.invokeFunction('convertToInteractive',\n",
              "                                                    [key], {});\n",
              "        if (!dataTable) return;\n",
              "\n",
              "        const docLinkHtml = 'Like what you see? Visit the ' +\n",
              "          '<a target=\"_blank\" href=https://colab.research.google.com/notebooks/data_table.ipynb>data table notebook</a>'\n",
              "          + ' to learn more about interactive tables.';\n",
              "        element.innerHTML = '';\n",
              "        dataTable['output_type'] = 'display_data';\n",
              "        await google.colab.output.renderOutput(dataTable, element);\n",
              "        const docLink = document.createElement('div');\n",
              "        docLink.innerHTML = docLinkHtml;\n",
              "        element.appendChild(docLink);\n",
              "      }\n",
              "    </script>\n",
              "  </div>\n",
              "\n",
              "\n",
              "<div id=\"df-5e7cb125-8cca-488c-91ed-059c78b8ec9a\">\n",
              "  <button class=\"colab-df-quickchart\" onclick=\"quickchart('df-5e7cb125-8cca-488c-91ed-059c78b8ec9a')\"\n",
              "            title=\"Suggest charts\"\n",
              "            style=\"display:none;\">\n",
              "\n",
              "<svg xmlns=\"http://www.w3.org/2000/svg\" height=\"24px\"viewBox=\"0 0 24 24\"\n",
              "     width=\"24px\">\n",
              "    <g>\n",
              "        <path d=\"M19 3H5c-1.1 0-2 .9-2 2v14c0 1.1.9 2 2 2h14c1.1 0 2-.9 2-2V5c0-1.1-.9-2-2-2zM9 17H7v-7h2v7zm4 0h-2V7h2v10zm4 0h-2v-4h2v4z\"/>\n",
              "    </g>\n",
              "</svg>\n",
              "  </button>\n",
              "\n",
              "<style>\n",
              "  .colab-df-quickchart {\n",
              "      --bg-color: #E8F0FE;\n",
              "      --fill-color: #1967D2;\n",
              "      --hover-bg-color: #E2EBFA;\n",
              "      --hover-fill-color: #174EA6;\n",
              "      --disabled-fill-color: #AAA;\n",
              "      --disabled-bg-color: #DDD;\n",
              "  }\n",
              "\n",
              "  [theme=dark] .colab-df-quickchart {\n",
              "      --bg-color: #3B4455;\n",
              "      --fill-color: #D2E3FC;\n",
              "      --hover-bg-color: #434B5C;\n",
              "      --hover-fill-color: #FFFFFF;\n",
              "      --disabled-bg-color: #3B4455;\n",
              "      --disabled-fill-color: #666;\n",
              "  }\n",
              "\n",
              "  .colab-df-quickchart {\n",
              "    background-color: var(--bg-color);\n",
              "    border: none;\n",
              "    border-radius: 50%;\n",
              "    cursor: pointer;\n",
              "    display: none;\n",
              "    fill: var(--fill-color);\n",
              "    height: 32px;\n",
              "    padding: 0;\n",
              "    width: 32px;\n",
              "  }\n",
              "\n",
              "  .colab-df-quickchart:hover {\n",
              "    background-color: var(--hover-bg-color);\n",
              "    box-shadow: 0 1px 2px rgba(60, 64, 67, 0.3), 0 1px 3px 1px rgba(60, 64, 67, 0.15);\n",
              "    fill: var(--button-hover-fill-color);\n",
              "  }\n",
              "\n",
              "  .colab-df-quickchart-complete:disabled,\n",
              "  .colab-df-quickchart-complete:disabled:hover {\n",
              "    background-color: var(--disabled-bg-color);\n",
              "    fill: var(--disabled-fill-color);\n",
              "    box-shadow: none;\n",
              "  }\n",
              "\n",
              "  .colab-df-spinner {\n",
              "    border: 2px solid var(--fill-color);\n",
              "    border-color: transparent;\n",
              "    border-bottom-color: var(--fill-color);\n",
              "    animation:\n",
              "      spin 1s steps(1) infinite;\n",
              "  }\n",
              "\n",
              "  @keyframes spin {\n",
              "    0% {\n",
              "      border-color: transparent;\n",
              "      border-bottom-color: var(--fill-color);\n",
              "      border-left-color: var(--fill-color);\n",
              "    }\n",
              "    20% {\n",
              "      border-color: transparent;\n",
              "      border-left-color: var(--fill-color);\n",
              "      border-top-color: var(--fill-color);\n",
              "    }\n",
              "    30% {\n",
              "      border-color: transparent;\n",
              "      border-left-color: var(--fill-color);\n",
              "      border-top-color: var(--fill-color);\n",
              "      border-right-color: var(--fill-color);\n",
              "    }\n",
              "    40% {\n",
              "      border-color: transparent;\n",
              "      border-right-color: var(--fill-color);\n",
              "      border-top-color: var(--fill-color);\n",
              "    }\n",
              "    60% {\n",
              "      border-color: transparent;\n",
              "      border-right-color: var(--fill-color);\n",
              "    }\n",
              "    80% {\n",
              "      border-color: transparent;\n",
              "      border-right-color: var(--fill-color);\n",
              "      border-bottom-color: var(--fill-color);\n",
              "    }\n",
              "    90% {\n",
              "      border-color: transparent;\n",
              "      border-bottom-color: var(--fill-color);\n",
              "    }\n",
              "  }\n",
              "</style>\n",
              "\n",
              "  <script>\n",
              "    async function quickchart(key) {\n",
              "      const quickchartButtonEl =\n",
              "        document.querySelector('#' + key + ' button');\n",
              "      quickchartButtonEl.disabled = true;  // To prevent multiple clicks.\n",
              "      quickchartButtonEl.classList.add('colab-df-spinner');\n",
              "      try {\n",
              "        const charts = await google.colab.kernel.invokeFunction(\n",
              "            'suggestCharts', [key], {});\n",
              "      } catch (error) {\n",
              "        console.error('Error during call to suggestCharts:', error);\n",
              "      }\n",
              "      quickchartButtonEl.classList.remove('colab-df-spinner');\n",
              "      quickchartButtonEl.classList.add('colab-df-quickchart-complete');\n",
              "    }\n",
              "    (() => {\n",
              "      let quickchartButtonEl =\n",
              "        document.querySelector('#df-5e7cb125-8cca-488c-91ed-059c78b8ec9a button');\n",
              "      quickchartButtonEl.style.display =\n",
              "        google.colab.kernel.accessAllowed ? 'block' : 'none';\n",
              "    })();\n",
              "  </script>\n",
              "</div>\n",
              "\n",
              "  <div id=\"id_29d526e9-4bbd-4d86-b7d1-5d478054ee02\">\n",
              "    <style>\n",
              "      .colab-df-generate {\n",
              "        background-color: #E8F0FE;\n",
              "        border: none;\n",
              "        border-radius: 50%;\n",
              "        cursor: pointer;\n",
              "        display: none;\n",
              "        fill: #1967D2;\n",
              "        height: 32px;\n",
              "        padding: 0 0 0 0;\n",
              "        width: 32px;\n",
              "      }\n",
              "\n",
              "      .colab-df-generate:hover {\n",
              "        background-color: #E2EBFA;\n",
              "        box-shadow: 0px 1px 2px rgba(60, 64, 67, 0.3), 0px 1px 3px 1px rgba(60, 64, 67, 0.15);\n",
              "        fill: #174EA6;\n",
              "      }\n",
              "\n",
              "      [theme=dark] .colab-df-generate {\n",
              "        background-color: #3B4455;\n",
              "        fill: #D2E3FC;\n",
              "      }\n",
              "\n",
              "      [theme=dark] .colab-df-generate:hover {\n",
              "        background-color: #434B5C;\n",
              "        box-shadow: 0px 1px 3px 1px rgba(0, 0, 0, 0.15);\n",
              "        filter: drop-shadow(0px 1px 2px rgba(0, 0, 0, 0.3));\n",
              "        fill: #FFFFFF;\n",
              "      }\n",
              "    </style>\n",
              "    <button class=\"colab-df-generate\" onclick=\"generateWithVariable('df')\"\n",
              "            title=\"Generate code using this dataframe.\"\n",
              "            style=\"display:none;\">\n",
              "\n",
              "  <svg xmlns=\"http://www.w3.org/2000/svg\" height=\"24px\"viewBox=\"0 0 24 24\"\n",
              "       width=\"24px\">\n",
              "    <path d=\"M7,19H8.4L18.45,9,17,7.55,7,17.6ZM5,21V16.75L18.45,3.32a2,2,0,0,1,2.83,0l1.4,1.43a1.91,1.91,0,0,1,.58,1.4,1.91,1.91,0,0,1-.58,1.4L9.25,21ZM18.45,9,17,7.55Zm-12,3A5.31,5.31,0,0,0,4.9,8.1,5.31,5.31,0,0,0,1,6.5,5.31,5.31,0,0,0,4.9,4.9,5.31,5.31,0,0,0,6.5,1,5.31,5.31,0,0,0,8.1,4.9,5.31,5.31,0,0,0,12,6.5,5.46,5.46,0,0,0,6.5,12Z\"/>\n",
              "  </svg>\n",
              "    </button>\n",
              "    <script>\n",
              "      (() => {\n",
              "      const buttonEl =\n",
              "        document.querySelector('#id_29d526e9-4bbd-4d86-b7d1-5d478054ee02 button.colab-df-generate');\n",
              "      buttonEl.style.display =\n",
              "        google.colab.kernel.accessAllowed ? 'block' : 'none';\n",
              "\n",
              "      buttonEl.onclick = () => {\n",
              "        google.colab.notebook.generateWithVariable('df');\n",
              "      }\n",
              "      })();\n",
              "    </script>\n",
              "  </div>\n",
              "\n",
              "    </div>\n",
              "  </div>\n"
            ]
          },
          "metadata": {},
          "execution_count": 34
        }
      ]
    },
    {
      "cell_type": "markdown",
      "source": [],
      "metadata": {
        "id": "jEuOgN_J9DXH"
      }
    },
    {
      "cell_type": "code",
      "source": [
        "import spacy\n",
        "\n",
        "# Load the English NLP model\n",
        "nlp = spacy.load('en_core_web_sm')\n",
        "\n",
        "\n",
        "\n",
        "# Process the text\n",
        "doc = nlp(snip)\n",
        "\n",
        "# Extract sentences\n",
        "spacy_sentences = [sentence.text for sentence in doc.sents]\n",
        "\n",
        "spacy_sentences"
      ],
      "metadata": {
        "id": "OuKUXZRpqaZR",
        "colab": {
          "base_uri": "https://localhost:8080/"
        },
        "outputId": "064bebcd-28e1-45dc-fdda-f1ae3c1bd24a"
      },
      "execution_count": null,
      "outputs": [
        {
          "output_type": "execute_result",
          "data": {
            "text/plain": [
              "['No one, since the war experience, doubts the skill and adaptability of women in performing a great number of tasks formerly considered “men’s work.”',\n",
              " 'With the extensive standardization which British industry has adopted many more places can be successfully filled by women.',\n",
              " 'Equal opportunity to secure positions, as well as equality of payment, appeals therefore to many thousands of women as merely a matter of justice.',\n",
              " 'But such a new status for women, it is recognized, calls for more scientific methods in fixing wages.',\n",
              " 'The old basis of sex, family obligation, tradition as to “men’s work” and “women’s work,” must be abandoned.',\n",
              " 'Instead, some definite rate for a specified occupation, and where possible specified qualifications as to ability for such work, must be adopted.',\n",
              " 'Moreover, it is increasingly recognized that the national welfare demands that money wages must be at least equal to the cost of living.']"
            ]
          },
          "metadata": {},
          "execution_count": 46
        }
      ]
    },
    {
      "cell_type": "code",
      "source": [
        "cleaned_sens=[sen.lower() for sen in sentences]"
      ],
      "metadata": {
        "id": "JCPzNcjvEa8g"
      },
      "execution_count": null,
      "outputs": []
    },
    {
      "cell_type": "code",
      "source": [
        "cleaned_sens=[''.join([char for char in sen if char.isalpha() or char.isspace()]) for sen in cleaned_sens]"
      ],
      "metadata": {
        "id": "4LSX_anMEhBb"
      },
      "execution_count": null,
      "outputs": []
    },
    {
      "cell_type": "code",
      "source": [
        "cleaned_sens"
      ],
      "metadata": {
        "id": "HxT3DxwfEjog",
        "outputId": "c8be5e1e-a82e-4454-a541-21b3f265f3d7",
        "colab": {
          "base_uri": "https://localhost:8080/"
        }
      },
      "execution_count": null,
      "outputs": [
        {
          "output_type": "execute_result",
          "data": {
            "text/plain": [
              "['no one since the war experience doubts the skill and adaptability of women in performing a great number of tasks formerly considered mens work',\n",
              " ' with the extensive standardization which british industry has adopted many more places can be successfully filled by women',\n",
              " ' equal opportunity to secure positions as well as equality of payment appeals therefore to many thousands of women as merely a matter of justice',\n",
              " ' but such a new status for women it is recognized calls for more scientific methods in fixing wages',\n",
              " ' the old basis of sex family obligation tradition as to mens work and womens work must be abandoned',\n",
              " ' instead some definite rate for a specified occupation and where possible specified qualifications as to ability for such work must be adopted',\n",
              " ' moreover it is increasingly recognized that the national welfare demands that money wages must be at least equal to the cost of living',\n",
              " '']"
            ]
          },
          "metadata": {},
          "execution_count": 49
        }
      ]
    },
    {
      "cell_type": "code",
      "source": [
        "from collections import Counter\n",
        "\n",
        "passage = snip1\n",
        "\n",
        "# Convert the passage to lowercase to ensure case-insensitive counting\n",
        "passage_lower = passage.lower()\n",
        "\n",
        "# Split the passage into words\n",
        "words = passage_lower.split()\n",
        "\n",
        "# Use Counter to count occurrences of each word\n",
        "word_count = Counter(words)\n",
        "\n",
        "print(word_count)"
      ],
      "metadata": {
        "id": "R5BwG0PbEpUl",
        "outputId": "91f620d0-699d-4ba1-ac0a-8293aa592b48",
        "colab": {
          "base_uri": "https://localhost:8080/"
        }
      },
      "execution_count": null,
      "outputs": [
        {
          "output_type": "stream",
          "name": "stdout",
          "text": [
            "Counter({'of': 7, 'the': 6, 'to': 5, 'as': 5, 'a': 4, 'be': 4, 'for': 4, 'and': 3, 'must': 3, 'women': 2, 'in': 2, '“men’s': 2, 'many': 2, 'more': 2, 'equal': 2, 'such': 2, 'it': 2, 'is': 2, 'specified': 2, 'that': 2, 'no': 1, 'one,': 1, 'since': 1, 'war': 1, 'experience,': 1, 'doubts': 1, 'skill': 1, 'adaptability': 1, 'performing': 1, 'great': 1, 'number': 1, 'tasks': 1, 'formerly': 1, 'considered': 1, 'work.”': 1, 'with': 1, 'extensive': 1, 'standardization': 1, 'which': 1, 'british': 1, 'industry': 1, 'has': 1, 'adopted': 1, 'places': 1, 'can': 1, 'successfully': 1, 'filled': 1, 'by': 1, 'women.': 1, 'opportunity': 1, 'secure': 1, 'positions,': 1, 'well': 1, 'equality': 1, 'payment,': 1, 'appeals': 1, 'therefore': 1, 'thousands': 1, 'merely': 1, 'matter': 1, 'justice.': 1, 'but': 1, 'new': 1, 'status': 1, 'women,': 1, 'recognized,': 1, 'calls': 1, 'scientific': 1, 'methods': 1, 'fixing': 1, 'wages.': 1, 'old': 1, 'basis': 1, 'sex,': 1, 'family': 1, 'obligation,': 1, 'tradition': 1, 'work”': 1, '“women’s': 1, 'work,”': 1, 'abandoned.': 1, 'instead,': 1, 'some': 1, 'definite': 1, 'rate': 1, 'occupation,': 1, 'where': 1, 'possible': 1, 'qualifications': 1, 'ability': 1, 'work,': 1, 'adopted.': 1, 'moreover,': 1, 'increasingly': 1, 'recognized': 1, 'national': 1, 'welfare': 1, 'demands': 1, 'money': 1, 'wages': 1, 'at': 1, 'least': 1, 'cost': 1, 'living.': 1})\n"
          ]
        }
      ]
    },
    {
      "cell_type": "code",
      "source": [
        "import pandas as pd\n",
        "\n",
        "# Convert the dictionary to a DataFrame\n",
        "df = pd.DataFrame(list(word_count.items()), columns=['Word', 'Count'])\n",
        "\n",
        "df"
      ],
      "metadata": {
        "id": "MWjKlX43Ew5e",
        "outputId": "8777dc7b-3f99-4123-bc20-8620eb6c6197",
        "colab": {
          "base_uri": "https://localhost:8080/",
          "height": 424
        }
      },
      "execution_count": null,
      "outputs": [
        {
          "output_type": "execute_result",
          "data": {
            "text/plain": [
              "        Word  Count\n",
              "0         no      1\n",
              "1       one,      1\n",
              "2      since      1\n",
              "3        the      6\n",
              "4        war      1\n",
              "..       ...    ...\n",
              "99     wages      1\n",
              "100       at      1\n",
              "101    least      1\n",
              "102     cost      1\n",
              "103  living.      1\n",
              "\n",
              "[104 rows x 2 columns]"
            ],
            "text/html": [
              "\n",
              "  <div id=\"df-bbfd644f-8b24-43e6-b484-aa911f347726\" class=\"colab-df-container\">\n",
              "    <div>\n",
              "<style scoped>\n",
              "    .dataframe tbody tr th:only-of-type {\n",
              "        vertical-align: middle;\n",
              "    }\n",
              "\n",
              "    .dataframe tbody tr th {\n",
              "        vertical-align: top;\n",
              "    }\n",
              "\n",
              "    .dataframe thead th {\n",
              "        text-align: right;\n",
              "    }\n",
              "</style>\n",
              "<table border=\"1\" class=\"dataframe\">\n",
              "  <thead>\n",
              "    <tr style=\"text-align: right;\">\n",
              "      <th></th>\n",
              "      <th>Word</th>\n",
              "      <th>Count</th>\n",
              "    </tr>\n",
              "  </thead>\n",
              "  <tbody>\n",
              "    <tr>\n",
              "      <th>0</th>\n",
              "      <td>no</td>\n",
              "      <td>1</td>\n",
              "    </tr>\n",
              "    <tr>\n",
              "      <th>1</th>\n",
              "      <td>one,</td>\n",
              "      <td>1</td>\n",
              "    </tr>\n",
              "    <tr>\n",
              "      <th>2</th>\n",
              "      <td>since</td>\n",
              "      <td>1</td>\n",
              "    </tr>\n",
              "    <tr>\n",
              "      <th>3</th>\n",
              "      <td>the</td>\n",
              "      <td>6</td>\n",
              "    </tr>\n",
              "    <tr>\n",
              "      <th>4</th>\n",
              "      <td>war</td>\n",
              "      <td>1</td>\n",
              "    </tr>\n",
              "    <tr>\n",
              "      <th>...</th>\n",
              "      <td>...</td>\n",
              "      <td>...</td>\n",
              "    </tr>\n",
              "    <tr>\n",
              "      <th>99</th>\n",
              "      <td>wages</td>\n",
              "      <td>1</td>\n",
              "    </tr>\n",
              "    <tr>\n",
              "      <th>100</th>\n",
              "      <td>at</td>\n",
              "      <td>1</td>\n",
              "    </tr>\n",
              "    <tr>\n",
              "      <th>101</th>\n",
              "      <td>least</td>\n",
              "      <td>1</td>\n",
              "    </tr>\n",
              "    <tr>\n",
              "      <th>102</th>\n",
              "      <td>cost</td>\n",
              "      <td>1</td>\n",
              "    </tr>\n",
              "    <tr>\n",
              "      <th>103</th>\n",
              "      <td>living.</td>\n",
              "      <td>1</td>\n",
              "    </tr>\n",
              "  </tbody>\n",
              "</table>\n",
              "<p>104 rows × 2 columns</p>\n",
              "</div>\n",
              "    <div class=\"colab-df-buttons\">\n",
              "\n",
              "  <div class=\"colab-df-container\">\n",
              "    <button class=\"colab-df-convert\" onclick=\"convertToInteractive('df-bbfd644f-8b24-43e6-b484-aa911f347726')\"\n",
              "            title=\"Convert this dataframe to an interactive table.\"\n",
              "            style=\"display:none;\">\n",
              "\n",
              "  <svg xmlns=\"http://www.w3.org/2000/svg\" height=\"24px\" viewBox=\"0 -960 960 960\">\n",
              "    <path d=\"M120-120v-720h720v720H120Zm60-500h600v-160H180v160Zm220 220h160v-160H400v160Zm0 220h160v-160H400v160ZM180-400h160v-160H180v160Zm440 0h160v-160H620v160ZM180-180h160v-160H180v160Zm440 0h160v-160H620v160Z\"/>\n",
              "  </svg>\n",
              "    </button>\n",
              "\n",
              "  <style>\n",
              "    .colab-df-container {\n",
              "      display:flex;\n",
              "      gap: 12px;\n",
              "    }\n",
              "\n",
              "    .colab-df-convert {\n",
              "      background-color: #E8F0FE;\n",
              "      border: none;\n",
              "      border-radius: 50%;\n",
              "      cursor: pointer;\n",
              "      display: none;\n",
              "      fill: #1967D2;\n",
              "      height: 32px;\n",
              "      padding: 0 0 0 0;\n",
              "      width: 32px;\n",
              "    }\n",
              "\n",
              "    .colab-df-convert:hover {\n",
              "      background-color: #E2EBFA;\n",
              "      box-shadow: 0px 1px 2px rgba(60, 64, 67, 0.3), 0px 1px 3px 1px rgba(60, 64, 67, 0.15);\n",
              "      fill: #174EA6;\n",
              "    }\n",
              "\n",
              "    .colab-df-buttons div {\n",
              "      margin-bottom: 4px;\n",
              "    }\n",
              "\n",
              "    [theme=dark] .colab-df-convert {\n",
              "      background-color: #3B4455;\n",
              "      fill: #D2E3FC;\n",
              "    }\n",
              "\n",
              "    [theme=dark] .colab-df-convert:hover {\n",
              "      background-color: #434B5C;\n",
              "      box-shadow: 0px 1px 3px 1px rgba(0, 0, 0, 0.15);\n",
              "      filter: drop-shadow(0px 1px 2px rgba(0, 0, 0, 0.3));\n",
              "      fill: #FFFFFF;\n",
              "    }\n",
              "  </style>\n",
              "\n",
              "    <script>\n",
              "      const buttonEl =\n",
              "        document.querySelector('#df-bbfd644f-8b24-43e6-b484-aa911f347726 button.colab-df-convert');\n",
              "      buttonEl.style.display =\n",
              "        google.colab.kernel.accessAllowed ? 'block' : 'none';\n",
              "\n",
              "      async function convertToInteractive(key) {\n",
              "        const element = document.querySelector('#df-bbfd644f-8b24-43e6-b484-aa911f347726');\n",
              "        const dataTable =\n",
              "          await google.colab.kernel.invokeFunction('convertToInteractive',\n",
              "                                                    [key], {});\n",
              "        if (!dataTable) return;\n",
              "\n",
              "        const docLinkHtml = 'Like what you see? Visit the ' +\n",
              "          '<a target=\"_blank\" href=https://colab.research.google.com/notebooks/data_table.ipynb>data table notebook</a>'\n",
              "          + ' to learn more about interactive tables.';\n",
              "        element.innerHTML = '';\n",
              "        dataTable['output_type'] = 'display_data';\n",
              "        await google.colab.output.renderOutput(dataTable, element);\n",
              "        const docLink = document.createElement('div');\n",
              "        docLink.innerHTML = docLinkHtml;\n",
              "        element.appendChild(docLink);\n",
              "      }\n",
              "    </script>\n",
              "  </div>\n",
              "\n",
              "\n",
              "<div id=\"df-85cd9bae-a5f3-4c19-8c6e-b206ea45cec7\">\n",
              "  <button class=\"colab-df-quickchart\" onclick=\"quickchart('df-85cd9bae-a5f3-4c19-8c6e-b206ea45cec7')\"\n",
              "            title=\"Suggest charts\"\n",
              "            style=\"display:none;\">\n",
              "\n",
              "<svg xmlns=\"http://www.w3.org/2000/svg\" height=\"24px\"viewBox=\"0 0 24 24\"\n",
              "     width=\"24px\">\n",
              "    <g>\n",
              "        <path d=\"M19 3H5c-1.1 0-2 .9-2 2v14c0 1.1.9 2 2 2h14c1.1 0 2-.9 2-2V5c0-1.1-.9-2-2-2zM9 17H7v-7h2v7zm4 0h-2V7h2v10zm4 0h-2v-4h2v4z\"/>\n",
              "    </g>\n",
              "</svg>\n",
              "  </button>\n",
              "\n",
              "<style>\n",
              "  .colab-df-quickchart {\n",
              "      --bg-color: #E8F0FE;\n",
              "      --fill-color: #1967D2;\n",
              "      --hover-bg-color: #E2EBFA;\n",
              "      --hover-fill-color: #174EA6;\n",
              "      --disabled-fill-color: #AAA;\n",
              "      --disabled-bg-color: #DDD;\n",
              "  }\n",
              "\n",
              "  [theme=dark] .colab-df-quickchart {\n",
              "      --bg-color: #3B4455;\n",
              "      --fill-color: #D2E3FC;\n",
              "      --hover-bg-color: #434B5C;\n",
              "      --hover-fill-color: #FFFFFF;\n",
              "      --disabled-bg-color: #3B4455;\n",
              "      --disabled-fill-color: #666;\n",
              "  }\n",
              "\n",
              "  .colab-df-quickchart {\n",
              "    background-color: var(--bg-color);\n",
              "    border: none;\n",
              "    border-radius: 50%;\n",
              "    cursor: pointer;\n",
              "    display: none;\n",
              "    fill: var(--fill-color);\n",
              "    height: 32px;\n",
              "    padding: 0;\n",
              "    width: 32px;\n",
              "  }\n",
              "\n",
              "  .colab-df-quickchart:hover {\n",
              "    background-color: var(--hover-bg-color);\n",
              "    box-shadow: 0 1px 2px rgba(60, 64, 67, 0.3), 0 1px 3px 1px rgba(60, 64, 67, 0.15);\n",
              "    fill: var(--button-hover-fill-color);\n",
              "  }\n",
              "\n",
              "  .colab-df-quickchart-complete:disabled,\n",
              "  .colab-df-quickchart-complete:disabled:hover {\n",
              "    background-color: var(--disabled-bg-color);\n",
              "    fill: var(--disabled-fill-color);\n",
              "    box-shadow: none;\n",
              "  }\n",
              "\n",
              "  .colab-df-spinner {\n",
              "    border: 2px solid var(--fill-color);\n",
              "    border-color: transparent;\n",
              "    border-bottom-color: var(--fill-color);\n",
              "    animation:\n",
              "      spin 1s steps(1) infinite;\n",
              "  }\n",
              "\n",
              "  @keyframes spin {\n",
              "    0% {\n",
              "      border-color: transparent;\n",
              "      border-bottom-color: var(--fill-color);\n",
              "      border-left-color: var(--fill-color);\n",
              "    }\n",
              "    20% {\n",
              "      border-color: transparent;\n",
              "      border-left-color: var(--fill-color);\n",
              "      border-top-color: var(--fill-color);\n",
              "    }\n",
              "    30% {\n",
              "      border-color: transparent;\n",
              "      border-left-color: var(--fill-color);\n",
              "      border-top-color: var(--fill-color);\n",
              "      border-right-color: var(--fill-color);\n",
              "    }\n",
              "    40% {\n",
              "      border-color: transparent;\n",
              "      border-right-color: var(--fill-color);\n",
              "      border-top-color: var(--fill-color);\n",
              "    }\n",
              "    60% {\n",
              "      border-color: transparent;\n",
              "      border-right-color: var(--fill-color);\n",
              "    }\n",
              "    80% {\n",
              "      border-color: transparent;\n",
              "      border-right-color: var(--fill-color);\n",
              "      border-bottom-color: var(--fill-color);\n",
              "    }\n",
              "    90% {\n",
              "      border-color: transparent;\n",
              "      border-bottom-color: var(--fill-color);\n",
              "    }\n",
              "  }\n",
              "</style>\n",
              "\n",
              "  <script>\n",
              "    async function quickchart(key) {\n",
              "      const quickchartButtonEl =\n",
              "        document.querySelector('#' + key + ' button');\n",
              "      quickchartButtonEl.disabled = true;  // To prevent multiple clicks.\n",
              "      quickchartButtonEl.classList.add('colab-df-spinner');\n",
              "      try {\n",
              "        const charts = await google.colab.kernel.invokeFunction(\n",
              "            'suggestCharts', [key], {});\n",
              "      } catch (error) {\n",
              "        console.error('Error during call to suggestCharts:', error);\n",
              "      }\n",
              "      quickchartButtonEl.classList.remove('colab-df-spinner');\n",
              "      quickchartButtonEl.classList.add('colab-df-quickchart-complete');\n",
              "    }\n",
              "    (() => {\n",
              "      let quickchartButtonEl =\n",
              "        document.querySelector('#df-85cd9bae-a5f3-4c19-8c6e-b206ea45cec7 button');\n",
              "      quickchartButtonEl.style.display =\n",
              "        google.colab.kernel.accessAllowed ? 'block' : 'none';\n",
              "    })();\n",
              "  </script>\n",
              "</div>\n",
              "\n",
              "  <div id=\"id_607b536d-6f19-4779-b669-d0d918652379\">\n",
              "    <style>\n",
              "      .colab-df-generate {\n",
              "        background-color: #E8F0FE;\n",
              "        border: none;\n",
              "        border-radius: 50%;\n",
              "        cursor: pointer;\n",
              "        display: none;\n",
              "        fill: #1967D2;\n",
              "        height: 32px;\n",
              "        padding: 0 0 0 0;\n",
              "        width: 32px;\n",
              "      }\n",
              "\n",
              "      .colab-df-generate:hover {\n",
              "        background-color: #E2EBFA;\n",
              "        box-shadow: 0px 1px 2px rgba(60, 64, 67, 0.3), 0px 1px 3px 1px rgba(60, 64, 67, 0.15);\n",
              "        fill: #174EA6;\n",
              "      }\n",
              "\n",
              "      [theme=dark] .colab-df-generate {\n",
              "        background-color: #3B4455;\n",
              "        fill: #D2E3FC;\n",
              "      }\n",
              "\n",
              "      [theme=dark] .colab-df-generate:hover {\n",
              "        background-color: #434B5C;\n",
              "        box-shadow: 0px 1px 3px 1px rgba(0, 0, 0, 0.15);\n",
              "        filter: drop-shadow(0px 1px 2px rgba(0, 0, 0, 0.3));\n",
              "        fill: #FFFFFF;\n",
              "      }\n",
              "    </style>\n",
              "    <button class=\"colab-df-generate\" onclick=\"generateWithVariable('df')\"\n",
              "            title=\"Generate code using this dataframe.\"\n",
              "            style=\"display:none;\">\n",
              "\n",
              "  <svg xmlns=\"http://www.w3.org/2000/svg\" height=\"24px\"viewBox=\"0 0 24 24\"\n",
              "       width=\"24px\">\n",
              "    <path d=\"M7,19H8.4L18.45,9,17,7.55,7,17.6ZM5,21V16.75L18.45,3.32a2,2,0,0,1,2.83,0l1.4,1.43a1.91,1.91,0,0,1,.58,1.4,1.91,1.91,0,0,1-.58,1.4L9.25,21ZM18.45,9,17,7.55Zm-12,3A5.31,5.31,0,0,0,4.9,8.1,5.31,5.31,0,0,0,1,6.5,5.31,5.31,0,0,0,4.9,4.9,5.31,5.31,0,0,0,6.5,1,5.31,5.31,0,0,0,8.1,4.9,5.31,5.31,0,0,0,12,6.5,5.46,5.46,0,0,0,6.5,12Z\"/>\n",
              "  </svg>\n",
              "    </button>\n",
              "    <script>\n",
              "      (() => {\n",
              "      const buttonEl =\n",
              "        document.querySelector('#id_607b536d-6f19-4779-b669-d0d918652379 button.colab-df-generate');\n",
              "      buttonEl.style.display =\n",
              "        google.colab.kernel.accessAllowed ? 'block' : 'none';\n",
              "\n",
              "      buttonEl.onclick = () => {\n",
              "        google.colab.notebook.generateWithVariable('df');\n",
              "      }\n",
              "      })();\n",
              "    </script>\n",
              "  </div>\n",
              "\n",
              "    </div>\n",
              "  </div>\n"
            ]
          },
          "metadata": {},
          "execution_count": 51
        }
      ]
    }
  ]
}