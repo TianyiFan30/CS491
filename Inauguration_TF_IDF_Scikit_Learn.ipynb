{
  "cells": [
    {
      "cell_type": "markdown",
      "metadata": {
        "id": "view-in-github",
        "colab_type": "text"
      },
      "source": [
        "<a href=\"https://colab.research.google.com/github/TianyiFan30/CS491/blob/main/Inauguration_TF_IDF_Scikit_Learn.ipynb\" target=\"_parent\"><img src=\"https://colab.research.google.com/assets/colab-badge.svg\" alt=\"Open In Colab\"/></a>"
      ]
    },
    {
      "cell_type": "markdown",
      "metadata": {
        "id": "XCvyipVqA9To"
      },
      "source": [
        "# TF-IDF with Scikit-Learn\n",
        "This notebook is adapted from one developed by [Melanie Walsh](https://melaniewalsh.github.io/Intro-Cultural-Analytics/05-Text-Analysis/03-TF-IDF-Scikit-Learn.html)"
      ]
    },
    {
      "cell_type": "markdown",
      "metadata": {
        "id": "n2ezf7QrA9Ts"
      },
      "source": [
        " A popular and effective method for text analysis is called *term frequency–inverse document frequency*, often abbreviated *tf-idf*. Tf-idf is a method that tries to identify the most distinctively frequent or significant words in documents across a corpus.\n",
        "\n",
        "In this lesson, we're going to learn how to calculate tf-idf scores using a collection of plain text (.txt) files and the Python library scikit-learn, which has a quick and nifty module called [TfidfVectorizer](https://scikit-learn.org/stable/modules/generated/sklearn.feature_extraction.text.TfidfVectorizer.html).\n",
        "\n",
        "In this notebook we will calculate and normalize tf-idf scores for U.S. Inaugural Addresses with scikit-learn."
      ]
    },
    {
      "cell_type": "markdown",
      "metadata": {
        "id": "qsKdjlNBA9Tt"
      },
      "source": [
        "## Dataset"
      ]
    },
    {
      "cell_type": "markdown",
      "metadata": {
        "id": "YZSnpWx4A9Tt"
      },
      "source": [
        "### U.S. Inaugural Addresses\n",
        "\n",
        "<blockquote class=\"epigraph\" style=\" padding: 10px\">\n",
        "\n",
        "This is the meaning of our liberty and our creed; why men and women and children of every race and every faith can join in celebration across this magnificent Mall, and why a man whose father less than 60 years ago might not have been served at a local restaurant can now stand before you to take a most sacred oath.  So let us mark this day with remembrance of who we are and how far we have traveled.\n",
        "<p class =\"attribution\">—Barack Obama, Inaugural Presidential Address, January 2009\n",
        "    </p>\n",
        "    \n",
        "</blockquote>"
      ]
    },
    {
      "cell_type": "markdown",
      "metadata": {
        "id": "r3xc8MxqA9Tt"
      },
      "source": [
        "During Barack Obama's Inaugural Address in January 2009, he mentioned \"women\" four different times, including in the passage quoted above. How distinctive is Obama's inclusion of women in this address compared to all other U.S. Presidents? This is one of the questions that we're going to try to answer with tf-idf."
      ]
    },
    {
      "cell_type": "markdown",
      "metadata": {
        "id": "sC1U7SBKA9Tu"
      },
      "source": [
        "## Breaking Down the TF-IDF Formula"
      ]
    },
    {
      "cell_type": "markdown",
      "metadata": {
        "id": "lWOfpJ5fA9Tu"
      },
      "source": [
        "But first, let's quickly discuss the tf-idf formula. The idea is pretty simple."
      ]
    },
    {
      "cell_type": "markdown",
      "metadata": {
        "id": "j_wuYqkxA9Tu"
      },
      "source": [
        "**tf-idf = term_frequency * inverse_document_frequency**"
      ]
    },
    {
      "cell_type": "markdown",
      "metadata": {
        "id": "n9-uZS5wA9Tu"
      },
      "source": [
        "**term_frequency** = number of times a given term appears in document"
      ]
    },
    {
      "cell_type": "markdown",
      "metadata": {
        "id": "_Mmu6a_pA9Tu"
      },
      "source": [
        "**inverse_document_frequency** = log(total number of documents / number of documents with term) + 1**\\***"
      ]
    },
    {
      "cell_type": "markdown",
      "metadata": {
        "id": "ip1WksLcA9Tv"
      },
      "source": [
        "You take the number of times a term occurs in a document (term frequency). Then you take the number of documents in which the same term occurs at least once divided by the total number of documents (document frequency), and you flip that fraction on its head (inverse document frequency). Then you multiply the two numbers together (term_frequency * inverse_document_frequency).\n",
        "\n",
        "The reason we take the *inverse*, or flipped fraction, of document frequency is to boost the rarer words that occur in relatively few documents. Think about the inverse document frequency for the word \"said\" vs the word \"pigeon.\" The term \"said\" appears in 13 (document frequency) of 14 (total documents) *Lost in the City* stories (14 / 13 --> a smaller inverse document frequency) while the term \"pigeons\" only occurs in 2 (document frequency) of the 14 stories (total documents) (14 / 2 --> a bigger inverse document frequency, a bigger tf-idf boost)."
      ]
    },
    {
      "cell_type": "markdown",
      "metadata": {
        "id": "V9E6MLzpA9Tv"
      },
      "source": [
        "*There are a bunch of slightly different ways that you can calculate inverse document frequency. The version of idf that we're going to use is the [scikit-learn default](https://scikit-learn.org/stable/modules/generated/sklearn.feature_extraction.text.TfidfTransformer.html#sklearn.feature_extraction.text.TfidfTransformer), which uses \"smoothing\" aka it adds a \"1\" to the numerator and denominator:"
      ]
    },
    {
      "cell_type": "markdown",
      "metadata": {
        "id": "mpKan_ZOA9Tv"
      },
      "source": [
        "**inverse_document_frequency**  = log((1 + total_number_of_documents) / (number_of_documents_with_term +1)) + 1"
      ]
    },
    {
      "cell_type": "markdown",
      "metadata": {
        "id": "CJi91SP0A9Tv"
      },
      "source": [
        "<div class=\"margin sidebar\" style=\" padding: 10px\">\n",
        "\n",
        "> If smooth_idf=True (the default), the constant “1” is added to the numerator and denominator of the idf as if an extra document was seen containing every term in the collection exactly once, which prevents zero divisions: idf(t) = log [ (1 + n) / (1 + df(t)) ] + 1.  \n",
        "> -[scikit-learn documentation](https://scikit-learn.org/stable/modules/generated/sklearn.feature_extraction.text.TfidfTransformer.html#sklearn.feature_extraction.text.TfidfTransformer)\n",
        "\n",
        "</div>"
      ]
    },
    {
      "cell_type": "markdown",
      "metadata": {
        "id": "EgemWy1DA9Tv"
      },
      "source": [
        "## TF-IDF with scikit-learn"
      ]
    },
    {
      "cell_type": "markdown",
      "metadata": {
        "id": "hAsgcDsaA9Tw"
      },
      "source": [
        "[scikit-learn](https://scikit-learn.org/stable/index.html), imported as `sklearn`, is a popular Python library for machine learning approaches such as clustering, classification, and regression. Though we're not doing any machine learning in this lesson, we're nevertheless going to use scikit-learn's `TfidfVectorizer` and `CountVectorizer`."
      ]
    },
    {
      "cell_type": "markdown",
      "metadata": {
        "id": "B4loEFp0A9Tw"
      },
      "source": [
        "Install scikit-learn (not necessary in Colab)"
      ]
    },
    {
      "cell_type": "code",
      "execution_count": 23,
      "metadata": {
        "id": "AYYebCOAA9Tw"
      },
      "outputs": [],
      "source": [
        "# !pip install sklearn"
      ]
    },
    {
      "cell_type": "markdown",
      "metadata": {
        "id": "ViXOM8oTA9Tx"
      },
      "source": [
        "Import necessary modules and libraries"
      ]
    },
    {
      "cell_type": "code",
      "execution_count": 24,
      "metadata": {
        "id": "DnhlEwMDA9Tx"
      },
      "outputs": [],
      "source": [
        "from sklearn.feature_extraction.text import TfidfVectorizer\n",
        "from sklearn.feature_extraction.text import CountVectorizer\n",
        "import pandas as pd\n"
      ]
    },
    {
      "cell_type": "markdown",
      "metadata": {
        "id": "ZC3dde-vA9Ty"
      },
      "source": [
        "#### Set Directory Path"
      ]
    },
    {
      "cell_type": "markdown",
      "metadata": {
        "id": "jCpTCn8gA9Ty"
      },
      "source": [
        "Below we're setting the directory filepath that contains all the text files that we want to analyze."
      ]
    },
    {
      "cell_type": "code",
      "source": [
        "from google.colab import drive\n",
        "drive.mount('/content/drive')"
      ],
      "metadata": {
        "colab": {
          "base_uri": "https://localhost:8080/"
        },
        "id": "DVv2xL_iGSfe",
        "outputId": "dfe5f8a4-678f-472f-a5ac-9fdfd49a597a"
      },
      "execution_count": 25,
      "outputs": [
        {
          "output_type": "stream",
          "name": "stdout",
          "text": [
            "Drive already mounted at /content/drive; to attempt to forcibly remount, call drive.mount(\"/content/drive\", force_remount=True).\n"
          ]
        }
      ]
    },
    {
      "cell_type": "code",
      "execution_count": 26,
      "metadata": {
        "id": "1enhkELXA9Ty"
      },
      "outputs": [],
      "source": [
        "my_path=\"/content/drive/MyDrive/CS491/Data/US_Inaugural_Addresses/\""
      ]
    },
    {
      "cell_type": "code",
      "source": [
        "file_names=!ls {my_path}\n",
        "file_names=sorted(file_names)\n",
        "# print(file_names)"
      ],
      "metadata": {
        "id": "ODAmYR-NClxo"
      },
      "execution_count": 27,
      "outputs": []
    },
    {
      "cell_type": "code",
      "source": [
        "file_names"
      ],
      "metadata": {
        "id": "nTYfaWsA5U2S",
        "outputId": "54328962-90fd-479e-b4b4-8c64082ae6a0",
        "colab": {
          "base_uri": "https://localhost:8080/"
        }
      },
      "execution_count": 29,
      "outputs": [
        {
          "output_type": "execute_result",
          "data": {
            "text/plain": [
              "['01_washington_1789.txt\\t       22_grant_1873.txt\\t       43_eisenhower_1957.txt',\n",
              " '02_washington_1793.txt\\t       23_hayes_1877.txt\\t       44_kennedy_1961.txt',\n",
              " '03_adams_john_1797.txt\\t       24_garfield_1881.txt\\t       45_johnson_1965.txt',\n",
              " '04_jefferson_1801.txt\\t       25_cleveland_1885.txt\\t       46_nixon_1969.txt',\n",
              " '05_jefferson_1805.txt\\t       26_harrison_1889.txt\\t       47_nixon_1973.txt',\n",
              " '06_madison_1809.txt\\t       27_cleveland_1893.txt\\t       48_carter_1977.txt',\n",
              " '07_madison_1813.txt\\t       28_mckinley_1897.txt\\t       49_reagan_1981.txt',\n",
              " '08_monroe_1817.txt\\t       29_mckinley_1901.txt\\t       50_reagan_1985.txt',\n",
              " '09_monroe_1821.txt\\t       30_roosevelt_theodore_1905.txt  51_bush_george_h_w_1989.txt',\n",
              " '10_adams_john_quincy_1825.txt  31_taft_1909.txt\\t\\t       52_clinton_1993.txt',\n",
              " '11_jackson_1829.txt\\t       32_wilson_1913.txt\\t       53_clinton_1997.txt',\n",
              " '12_jackson_1833.txt\\t       33_wilson_1917.txt\\t       54_bush_george_w_2001.txt',\n",
              " '13_van_buren_1837.txt\\t       34_harding_1921.txt\\t       55_bush_george_w_2005.txt',\n",
              " '14_harrison_1841.txt\\t       35_coolidge_1925.txt\\t       56_obama_2009.txt',\n",
              " '15_polk_1845.txt\\t       36_hoover_1929.txt\\t       57_obama_2013.txt',\n",
              " '16_taylor_1849.txt\\t       37_roosevelt_franklin_1933.txt  58_trump_2017.txt',\n",
              " '17_pierce_1853.txt\\t       38_roosevelt_franklin_1937.txt  59_biden_2021.txt',\n",
              " '18_buchanan_1857.txt\\t       39_roosevelt_franklin_1941.txt  60_Thomas_Jefferson.txt',\n",
              " '19_lincoln_1861.txt\\t       40_roosevelt_franklin_1945.txt  61_James_Monroe.txt',\n",
              " '20_lincoln_1865.txt\\t       41_truman_1949.txt\\t       62_Abraham_Lincoln.txt',\n",
              " '21_grant_1869.txt\\t       42_eisenhower_1953.txt']"
            ]
          },
          "metadata": {},
          "execution_count": 29
        }
      ]
    },
    {
      "cell_type": "code",
      "source": [
        "# Split combined string by tabs and newlines, then filter out any empty strings\n",
        "combined_string = ' '.join(file_names)\n",
        "file_list = [name.strip() for name in combined_string.split() if name.strip() and '.' in name]\n",
        "\n",
        "# Remove the extension from each file name\n",
        "text_titles = sorted([name.split('.')[0] for name in file_list])\n",
        "\n"
      ],
      "metadata": {
        "id": "0pMU1xXNC4Wt"
      },
      "execution_count": 28,
      "outputs": []
    },
    {
      "cell_type": "code",
      "source": [
        "text_titles"
      ],
      "metadata": {
        "id": "T46e372F0wyC",
        "outputId": "f2d0831c-4c03-472a-a5bf-343b26d3738d",
        "colab": {
          "base_uri": "https://localhost:8080/"
        }
      },
      "execution_count": 30,
      "outputs": [
        {
          "output_type": "execute_result",
          "data": {
            "text/plain": [
              "['01_washington_1789',\n",
              " '02_washington_1793',\n",
              " '03_adams_john_1797',\n",
              " '04_jefferson_1801',\n",
              " '05_jefferson_1805',\n",
              " '06_madison_1809',\n",
              " '07_madison_1813',\n",
              " '08_monroe_1817',\n",
              " '09_monroe_1821',\n",
              " '10_adams_john_quincy_1825',\n",
              " '11_jackson_1829',\n",
              " '12_jackson_1833',\n",
              " '13_van_buren_1837',\n",
              " '14_harrison_1841',\n",
              " '15_polk_1845',\n",
              " '16_taylor_1849',\n",
              " '17_pierce_1853',\n",
              " '18_buchanan_1857',\n",
              " '19_lincoln_1861',\n",
              " '20_lincoln_1865',\n",
              " '21_grant_1869',\n",
              " '22_grant_1873',\n",
              " '23_hayes_1877',\n",
              " '24_garfield_1881',\n",
              " '25_cleveland_1885',\n",
              " '26_harrison_1889',\n",
              " '27_cleveland_1893',\n",
              " '28_mckinley_1897',\n",
              " '29_mckinley_1901',\n",
              " '30_roosevelt_theodore_1905',\n",
              " '31_taft_1909',\n",
              " '32_wilson_1913',\n",
              " '33_wilson_1917',\n",
              " '34_harding_1921',\n",
              " '35_coolidge_1925',\n",
              " '36_hoover_1929',\n",
              " '37_roosevelt_franklin_1933',\n",
              " '38_roosevelt_franklin_1937',\n",
              " '39_roosevelt_franklin_1941',\n",
              " '40_roosevelt_franklin_1945',\n",
              " '41_truman_1949',\n",
              " '42_eisenhower_1953',\n",
              " '43_eisenhower_1957',\n",
              " '44_kennedy_1961',\n",
              " '45_johnson_1965',\n",
              " '46_nixon_1969',\n",
              " '47_nixon_1973',\n",
              " '48_carter_1977',\n",
              " '49_reagan_1981',\n",
              " '50_reagan_1985',\n",
              " '51_bush_george_h_w_1989',\n",
              " '52_clinton_1993',\n",
              " '53_clinton_1997',\n",
              " '54_bush_george_w_2001',\n",
              " '55_bush_george_w_2005',\n",
              " '56_obama_2009',\n",
              " '57_obama_2013',\n",
              " '58_trump_2017',\n",
              " '59_biden_2021',\n",
              " '60_Thomas_Jefferson',\n",
              " '61_James_Monroe',\n",
              " '62_Abraham_Lincoln']"
            ]
          },
          "metadata": {},
          "execution_count": 30
        }
      ]
    },
    {
      "cell_type": "code",
      "source": [
        "import glob\n",
        "text_files=glob.glob(f\"{my_path}/*.txt\")\n",
        "text_files=sorted(text_files)"
      ],
      "metadata": {
        "id": "oW_EPBtwIs4B"
      },
      "execution_count": 31,
      "outputs": []
    },
    {
      "cell_type": "markdown",
      "metadata": {
        "id": "yHzdQZDJA9Tz"
      },
      "source": [
        "## Calculate tf–idf"
      ]
    },
    {
      "cell_type": "markdown",
      "metadata": {
        "id": "Y7jmFC8EA9Tz"
      },
      "source": [
        "To calculate tf–idf scores for every word, we're going to use scikit-learn's [`TfidfVectorizer`](https://scikit-learn.org/stable/modules/generated/sklearn.feature_extraction.text.TfidfVectorizer.html).\n",
        "\n",
        "When you initialize TfidfVectorizer, you can choose to set it with different parameters. These parameters will change the way you calculate tf–idf."
      ]
    },
    {
      "cell_type": "markdown",
      "metadata": {
        "id": "52WrethgA9T0"
      },
      "source": [
        "The recommended way to run `TfidfVectorizer` is with smoothing (`smooth_idf = True`) and normalization (`norm='l2'`) turned on. These parameters will better account for differences in text length, and overall produce more meaningful tf–idf scores. Smoothing and L2 normalization are actually the default settings for `TfidfVectorizer`, so to turn them on, you don't need to include any extra code at all."
      ]
    },
    {
      "cell_type": "markdown",
      "metadata": {
        "id": "BkEeXtKOA9T0"
      },
      "source": [
        "Initialize TfidfVectorizer with desired parameters (default smoothing and normalization)"
      ]
    },
    {
      "cell_type": "code",
      "execution_count": 32,
      "metadata": {
        "id": "7SMRQ8P_A9T0"
      },
      "outputs": [],
      "source": [
        "tfidf_vectorizer = TfidfVectorizer(input='filename', stop_words='english')"
      ]
    },
    {
      "cell_type": "markdown",
      "metadata": {
        "id": "mBDXgzq1A9T0"
      },
      "source": [
        "Run TfidfVectorizer on our `text_files`"
      ]
    },
    {
      "cell_type": "code",
      "execution_count": 33,
      "metadata": {
        "id": "SBp_fRBtA9T1"
      },
      "outputs": [],
      "source": [
        "tfidf_vector = tfidf_vectorizer.fit_transform(text_files)\n",
        "#this is a sparse matrix"
      ]
    },
    {
      "cell_type": "markdown",
      "metadata": {
        "id": "DWc-CoEMA9T1"
      },
      "source": [
        "Make a DataFrame out of the resulting tf–idf vector, setting the \"feature names\" or words as columns and the titles as rows"
      ]
    },
    {
      "cell_type": "code",
      "execution_count": 34,
      "metadata": {
        "id": "5hH3zJmjA9T1"
      },
      "outputs": [],
      "source": [
        "tfidf_df = pd.DataFrame(tfidf_vector.toarray(), index=text_titles, columns=tfidf_vectorizer.get_feature_names_out())"
      ]
    },
    {
      "cell_type": "markdown",
      "metadata": {
        "id": "N3J91O1wA9T2"
      },
      "source": [
        "Add column for document frequency aka number of times word appears in all documents"
      ]
    },
    {
      "cell_type": "code",
      "execution_count": 35,
      "metadata": {
        "id": "kyRD_33XA9T2",
        "outputId": "d6fbe17f-2708-44e9-d1c7-2d4eb8ba742f",
        "colab": {
          "base_uri": "https://localhost:8080/",
          "height": 443
        }
      },
      "outputs": [
        {
          "output_type": "execute_result",
          "data": {
            "text/plain": [
              "                     government  borders  people   war  honor  foreign   men  \\\n",
              "01_washington_1789         0.12     0.00    0.06  0.00   0.00     0.00  0.02   \n",
              "02_washington_1793         0.06     0.00    0.06  0.00   0.08     0.00  0.00   \n",
              "03_adams_john_1797         0.17     0.00    0.20  0.01   0.10     0.12  0.05   \n",
              "04_jefferson_1801          0.16     0.00    0.01  0.02   0.04     0.00  0.04   \n",
              "05_jefferson_1805          0.03     0.00    0.00  0.04   0.00     0.06  0.01   \n",
              "...                         ...      ...     ...   ...    ...      ...   ...   \n",
              "58_trump_2017              0.04     0.10    0.12  0.00   0.00     0.05  0.03   \n",
              "59_biden_2021              0.00     0.03    0.08  0.07   0.04     0.00  0.00   \n",
              "60_Thomas_Jefferson        0.00     0.00    0.00  0.00   0.00     0.00  0.00   \n",
              "61_James_Monroe            0.00     0.00    0.00  0.00   0.00     0.00  0.00   \n",
              "62_Abraham_Lincoln         0.00     0.00    0.00  0.00   0.00     0.00  0.00   \n",
              "\n",
              "                     women  children  slave  \n",
              "01_washington_1789    0.00      0.00    0.0  \n",
              "02_washington_1793    0.00      0.00    0.0  \n",
              "03_adams_john_1797    0.00      0.00    0.0  \n",
              "04_jefferson_1801     0.00      0.00    0.0  \n",
              "05_jefferson_1805     0.00      0.02    0.0  \n",
              "...                    ...       ...    ...  \n",
              "58_trump_2017         0.05      0.04    0.0  \n",
              "59_biden_2021         0.02      0.10    0.0  \n",
              "60_Thomas_Jefferson   0.00      0.00    0.0  \n",
              "61_James_Monroe       0.00      0.00    0.0  \n",
              "62_Abraham_Lincoln    0.00      0.00    0.0  \n",
              "\n",
              "[62 rows x 10 columns]"
            ],
            "text/html": [
              "\n",
              "  <div id=\"df-68d571e0-6e61-4cb1-ae69-46fd7bbc0ef7\" class=\"colab-df-container\">\n",
              "    <div>\n",
              "<style scoped>\n",
              "    .dataframe tbody tr th:only-of-type {\n",
              "        vertical-align: middle;\n",
              "    }\n",
              "\n",
              "    .dataframe tbody tr th {\n",
              "        vertical-align: top;\n",
              "    }\n",
              "\n",
              "    .dataframe thead th {\n",
              "        text-align: right;\n",
              "    }\n",
              "</style>\n",
              "<table border=\"1\" class=\"dataframe\">\n",
              "  <thead>\n",
              "    <tr style=\"text-align: right;\">\n",
              "      <th></th>\n",
              "      <th>government</th>\n",
              "      <th>borders</th>\n",
              "      <th>people</th>\n",
              "      <th>war</th>\n",
              "      <th>honor</th>\n",
              "      <th>foreign</th>\n",
              "      <th>men</th>\n",
              "      <th>women</th>\n",
              "      <th>children</th>\n",
              "      <th>slave</th>\n",
              "    </tr>\n",
              "  </thead>\n",
              "  <tbody>\n",
              "    <tr>\n",
              "      <th>01_washington_1789</th>\n",
              "      <td>0.12</td>\n",
              "      <td>0.00</td>\n",
              "      <td>0.06</td>\n",
              "      <td>0.00</td>\n",
              "      <td>0.00</td>\n",
              "      <td>0.00</td>\n",
              "      <td>0.02</td>\n",
              "      <td>0.00</td>\n",
              "      <td>0.00</td>\n",
              "      <td>0.0</td>\n",
              "    </tr>\n",
              "    <tr>\n",
              "      <th>02_washington_1793</th>\n",
              "      <td>0.06</td>\n",
              "      <td>0.00</td>\n",
              "      <td>0.06</td>\n",
              "      <td>0.00</td>\n",
              "      <td>0.08</td>\n",
              "      <td>0.00</td>\n",
              "      <td>0.00</td>\n",
              "      <td>0.00</td>\n",
              "      <td>0.00</td>\n",
              "      <td>0.0</td>\n",
              "    </tr>\n",
              "    <tr>\n",
              "      <th>03_adams_john_1797</th>\n",
              "      <td>0.17</td>\n",
              "      <td>0.00</td>\n",
              "      <td>0.20</td>\n",
              "      <td>0.01</td>\n",
              "      <td>0.10</td>\n",
              "      <td>0.12</td>\n",
              "      <td>0.05</td>\n",
              "      <td>0.00</td>\n",
              "      <td>0.00</td>\n",
              "      <td>0.0</td>\n",
              "    </tr>\n",
              "    <tr>\n",
              "      <th>04_jefferson_1801</th>\n",
              "      <td>0.16</td>\n",
              "      <td>0.00</td>\n",
              "      <td>0.01</td>\n",
              "      <td>0.02</td>\n",
              "      <td>0.04</td>\n",
              "      <td>0.00</td>\n",
              "      <td>0.04</td>\n",
              "      <td>0.00</td>\n",
              "      <td>0.00</td>\n",
              "      <td>0.0</td>\n",
              "    </tr>\n",
              "    <tr>\n",
              "      <th>05_jefferson_1805</th>\n",
              "      <td>0.03</td>\n",
              "      <td>0.00</td>\n",
              "      <td>0.00</td>\n",
              "      <td>0.04</td>\n",
              "      <td>0.00</td>\n",
              "      <td>0.06</td>\n",
              "      <td>0.01</td>\n",
              "      <td>0.00</td>\n",
              "      <td>0.02</td>\n",
              "      <td>0.0</td>\n",
              "    </tr>\n",
              "    <tr>\n",
              "      <th>...</th>\n",
              "      <td>...</td>\n",
              "      <td>...</td>\n",
              "      <td>...</td>\n",
              "      <td>...</td>\n",
              "      <td>...</td>\n",
              "      <td>...</td>\n",
              "      <td>...</td>\n",
              "      <td>...</td>\n",
              "      <td>...</td>\n",
              "      <td>...</td>\n",
              "    </tr>\n",
              "    <tr>\n",
              "      <th>58_trump_2017</th>\n",
              "      <td>0.04</td>\n",
              "      <td>0.10</td>\n",
              "      <td>0.12</td>\n",
              "      <td>0.00</td>\n",
              "      <td>0.00</td>\n",
              "      <td>0.05</td>\n",
              "      <td>0.03</td>\n",
              "      <td>0.05</td>\n",
              "      <td>0.04</td>\n",
              "      <td>0.0</td>\n",
              "    </tr>\n",
              "    <tr>\n",
              "      <th>59_biden_2021</th>\n",
              "      <td>0.00</td>\n",
              "      <td>0.03</td>\n",
              "      <td>0.08</td>\n",
              "      <td>0.07</td>\n",
              "      <td>0.04</td>\n",
              "      <td>0.00</td>\n",
              "      <td>0.00</td>\n",
              "      <td>0.02</td>\n",
              "      <td>0.10</td>\n",
              "      <td>0.0</td>\n",
              "    </tr>\n",
              "    <tr>\n",
              "      <th>60_Thomas_Jefferson</th>\n",
              "      <td>0.00</td>\n",
              "      <td>0.00</td>\n",
              "      <td>0.00</td>\n",
              "      <td>0.00</td>\n",
              "      <td>0.00</td>\n",
              "      <td>0.00</td>\n",
              "      <td>0.00</td>\n",
              "      <td>0.00</td>\n",
              "      <td>0.00</td>\n",
              "      <td>0.0</td>\n",
              "    </tr>\n",
              "    <tr>\n",
              "      <th>61_James_Monroe</th>\n",
              "      <td>0.00</td>\n",
              "      <td>0.00</td>\n",
              "      <td>0.00</td>\n",
              "      <td>0.00</td>\n",
              "      <td>0.00</td>\n",
              "      <td>0.00</td>\n",
              "      <td>0.00</td>\n",
              "      <td>0.00</td>\n",
              "      <td>0.00</td>\n",
              "      <td>0.0</td>\n",
              "    </tr>\n",
              "    <tr>\n",
              "      <th>62_Abraham_Lincoln</th>\n",
              "      <td>0.00</td>\n",
              "      <td>0.00</td>\n",
              "      <td>0.00</td>\n",
              "      <td>0.00</td>\n",
              "      <td>0.00</td>\n",
              "      <td>0.00</td>\n",
              "      <td>0.00</td>\n",
              "      <td>0.00</td>\n",
              "      <td>0.00</td>\n",
              "      <td>0.0</td>\n",
              "    </tr>\n",
              "  </tbody>\n",
              "</table>\n",
              "<p>62 rows × 10 columns</p>\n",
              "</div>\n",
              "    <div class=\"colab-df-buttons\">\n",
              "\n",
              "  <div class=\"colab-df-container\">\n",
              "    <button class=\"colab-df-convert\" onclick=\"convertToInteractive('df-68d571e0-6e61-4cb1-ae69-46fd7bbc0ef7')\"\n",
              "            title=\"Convert this dataframe to an interactive table.\"\n",
              "            style=\"display:none;\">\n",
              "\n",
              "  <svg xmlns=\"http://www.w3.org/2000/svg\" height=\"24px\" viewBox=\"0 -960 960 960\">\n",
              "    <path d=\"M120-120v-720h720v720H120Zm60-500h600v-160H180v160Zm220 220h160v-160H400v160Zm0 220h160v-160H400v160ZM180-400h160v-160H180v160Zm440 0h160v-160H620v160ZM180-180h160v-160H180v160Zm440 0h160v-160H620v160Z\"/>\n",
              "  </svg>\n",
              "    </button>\n",
              "\n",
              "  <style>\n",
              "    .colab-df-container {\n",
              "      display:flex;\n",
              "      gap: 12px;\n",
              "    }\n",
              "\n",
              "    .colab-df-convert {\n",
              "      background-color: #E8F0FE;\n",
              "      border: none;\n",
              "      border-radius: 50%;\n",
              "      cursor: pointer;\n",
              "      display: none;\n",
              "      fill: #1967D2;\n",
              "      height: 32px;\n",
              "      padding: 0 0 0 0;\n",
              "      width: 32px;\n",
              "    }\n",
              "\n",
              "    .colab-df-convert:hover {\n",
              "      background-color: #E2EBFA;\n",
              "      box-shadow: 0px 1px 2px rgba(60, 64, 67, 0.3), 0px 1px 3px 1px rgba(60, 64, 67, 0.15);\n",
              "      fill: #174EA6;\n",
              "    }\n",
              "\n",
              "    .colab-df-buttons div {\n",
              "      margin-bottom: 4px;\n",
              "    }\n",
              "\n",
              "    [theme=dark] .colab-df-convert {\n",
              "      background-color: #3B4455;\n",
              "      fill: #D2E3FC;\n",
              "    }\n",
              "\n",
              "    [theme=dark] .colab-df-convert:hover {\n",
              "      background-color: #434B5C;\n",
              "      box-shadow: 0px 1px 3px 1px rgba(0, 0, 0, 0.15);\n",
              "      filter: drop-shadow(0px 1px 2px rgba(0, 0, 0, 0.3));\n",
              "      fill: #FFFFFF;\n",
              "    }\n",
              "  </style>\n",
              "\n",
              "    <script>\n",
              "      const buttonEl =\n",
              "        document.querySelector('#df-68d571e0-6e61-4cb1-ae69-46fd7bbc0ef7 button.colab-df-convert');\n",
              "      buttonEl.style.display =\n",
              "        google.colab.kernel.accessAllowed ? 'block' : 'none';\n",
              "\n",
              "      async function convertToInteractive(key) {\n",
              "        const element = document.querySelector('#df-68d571e0-6e61-4cb1-ae69-46fd7bbc0ef7');\n",
              "        const dataTable =\n",
              "          await google.colab.kernel.invokeFunction('convertToInteractive',\n",
              "                                                    [key], {});\n",
              "        if (!dataTable) return;\n",
              "\n",
              "        const docLinkHtml = 'Like what you see? Visit the ' +\n",
              "          '<a target=\"_blank\" href=https://colab.research.google.com/notebooks/data_table.ipynb>data table notebook</a>'\n",
              "          + ' to learn more about interactive tables.';\n",
              "        element.innerHTML = '';\n",
              "        dataTable['output_type'] = 'display_data';\n",
              "        await google.colab.output.renderOutput(dataTable, element);\n",
              "        const docLink = document.createElement('div');\n",
              "        docLink.innerHTML = docLinkHtml;\n",
              "        element.appendChild(docLink);\n",
              "      }\n",
              "    </script>\n",
              "  </div>\n",
              "\n",
              "\n",
              "<div id=\"df-5d1b7bf9-c40f-468e-be85-fc21ecb98c15\">\n",
              "  <button class=\"colab-df-quickchart\" onclick=\"quickchart('df-5d1b7bf9-c40f-468e-be85-fc21ecb98c15')\"\n",
              "            title=\"Suggest charts\"\n",
              "            style=\"display:none;\">\n",
              "\n",
              "<svg xmlns=\"http://www.w3.org/2000/svg\" height=\"24px\"viewBox=\"0 0 24 24\"\n",
              "     width=\"24px\">\n",
              "    <g>\n",
              "        <path d=\"M19 3H5c-1.1 0-2 .9-2 2v14c0 1.1.9 2 2 2h14c1.1 0 2-.9 2-2V5c0-1.1-.9-2-2-2zM9 17H7v-7h2v7zm4 0h-2V7h2v10zm4 0h-2v-4h2v4z\"/>\n",
              "    </g>\n",
              "</svg>\n",
              "  </button>\n",
              "\n",
              "<style>\n",
              "  .colab-df-quickchart {\n",
              "      --bg-color: #E8F0FE;\n",
              "      --fill-color: #1967D2;\n",
              "      --hover-bg-color: #E2EBFA;\n",
              "      --hover-fill-color: #174EA6;\n",
              "      --disabled-fill-color: #AAA;\n",
              "      --disabled-bg-color: #DDD;\n",
              "  }\n",
              "\n",
              "  [theme=dark] .colab-df-quickchart {\n",
              "      --bg-color: #3B4455;\n",
              "      --fill-color: #D2E3FC;\n",
              "      --hover-bg-color: #434B5C;\n",
              "      --hover-fill-color: #FFFFFF;\n",
              "      --disabled-bg-color: #3B4455;\n",
              "      --disabled-fill-color: #666;\n",
              "  }\n",
              "\n",
              "  .colab-df-quickchart {\n",
              "    background-color: var(--bg-color);\n",
              "    border: none;\n",
              "    border-radius: 50%;\n",
              "    cursor: pointer;\n",
              "    display: none;\n",
              "    fill: var(--fill-color);\n",
              "    height: 32px;\n",
              "    padding: 0;\n",
              "    width: 32px;\n",
              "  }\n",
              "\n",
              "  .colab-df-quickchart:hover {\n",
              "    background-color: var(--hover-bg-color);\n",
              "    box-shadow: 0 1px 2px rgba(60, 64, 67, 0.3), 0 1px 3px 1px rgba(60, 64, 67, 0.15);\n",
              "    fill: var(--button-hover-fill-color);\n",
              "  }\n",
              "\n",
              "  .colab-df-quickchart-complete:disabled,\n",
              "  .colab-df-quickchart-complete:disabled:hover {\n",
              "    background-color: var(--disabled-bg-color);\n",
              "    fill: var(--disabled-fill-color);\n",
              "    box-shadow: none;\n",
              "  }\n",
              "\n",
              "  .colab-df-spinner {\n",
              "    border: 2px solid var(--fill-color);\n",
              "    border-color: transparent;\n",
              "    border-bottom-color: var(--fill-color);\n",
              "    animation:\n",
              "      spin 1s steps(1) infinite;\n",
              "  }\n",
              "\n",
              "  @keyframes spin {\n",
              "    0% {\n",
              "      border-color: transparent;\n",
              "      border-bottom-color: var(--fill-color);\n",
              "      border-left-color: var(--fill-color);\n",
              "    }\n",
              "    20% {\n",
              "      border-color: transparent;\n",
              "      border-left-color: var(--fill-color);\n",
              "      border-top-color: var(--fill-color);\n",
              "    }\n",
              "    30% {\n",
              "      border-color: transparent;\n",
              "      border-left-color: var(--fill-color);\n",
              "      border-top-color: var(--fill-color);\n",
              "      border-right-color: var(--fill-color);\n",
              "    }\n",
              "    40% {\n",
              "      border-color: transparent;\n",
              "      border-right-color: var(--fill-color);\n",
              "      border-top-color: var(--fill-color);\n",
              "    }\n",
              "    60% {\n",
              "      border-color: transparent;\n",
              "      border-right-color: var(--fill-color);\n",
              "    }\n",
              "    80% {\n",
              "      border-color: transparent;\n",
              "      border-right-color: var(--fill-color);\n",
              "      border-bottom-color: var(--fill-color);\n",
              "    }\n",
              "    90% {\n",
              "      border-color: transparent;\n",
              "      border-bottom-color: var(--fill-color);\n",
              "    }\n",
              "  }\n",
              "</style>\n",
              "\n",
              "  <script>\n",
              "    async function quickchart(key) {\n",
              "      const quickchartButtonEl =\n",
              "        document.querySelector('#' + key + ' button');\n",
              "      quickchartButtonEl.disabled = true;  // To prevent multiple clicks.\n",
              "      quickchartButtonEl.classList.add('colab-df-spinner');\n",
              "      try {\n",
              "        const charts = await google.colab.kernel.invokeFunction(\n",
              "            'suggestCharts', [key], {});\n",
              "      } catch (error) {\n",
              "        console.error('Error during call to suggestCharts:', error);\n",
              "      }\n",
              "      quickchartButtonEl.classList.remove('colab-df-spinner');\n",
              "      quickchartButtonEl.classList.add('colab-df-quickchart-complete');\n",
              "    }\n",
              "    (() => {\n",
              "      let quickchartButtonEl =\n",
              "        document.querySelector('#df-5d1b7bf9-c40f-468e-be85-fc21ecb98c15 button');\n",
              "      quickchartButtonEl.style.display =\n",
              "        google.colab.kernel.accessAllowed ? 'block' : 'none';\n",
              "    })();\n",
              "  </script>\n",
              "</div>\n",
              "\n",
              "    </div>\n",
              "  </div>\n"
            ],
            "application/vnd.google.colaboratory.intrinsic+json": {
              "type": "dataframe",
              "summary": "{\n  \"name\": \"tfidf_slice\",\n  \"rows\": 62,\n  \"fields\": [\n    {\n      \"column\": \"government\",\n      \"properties\": {\n        \"dtype\": \"number\",\n        \"std\": 0.06943528349000137,\n        \"min\": 0.0,\n        \"max\": 0.27,\n        \"num_unique_values\": 21,\n        \"samples\": [\n          0.12,\n          0.11,\n          0.02\n        ],\n        \"semantic_type\": \"\",\n        \"description\": \"\"\n      }\n    },\n    {\n      \"column\": \"borders\",\n      \"properties\": {\n        \"dtype\": \"number\",\n        \"std\": 0.01646832448259025,\n        \"min\": 0.0,\n        \"max\": 0.1,\n        \"num_unique_values\": 5,\n        \"samples\": [\n          0.04,\n          0.1,\n          0.03\n        ],\n        \"semantic_type\": \"\",\n        \"description\": \"\"\n      }\n    },\n    {\n      \"column\": \"people\",\n      \"properties\": {\n        \"dtype\": \"number\",\n        \"std\": 0.055356400188025574,\n        \"min\": 0.0,\n        \"max\": 0.23,\n        \"num_unique_values\": 20,\n        \"samples\": [\n          0.06,\n          0.18,\n          0.17\n        ],\n        \"semantic_type\": \"\",\n        \"description\": \"\"\n      }\n    },\n    {\n      \"column\": \"war\",\n      \"properties\": {\n        \"dtype\": \"number\",\n        \"std\": 0.05132820740808244,\n        \"min\": 0.0,\n        \"max\": 0.27,\n        \"num_unique_values\": 13,\n        \"samples\": [\n          0.07,\n          0.08,\n          0.0\n        ],\n        \"semantic_type\": \"\",\n        \"description\": \"\"\n      }\n    },\n    {\n      \"column\": \"honor\",\n      \"properties\": {\n        \"dtype\": \"number\",\n        \"std\": 0.020545186942554087,\n        \"min\": 0.0,\n        \"max\": 0.1,\n        \"num_unique_values\": 8,\n        \"samples\": [\n          0.08,\n          0.02,\n          0.0\n        ],\n        \"semantic_type\": \"\",\n        \"description\": \"\"\n      }\n    },\n    {\n      \"column\": \"foreign\",\n      \"properties\": {\n        \"dtype\": \"number\",\n        \"std\": 0.029338286603249067,\n        \"min\": 0.0,\n        \"max\": 0.12,\n        \"num_unique_values\": 12,\n        \"samples\": [\n          0.09,\n          0.03,\n          0.0\n        ],\n        \"semantic_type\": \"\",\n        \"description\": \"\"\n      }\n    },\n    {\n      \"column\": \"men\",\n      \"properties\": {\n        \"dtype\": \"number\",\n        \"std\": 0.0300893258549804,\n        \"min\": 0.0,\n        \"max\": 0.15,\n        \"num_unique_values\": 12,\n        \"samples\": [\n          0.06,\n          0.11,\n          0.02\n        ],\n        \"semantic_type\": \"\",\n        \"description\": \"\"\n      }\n    },\n    {\n      \"column\": \"women\",\n      \"properties\": {\n        \"dtype\": \"number\",\n        \"std\": 0.02272312831786094,\n        \"min\": 0.0,\n        \"max\": 0.1,\n        \"num_unique_values\": 10,\n        \"samples\": [\n          0.02,\n          0.1,\n          0.05\n        ],\n        \"semantic_type\": \"\",\n        \"description\": \"\"\n      }\n    },\n    {\n      \"column\": \"children\",\n      \"properties\": {\n        \"dtype\": \"number\",\n        \"std\": 0.02959492074133466,\n        \"min\": 0.0,\n        \"max\": 0.1,\n        \"num_unique_values\": 10,\n        \"samples\": [\n          0.08,\n          0.02,\n          0.04\n        ],\n        \"semantic_type\": \"\",\n        \"description\": \"\"\n      }\n    },\n    {\n      \"column\": \"slave\",\n      \"properties\": {\n        \"dtype\": \"number\",\n        \"std\": 0.01384453226028534,\n        \"min\": 0.0,\n        \"max\": 0.09,\n        \"num_unique_values\": 5,\n        \"samples\": [\n          0.02,\n          0.03,\n          0.09\n        ],\n        \"semantic_type\": \"\",\n        \"description\": \"\"\n      }\n    }\n  ]\n}"
            }
          },
          "metadata": {},
          "execution_count": 35
        }
      ],
      "source": [
        "tfidf_slice = tfidf_df[['government', 'borders', 'people', 'war', 'honor','foreign', 'men', 'women', 'children','slave']]\n",
        "tfidf_slice.sort_index().round(decimals=2)"
      ]
    },
    {
      "cell_type": "code",
      "source": [
        "tfidf_slice = tfidf_df[['fought','liberty', 'freedom']]\n",
        "tfidf_slice.sort_index().round(decimals=2)\n"
      ],
      "metadata": {
        "id": "6oFmX2aqukMZ",
        "outputId": "07014fe8-4fd3-4b8a-d9b6-acc9a2bb8527",
        "colab": {
          "base_uri": "https://localhost:8080/",
          "height": 423
        }
      },
      "execution_count": 36,
      "outputs": [
        {
          "output_type": "execute_result",
          "data": {
            "text/plain": [
              "                     fought  liberty  freedom\n",
              "01_washington_1789      0.0     0.02     0.00\n",
              "02_washington_1793      0.0     0.00     0.00\n",
              "03_adams_john_1797      0.0     0.04     0.00\n",
              "04_jefferson_1801       0.0     0.05     0.07\n",
              "05_jefferson_1805       0.0     0.04     0.03\n",
              "...                     ...      ...      ...\n",
              "58_trump_2017           0.0     0.00     0.00\n",
              "59_biden_2021           0.0     0.02     0.00\n",
              "60_Thomas_Jefferson     0.0     0.08     0.09\n",
              "61_James_Monroe         0.0     0.07     0.00\n",
              "62_Abraham_Lincoln      0.0     0.00     0.00\n",
              "\n",
              "[62 rows x 3 columns]"
            ],
            "text/html": [
              "\n",
              "  <div id=\"df-84483c85-0c56-49e9-b8ff-023ceee8bc67\" class=\"colab-df-container\">\n",
              "    <div>\n",
              "<style scoped>\n",
              "    .dataframe tbody tr th:only-of-type {\n",
              "        vertical-align: middle;\n",
              "    }\n",
              "\n",
              "    .dataframe tbody tr th {\n",
              "        vertical-align: top;\n",
              "    }\n",
              "\n",
              "    .dataframe thead th {\n",
              "        text-align: right;\n",
              "    }\n",
              "</style>\n",
              "<table border=\"1\" class=\"dataframe\">\n",
              "  <thead>\n",
              "    <tr style=\"text-align: right;\">\n",
              "      <th></th>\n",
              "      <th>fought</th>\n",
              "      <th>liberty</th>\n",
              "      <th>freedom</th>\n",
              "    </tr>\n",
              "  </thead>\n",
              "  <tbody>\n",
              "    <tr>\n",
              "      <th>01_washington_1789</th>\n",
              "      <td>0.0</td>\n",
              "      <td>0.02</td>\n",
              "      <td>0.00</td>\n",
              "    </tr>\n",
              "    <tr>\n",
              "      <th>02_washington_1793</th>\n",
              "      <td>0.0</td>\n",
              "      <td>0.00</td>\n",
              "      <td>0.00</td>\n",
              "    </tr>\n",
              "    <tr>\n",
              "      <th>03_adams_john_1797</th>\n",
              "      <td>0.0</td>\n",
              "      <td>0.04</td>\n",
              "      <td>0.00</td>\n",
              "    </tr>\n",
              "    <tr>\n",
              "      <th>04_jefferson_1801</th>\n",
              "      <td>0.0</td>\n",
              "      <td>0.05</td>\n",
              "      <td>0.07</td>\n",
              "    </tr>\n",
              "    <tr>\n",
              "      <th>05_jefferson_1805</th>\n",
              "      <td>0.0</td>\n",
              "      <td>0.04</td>\n",
              "      <td>0.03</td>\n",
              "    </tr>\n",
              "    <tr>\n",
              "      <th>...</th>\n",
              "      <td>...</td>\n",
              "      <td>...</td>\n",
              "      <td>...</td>\n",
              "    </tr>\n",
              "    <tr>\n",
              "      <th>58_trump_2017</th>\n",
              "      <td>0.0</td>\n",
              "      <td>0.00</td>\n",
              "      <td>0.00</td>\n",
              "    </tr>\n",
              "    <tr>\n",
              "      <th>59_biden_2021</th>\n",
              "      <td>0.0</td>\n",
              "      <td>0.02</td>\n",
              "      <td>0.00</td>\n",
              "    </tr>\n",
              "    <tr>\n",
              "      <th>60_Thomas_Jefferson</th>\n",
              "      <td>0.0</td>\n",
              "      <td>0.08</td>\n",
              "      <td>0.09</td>\n",
              "    </tr>\n",
              "    <tr>\n",
              "      <th>61_James_Monroe</th>\n",
              "      <td>0.0</td>\n",
              "      <td>0.07</td>\n",
              "      <td>0.00</td>\n",
              "    </tr>\n",
              "    <tr>\n",
              "      <th>62_Abraham_Lincoln</th>\n",
              "      <td>0.0</td>\n",
              "      <td>0.00</td>\n",
              "      <td>0.00</td>\n",
              "    </tr>\n",
              "  </tbody>\n",
              "</table>\n",
              "<p>62 rows × 3 columns</p>\n",
              "</div>\n",
              "    <div class=\"colab-df-buttons\">\n",
              "\n",
              "  <div class=\"colab-df-container\">\n",
              "    <button class=\"colab-df-convert\" onclick=\"convertToInteractive('df-84483c85-0c56-49e9-b8ff-023ceee8bc67')\"\n",
              "            title=\"Convert this dataframe to an interactive table.\"\n",
              "            style=\"display:none;\">\n",
              "\n",
              "  <svg xmlns=\"http://www.w3.org/2000/svg\" height=\"24px\" viewBox=\"0 -960 960 960\">\n",
              "    <path d=\"M120-120v-720h720v720H120Zm60-500h600v-160H180v160Zm220 220h160v-160H400v160Zm0 220h160v-160H400v160ZM180-400h160v-160H180v160Zm440 0h160v-160H620v160ZM180-180h160v-160H180v160Zm440 0h160v-160H620v160Z\"/>\n",
              "  </svg>\n",
              "    </button>\n",
              "\n",
              "  <style>\n",
              "    .colab-df-container {\n",
              "      display:flex;\n",
              "      gap: 12px;\n",
              "    }\n",
              "\n",
              "    .colab-df-convert {\n",
              "      background-color: #E8F0FE;\n",
              "      border: none;\n",
              "      border-radius: 50%;\n",
              "      cursor: pointer;\n",
              "      display: none;\n",
              "      fill: #1967D2;\n",
              "      height: 32px;\n",
              "      padding: 0 0 0 0;\n",
              "      width: 32px;\n",
              "    }\n",
              "\n",
              "    .colab-df-convert:hover {\n",
              "      background-color: #E2EBFA;\n",
              "      box-shadow: 0px 1px 2px rgba(60, 64, 67, 0.3), 0px 1px 3px 1px rgba(60, 64, 67, 0.15);\n",
              "      fill: #174EA6;\n",
              "    }\n",
              "\n",
              "    .colab-df-buttons div {\n",
              "      margin-bottom: 4px;\n",
              "    }\n",
              "\n",
              "    [theme=dark] .colab-df-convert {\n",
              "      background-color: #3B4455;\n",
              "      fill: #D2E3FC;\n",
              "    }\n",
              "\n",
              "    [theme=dark] .colab-df-convert:hover {\n",
              "      background-color: #434B5C;\n",
              "      box-shadow: 0px 1px 3px 1px rgba(0, 0, 0, 0.15);\n",
              "      filter: drop-shadow(0px 1px 2px rgba(0, 0, 0, 0.3));\n",
              "      fill: #FFFFFF;\n",
              "    }\n",
              "  </style>\n",
              "\n",
              "    <script>\n",
              "      const buttonEl =\n",
              "        document.querySelector('#df-84483c85-0c56-49e9-b8ff-023ceee8bc67 button.colab-df-convert');\n",
              "      buttonEl.style.display =\n",
              "        google.colab.kernel.accessAllowed ? 'block' : 'none';\n",
              "\n",
              "      async function convertToInteractive(key) {\n",
              "        const element = document.querySelector('#df-84483c85-0c56-49e9-b8ff-023ceee8bc67');\n",
              "        const dataTable =\n",
              "          await google.colab.kernel.invokeFunction('convertToInteractive',\n",
              "                                                    [key], {});\n",
              "        if (!dataTable) return;\n",
              "\n",
              "        const docLinkHtml = 'Like what you see? Visit the ' +\n",
              "          '<a target=\"_blank\" href=https://colab.research.google.com/notebooks/data_table.ipynb>data table notebook</a>'\n",
              "          + ' to learn more about interactive tables.';\n",
              "        element.innerHTML = '';\n",
              "        dataTable['output_type'] = 'display_data';\n",
              "        await google.colab.output.renderOutput(dataTable, element);\n",
              "        const docLink = document.createElement('div');\n",
              "        docLink.innerHTML = docLinkHtml;\n",
              "        element.appendChild(docLink);\n",
              "      }\n",
              "    </script>\n",
              "  </div>\n",
              "\n",
              "\n",
              "<div id=\"df-cc80b968-c4e1-499c-910f-2d0bd76b18f4\">\n",
              "  <button class=\"colab-df-quickchart\" onclick=\"quickchart('df-cc80b968-c4e1-499c-910f-2d0bd76b18f4')\"\n",
              "            title=\"Suggest charts\"\n",
              "            style=\"display:none;\">\n",
              "\n",
              "<svg xmlns=\"http://www.w3.org/2000/svg\" height=\"24px\"viewBox=\"0 0 24 24\"\n",
              "     width=\"24px\">\n",
              "    <g>\n",
              "        <path d=\"M19 3H5c-1.1 0-2 .9-2 2v14c0 1.1.9 2 2 2h14c1.1 0 2-.9 2-2V5c0-1.1-.9-2-2-2zM9 17H7v-7h2v7zm4 0h-2V7h2v10zm4 0h-2v-4h2v4z\"/>\n",
              "    </g>\n",
              "</svg>\n",
              "  </button>\n",
              "\n",
              "<style>\n",
              "  .colab-df-quickchart {\n",
              "      --bg-color: #E8F0FE;\n",
              "      --fill-color: #1967D2;\n",
              "      --hover-bg-color: #E2EBFA;\n",
              "      --hover-fill-color: #174EA6;\n",
              "      --disabled-fill-color: #AAA;\n",
              "      --disabled-bg-color: #DDD;\n",
              "  }\n",
              "\n",
              "  [theme=dark] .colab-df-quickchart {\n",
              "      --bg-color: #3B4455;\n",
              "      --fill-color: #D2E3FC;\n",
              "      --hover-bg-color: #434B5C;\n",
              "      --hover-fill-color: #FFFFFF;\n",
              "      --disabled-bg-color: #3B4455;\n",
              "      --disabled-fill-color: #666;\n",
              "  }\n",
              "\n",
              "  .colab-df-quickchart {\n",
              "    background-color: var(--bg-color);\n",
              "    border: none;\n",
              "    border-radius: 50%;\n",
              "    cursor: pointer;\n",
              "    display: none;\n",
              "    fill: var(--fill-color);\n",
              "    height: 32px;\n",
              "    padding: 0;\n",
              "    width: 32px;\n",
              "  }\n",
              "\n",
              "  .colab-df-quickchart:hover {\n",
              "    background-color: var(--hover-bg-color);\n",
              "    box-shadow: 0 1px 2px rgba(60, 64, 67, 0.3), 0 1px 3px 1px rgba(60, 64, 67, 0.15);\n",
              "    fill: var(--button-hover-fill-color);\n",
              "  }\n",
              "\n",
              "  .colab-df-quickchart-complete:disabled,\n",
              "  .colab-df-quickchart-complete:disabled:hover {\n",
              "    background-color: var(--disabled-bg-color);\n",
              "    fill: var(--disabled-fill-color);\n",
              "    box-shadow: none;\n",
              "  }\n",
              "\n",
              "  .colab-df-spinner {\n",
              "    border: 2px solid var(--fill-color);\n",
              "    border-color: transparent;\n",
              "    border-bottom-color: var(--fill-color);\n",
              "    animation:\n",
              "      spin 1s steps(1) infinite;\n",
              "  }\n",
              "\n",
              "  @keyframes spin {\n",
              "    0% {\n",
              "      border-color: transparent;\n",
              "      border-bottom-color: var(--fill-color);\n",
              "      border-left-color: var(--fill-color);\n",
              "    }\n",
              "    20% {\n",
              "      border-color: transparent;\n",
              "      border-left-color: var(--fill-color);\n",
              "      border-top-color: var(--fill-color);\n",
              "    }\n",
              "    30% {\n",
              "      border-color: transparent;\n",
              "      border-left-color: var(--fill-color);\n",
              "      border-top-color: var(--fill-color);\n",
              "      border-right-color: var(--fill-color);\n",
              "    }\n",
              "    40% {\n",
              "      border-color: transparent;\n",
              "      border-right-color: var(--fill-color);\n",
              "      border-top-color: var(--fill-color);\n",
              "    }\n",
              "    60% {\n",
              "      border-color: transparent;\n",
              "      border-right-color: var(--fill-color);\n",
              "    }\n",
              "    80% {\n",
              "      border-color: transparent;\n",
              "      border-right-color: var(--fill-color);\n",
              "      border-bottom-color: var(--fill-color);\n",
              "    }\n",
              "    90% {\n",
              "      border-color: transparent;\n",
              "      border-bottom-color: var(--fill-color);\n",
              "    }\n",
              "  }\n",
              "</style>\n",
              "\n",
              "  <script>\n",
              "    async function quickchart(key) {\n",
              "      const quickchartButtonEl =\n",
              "        document.querySelector('#' + key + ' button');\n",
              "      quickchartButtonEl.disabled = true;  // To prevent multiple clicks.\n",
              "      quickchartButtonEl.classList.add('colab-df-spinner');\n",
              "      try {\n",
              "        const charts = await google.colab.kernel.invokeFunction(\n",
              "            'suggestCharts', [key], {});\n",
              "      } catch (error) {\n",
              "        console.error('Error during call to suggestCharts:', error);\n",
              "      }\n",
              "      quickchartButtonEl.classList.remove('colab-df-spinner');\n",
              "      quickchartButtonEl.classList.add('colab-df-quickchart-complete');\n",
              "    }\n",
              "    (() => {\n",
              "      let quickchartButtonEl =\n",
              "        document.querySelector('#df-cc80b968-c4e1-499c-910f-2d0bd76b18f4 button');\n",
              "      quickchartButtonEl.style.display =\n",
              "        google.colab.kernel.accessAllowed ? 'block' : 'none';\n",
              "    })();\n",
              "  </script>\n",
              "</div>\n",
              "\n",
              "    </div>\n",
              "  </div>\n"
            ],
            "application/vnd.google.colaboratory.intrinsic+json": {
              "type": "dataframe",
              "summary": "{\n  \"name\": \"tfidf_slice\",\n  \"rows\": 62,\n  \"fields\": [\n    {\n      \"column\": \"fought\",\n      \"properties\": {\n        \"dtype\": \"number\",\n        \"std\": 0.009681604947124963,\n        \"min\": 0.0,\n        \"max\": 0.04,\n        \"num_unique_values\": 4,\n        \"samples\": [\n          0.02,\n          0.04,\n          0.0\n        ],\n        \"semantic_type\": \"\",\n        \"description\": \"\"\n      }\n    },\n    {\n      \"column\": \"liberty\",\n      \"properties\": {\n        \"dtype\": \"number\",\n        \"std\": 0.03005723431627604,\n        \"min\": 0.0,\n        \"max\": 0.17,\n        \"num_unique_values\": 11,\n        \"samples\": [\n          0.03,\n          0.02,\n          0.17\n        ],\n        \"semantic_type\": \"\",\n        \"description\": \"\"\n      }\n    },\n    {\n      \"column\": \"freedom\",\n      \"properties\": {\n        \"dtype\": \"number\",\n        \"std\": 0.05950905258892741,\n        \"min\": 0.0,\n        \"max\": 0.35,\n        \"num_unique_values\": 17,\n        \"samples\": [\n          0.0,\n          0.07,\n          0.01\n        ],\n        \"semantic_type\": \"\",\n        \"description\": \"\"\n      }\n    }\n  ]\n}"
            }
          },
          "metadata": {},
          "execution_count": 36
        }
      ]
    },
    {
      "cell_type": "markdown",
      "source": [
        "# **A primitive search engine**"
      ],
      "metadata": {
        "id": "Oey_a8MI0B5B"
      }
    },
    {
      "cell_type": "code",
      "source": [
        "# Slice for specific words and explicitly create a copy to avoid SettingWithCopyWarning\n",
        "tfidf_slice = tfidf_df[['time', 'honor', 'war']].copy()\n",
        "\n",
        "# Sum the TF-IDF scores for the selected words in each document\n",
        "tfidf_slice['total_score'] = tfidf_slice.sum(axis=1)\n",
        "\n",
        "\n",
        "# Sort documents by total_score in descending order to see which has the highest score\n",
        "sorted_docs = tfidf_slice.sort_values(by='total_score', ascending=False)\n",
        "\n",
        "# Get the index (document ID) of the document with the highest total_score\n",
        "best_fit_document_index = sorted_docs.index[0]\n",
        "\n",
        "\n",
        "# Select the top 3 documents\n",
        "top_documents = sorted_docs.head(3)\n",
        "\n",
        "# Display the indices (document IDs) and scores of the top 3 documents\n",
        "print(\"Top 3 documents and their scores:\")\n",
        "print(top_documents[['total_score']])\n",
        "\n",
        "\n",
        "\n"
      ],
      "metadata": {
        "colab": {
          "base_uri": "https://localhost:8080/"
        },
        "id": "nybKJz3oyxMl",
        "outputId": "18e42144-8b4f-497a-e88f-afe5684189fb"
      },
      "execution_count": 37,
      "outputs": [
        {
          "output_type": "stream",
          "name": "stdout",
          "text": [
            "Top 3 documents and their scores:\n",
            "                 total_score\n",
            "20_lincoln_1865     0.291493\n",
            "07_madison_1813     0.279621\n",
            "09_monroe_1821      0.176722\n"
          ]
        }
      ]
    },
    {
      "cell_type": "markdown",
      "source": [
        "# **Document similarity**"
      ],
      "metadata": {
        "id": "NFsHUAwu89sO"
      }
    },
    {
      "cell_type": "code",
      "source": [
        "import numpy as np\n",
        "import pandas as pd\n",
        "import seaborn as sns\n",
        "import matplotlib.pyplot as plt\n",
        "\n",
        "\n",
        "# Compute the dot product\n",
        "similarity_matrix = tfidf_df.dot(tfidf_df.T)\n",
        "\n",
        "# Generate a heatmap\n",
        "plt.figure(figsize=(10, 8))\n",
        "sns.heatmap(similarity_matrix, cmap=\"YlGnBu\")\n",
        "plt.title('Document Similarity Heatmap')\n",
        "plt.xlabel('Document Index')\n",
        "plt.ylabel('Document Index')\n",
        "plt.show()\n"
      ],
      "metadata": {
        "colab": {
          "base_uri": "https://localhost:8080/",
          "height": 695
        },
        "id": "90MeL1yb9J8x",
        "outputId": "cfe30b7a-4681-4139-fcf9-a77ec6c72d86"
      },
      "execution_count": 38,
      "outputs": [
        {
          "output_type": "display_data",
          "data": {
            "text/plain": [
              "<Figure size 1000x800 with 2 Axes>"
            ],
            "image/png": "[encoded data removed]"
          },
          "metadata": {}
        }
      ]
    },
    {
      "cell_type": "markdown",
      "source": [
        "**The cell below will take the title of one of the speeches and return the 3 most similar speechs as determined by cosine similarity.**"
      ],
      "metadata": {
        "id": "qK-nysWNooCC"
      }
    },
    {
      "cell_type": "code",
      "source": [
        "from sklearn.metrics.pairwise import cosine_similarity\n",
        "\n",
        "def find_most_similar_docs_by_title(tfidf_vector, target_doc_title, text_titles, top_n=3):\n",
        "    # Find the index of the target document based on its title\n",
        "    if target_doc_title in text_titles:\n",
        "        target_doc_index = text_titles.index(target_doc_title)\n",
        "    else:\n",
        "        return \"The document title does not exist in the corpus.\"\n",
        "\n",
        "    # Calculate cosine similarity between the target document and all documents in the corpus\n",
        "    cosine_similarities = cosine_similarity(tfidf_vector[target_doc_index], tfidf_vector).flatten()\n",
        "\n",
        "    # Get the indices of the top_n most similar documents, excluding the target document itself\n",
        "    most_similar_doc_indices = cosine_similarities.argsort()[-top_n-1:-1][::-1]\n",
        "\n",
        "    # Map indices to titles\n",
        "    most_similar_doc_titles = [text_titles[i] for i in most_similar_doc_indices]\n",
        "\n",
        "    # Return the titles of the top_n most similar documents\n",
        "    return most_similar_doc_titles\n",
        "\n",
        "# Example usage\n",
        "target_doc_title = \"61_James_Monroe\"  # Replace with your actual document title\n",
        "#target_doc_title = \"60_Thomas_Jefferson\"\n",
        "#target_doc_title = \"62_Abraham_Lincoln\"\n",
        "similar_docs_titles = find_most_similar_docs_by_title(tfidf_vector, target_doc_title, text_titles)\n",
        "print(\"Titles of the 3 most similar documents:\", similar_docs_titles)\n"
      ],
      "metadata": {
        "id": "LUEGJK10mzMm",
        "outputId": "ebb026d7-01b6-43b3-eae3-2bcff3d2659c",
        "colab": {
          "base_uri": "https://localhost:8080/"
        }
      },
      "execution_count": 40,
      "outputs": [
        {
          "output_type": "stream",
          "name": "stdout",
          "text": [
            "Titles of the 3 most similar documents: ['47_nixon_1973', '33_wilson_1917', '56_obama_2009']\n"
          ]
        }
      ]
    }
  ],
  "metadata": {
    "kernelspec": {
      "display_name": "Python 3",
      "language": "python",
      "name": "python3"
    },
    "language_info": {
      "codemirror_mode": {
        "name": "ipython",
        "version": 3
      },
      "file_extension": ".py",
      "mimetype": "text/x-python",
      "name": "python",
      "nbconvert_exporter": "python",
      "pygments_lexer": "ipython3",
      "version": "3.8.8"
    },
    "colab": {
      "provenance": [],
      "include_colab_link": true
    }
  },
  "nbformat": 4,
  "nbformat_minor": 0
}